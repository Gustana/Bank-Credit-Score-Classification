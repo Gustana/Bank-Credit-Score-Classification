{
 "cells": [
  {
   "cell_type": "markdown",
   "id": "2797dadc-a32b-4faa-87be-9ffa6a7a0ec0",
   "metadata": {},
   "source": [
    "# Background Problem"
   ]
  },
  {
   "cell_type": "markdown",
   "id": "e285e58d-d0ce-4abb-b5ca-28fe386f533a",
   "metadata": {},
   "source": [
    "- Based on this [reference](https://www.sydle.com/blog/credit-score-66688f2a23f910085db97011), credit score is a metric used to determine credit worthiness of a customer. In other words, this score reveals how reliable a customer is in their ability to pay off their debt.\n",
    "- From a banking perspective as a lender, the ability to identify customers' credit scores will lower the risk of non-performing loans. Consequently, this **will reduce the bank's financial risk by granting credit only to customers with good credit scores.**"
   ]
  },
  {
   "cell_type": "markdown",
   "id": "4e15d38a-f9b3-43b5-b0a4-64b201c22a17",
   "metadata": {},
   "source": [
    "# Objective"
   ]
  },
  {
   "cell_type": "markdown",
   "id": "5b86265c-801a-4ca0-b145-b1c39da01b03",
   "metadata": {},
   "source": [
    "- In this project, I will analyze and create a classification model using a [dataset](https://www.kaggle.com/datasets/parisrohan/credit-score-classification/data) containing banking customer data.\n",
    "\n",
    "- Since the goal of the project to identify customers with good credit scores, here are the confusion matrix elements:\n",
    "    - `Positive class: good credit score`\n",
    "    - `Negative class: standard or bad credit score`\n",
    "    - TP: customers with good credit scores classified as good credit scores\n",
    "    - FN: customers with **good credit scores classified as bad or standard credit scores**\n",
    "    - FP: customers with **bad or standard credit scores classified as good credit scores**\n",
    "    - TN: customers with bad or standard credit scores classified as bad or standard credit scores"
   ]
  },
  {
   "cell_type": "markdown",
   "id": "271bf60c-8617-43e0-9726-0b7fe838b9a9",
   "metadata": {},
   "source": [
    "## Consideration"
   ]
  },
  {
   "cell_type": "markdown",
   "id": "d5bc3bc3-2910-43c0-a8ef-0df5eca88f3c",
   "metadata": {},
   "source": [
    "- The chosen metric for the model is precission to decrease the probability of negative class classified as positive class.\n",
    "\n",
    "$$\n",
    "precission = \\frac{TP}{TP + FP}\n",
    "$$\n",
    "\n",
    "- To build a robust model, **this project aims to build a model with minium of 90% precission**\n",
    "- These are machine learning algorithms to be used to build the model using cross-validation technique:\n",
    "    - knn\n",
    "    - svm\n",
    "    - decision tree\n",
    "    - random forest\n",
    "    - boosting\n",
    "- The best model from cross-validation will be enhanced through hyperparameter tuning."
   ]
  },
  {
   "cell_type": "code",
   "execution_count": 53,
   "id": "3ae2433a-56fa-4b65-9485-7a948f5094d1",
   "metadata": {},
   "outputs": [],
   "source": [
    "from os.path import join as path_join\n",
    "import pandas as pd\n",
    "import numpy as np\n",
    "import re\n",
    "\n",
    "import const"
   ]
  },
  {
   "cell_type": "markdown",
   "id": "b02d0955-11ae-4fed-a287-e4b080b3e4cf",
   "metadata": {},
   "source": [
    "# Data Loading"
   ]
  },
  {
   "cell_type": "code",
   "execution_count": 54,
   "id": "da8f7ce8-a843-4a67-971f-e0ac13dc3a6e",
   "metadata": {},
   "outputs": [],
   "source": [
    "df = pd.read_csv(\n",
    "    path_join(const.DS_DIR_PATH, const.DS_FILE_NAME),\n",
    "    low_memory=False\n",
    ")"
   ]
  },
  {
   "cell_type": "code",
   "execution_count": 55,
   "id": "bcfc3999-fcd6-4430-a990-67249d07856d",
   "metadata": {},
   "outputs": [
    {
     "data": {
      "text/html": [
       "<div>\n",
       "<style scoped>\n",
       "    .dataframe tbody tr th:only-of-type {\n",
       "        vertical-align: middle;\n",
       "    }\n",
       "\n",
       "    .dataframe tbody tr th {\n",
       "        vertical-align: top;\n",
       "    }\n",
       "\n",
       "    .dataframe thead th {\n",
       "        text-align: right;\n",
       "    }\n",
       "</style>\n",
       "<table border=\"1\" class=\"dataframe\">\n",
       "  <thead>\n",
       "    <tr style=\"text-align: right;\">\n",
       "      <th></th>\n",
       "      <th>0</th>\n",
       "      <th>1</th>\n",
       "      <th>2</th>\n",
       "      <th>3</th>\n",
       "      <th>4</th>\n",
       "    </tr>\n",
       "  </thead>\n",
       "  <tbody>\n",
       "    <tr>\n",
       "      <th>ID</th>\n",
       "      <td>0x1602</td>\n",
       "      <td>0x1603</td>\n",
       "      <td>0x1604</td>\n",
       "      <td>0x1605</td>\n",
       "      <td>0x1606</td>\n",
       "    </tr>\n",
       "    <tr>\n",
       "      <th>Customer_ID</th>\n",
       "      <td>CUS_0xd40</td>\n",
       "      <td>CUS_0xd40</td>\n",
       "      <td>CUS_0xd40</td>\n",
       "      <td>CUS_0xd40</td>\n",
       "      <td>CUS_0xd40</td>\n",
       "    </tr>\n",
       "    <tr>\n",
       "      <th>Month</th>\n",
       "      <td>January</td>\n",
       "      <td>February</td>\n",
       "      <td>March</td>\n",
       "      <td>April</td>\n",
       "      <td>May</td>\n",
       "    </tr>\n",
       "    <tr>\n",
       "      <th>Name</th>\n",
       "      <td>Aaron Maashoh</td>\n",
       "      <td>Aaron Maashoh</td>\n",
       "      <td>Aaron Maashoh</td>\n",
       "      <td>Aaron Maashoh</td>\n",
       "      <td>Aaron Maashoh</td>\n",
       "    </tr>\n",
       "    <tr>\n",
       "      <th>Age</th>\n",
       "      <td>23</td>\n",
       "      <td>23</td>\n",
       "      <td>-500</td>\n",
       "      <td>23</td>\n",
       "      <td>23</td>\n",
       "    </tr>\n",
       "    <tr>\n",
       "      <th>SSN</th>\n",
       "      <td>821-00-0265</td>\n",
       "      <td>821-00-0265</td>\n",
       "      <td>821-00-0265</td>\n",
       "      <td>821-00-0265</td>\n",
       "      <td>821-00-0265</td>\n",
       "    </tr>\n",
       "    <tr>\n",
       "      <th>Occupation</th>\n",
       "      <td>Scientist</td>\n",
       "      <td>Scientist</td>\n",
       "      <td>Scientist</td>\n",
       "      <td>Scientist</td>\n",
       "      <td>Scientist</td>\n",
       "    </tr>\n",
       "    <tr>\n",
       "      <th>Annual_Income</th>\n",
       "      <td>19114.12</td>\n",
       "      <td>19114.12</td>\n",
       "      <td>19114.12</td>\n",
       "      <td>19114.12</td>\n",
       "      <td>19114.12</td>\n",
       "    </tr>\n",
       "    <tr>\n",
       "      <th>Monthly_Inhand_Salary</th>\n",
       "      <td>1824.843333</td>\n",
       "      <td>NaN</td>\n",
       "      <td>NaN</td>\n",
       "      <td>NaN</td>\n",
       "      <td>1824.843333</td>\n",
       "    </tr>\n",
       "    <tr>\n",
       "      <th>Num_Bank_Accounts</th>\n",
       "      <td>3</td>\n",
       "      <td>3</td>\n",
       "      <td>3</td>\n",
       "      <td>3</td>\n",
       "      <td>3</td>\n",
       "    </tr>\n",
       "    <tr>\n",
       "      <th>Num_Credit_Card</th>\n",
       "      <td>4</td>\n",
       "      <td>4</td>\n",
       "      <td>4</td>\n",
       "      <td>4</td>\n",
       "      <td>4</td>\n",
       "    </tr>\n",
       "    <tr>\n",
       "      <th>Interest_Rate</th>\n",
       "      <td>3</td>\n",
       "      <td>3</td>\n",
       "      <td>3</td>\n",
       "      <td>3</td>\n",
       "      <td>3</td>\n",
       "    </tr>\n",
       "    <tr>\n",
       "      <th>Num_of_Loan</th>\n",
       "      <td>4</td>\n",
       "      <td>4</td>\n",
       "      <td>4</td>\n",
       "      <td>4</td>\n",
       "      <td>4</td>\n",
       "    </tr>\n",
       "    <tr>\n",
       "      <th>Type_of_Loan</th>\n",
       "      <td>Auto Loan, Credit-Builder Loan, Personal Loan,...</td>\n",
       "      <td>Auto Loan, Credit-Builder Loan, Personal Loan,...</td>\n",
       "      <td>Auto Loan, Credit-Builder Loan, Personal Loan,...</td>\n",
       "      <td>Auto Loan, Credit-Builder Loan, Personal Loan,...</td>\n",
       "      <td>Auto Loan, Credit-Builder Loan, Personal Loan,...</td>\n",
       "    </tr>\n",
       "    <tr>\n",
       "      <th>Delay_from_due_date</th>\n",
       "      <td>3</td>\n",
       "      <td>-1</td>\n",
       "      <td>3</td>\n",
       "      <td>5</td>\n",
       "      <td>6</td>\n",
       "    </tr>\n",
       "    <tr>\n",
       "      <th>Num_of_Delayed_Payment</th>\n",
       "      <td>7</td>\n",
       "      <td>NaN</td>\n",
       "      <td>7</td>\n",
       "      <td>4</td>\n",
       "      <td>NaN</td>\n",
       "    </tr>\n",
       "    <tr>\n",
       "      <th>Changed_Credit_Limit</th>\n",
       "      <td>11.27</td>\n",
       "      <td>11.27</td>\n",
       "      <td>_</td>\n",
       "      <td>6.27</td>\n",
       "      <td>11.27</td>\n",
       "    </tr>\n",
       "    <tr>\n",
       "      <th>Num_Credit_Inquiries</th>\n",
       "      <td>4.0</td>\n",
       "      <td>4.0</td>\n",
       "      <td>4.0</td>\n",
       "      <td>4.0</td>\n",
       "      <td>4.0</td>\n",
       "    </tr>\n",
       "    <tr>\n",
       "      <th>Credit_Mix</th>\n",
       "      <td>_</td>\n",
       "      <td>Good</td>\n",
       "      <td>Good</td>\n",
       "      <td>Good</td>\n",
       "      <td>Good</td>\n",
       "    </tr>\n",
       "    <tr>\n",
       "      <th>Outstanding_Debt</th>\n",
       "      <td>809.98</td>\n",
       "      <td>809.98</td>\n",
       "      <td>809.98</td>\n",
       "      <td>809.98</td>\n",
       "      <td>809.98</td>\n",
       "    </tr>\n",
       "    <tr>\n",
       "      <th>Credit_Utilization_Ratio</th>\n",
       "      <td>26.82262</td>\n",
       "      <td>31.94496</td>\n",
       "      <td>28.609352</td>\n",
       "      <td>31.377862</td>\n",
       "      <td>24.797347</td>\n",
       "    </tr>\n",
       "    <tr>\n",
       "      <th>Credit_History_Age</th>\n",
       "      <td>22 Years and 1 Months</td>\n",
       "      <td>NaN</td>\n",
       "      <td>22 Years and 3 Months</td>\n",
       "      <td>22 Years and 4 Months</td>\n",
       "      <td>22 Years and 5 Months</td>\n",
       "    </tr>\n",
       "    <tr>\n",
       "      <th>Payment_of_Min_Amount</th>\n",
       "      <td>No</td>\n",
       "      <td>No</td>\n",
       "      <td>No</td>\n",
       "      <td>No</td>\n",
       "      <td>No</td>\n",
       "    </tr>\n",
       "    <tr>\n",
       "      <th>Total_EMI_per_month</th>\n",
       "      <td>49.574949</td>\n",
       "      <td>49.574949</td>\n",
       "      <td>49.574949</td>\n",
       "      <td>49.574949</td>\n",
       "      <td>49.574949</td>\n",
       "    </tr>\n",
       "    <tr>\n",
       "      <th>Amount_invested_monthly</th>\n",
       "      <td>80.41529543900253</td>\n",
       "      <td>118.28022162236736</td>\n",
       "      <td>81.699521264648</td>\n",
       "      <td>199.4580743910713</td>\n",
       "      <td>41.420153086217326</td>\n",
       "    </tr>\n",
       "    <tr>\n",
       "      <th>Payment_Behaviour</th>\n",
       "      <td>High_spent_Small_value_payments</td>\n",
       "      <td>Low_spent_Large_value_payments</td>\n",
       "      <td>Low_spent_Medium_value_payments</td>\n",
       "      <td>Low_spent_Small_value_payments</td>\n",
       "      <td>High_spent_Medium_value_payments</td>\n",
       "    </tr>\n",
       "    <tr>\n",
       "      <th>Monthly_Balance</th>\n",
       "      <td>312.49408867943663</td>\n",
       "      <td>284.62916249607184</td>\n",
       "      <td>331.2098628537912</td>\n",
       "      <td>223.45130972736786</td>\n",
       "      <td>341.48923103222177</td>\n",
       "    </tr>\n",
       "    <tr>\n",
       "      <th>Credit_Score</th>\n",
       "      <td>Good</td>\n",
       "      <td>Good</td>\n",
       "      <td>Good</td>\n",
       "      <td>Good</td>\n",
       "      <td>Good</td>\n",
       "    </tr>\n",
       "  </tbody>\n",
       "</table>\n",
       "</div>"
      ],
      "text/plain": [
       "                                                                          0  \\\n",
       "ID                                                                   0x1602   \n",
       "Customer_ID                                                       CUS_0xd40   \n",
       "Month                                                               January   \n",
       "Name                                                          Aaron Maashoh   \n",
       "Age                                                                      23   \n",
       "SSN                                                             821-00-0265   \n",
       "Occupation                                                        Scientist   \n",
       "Annual_Income                                                      19114.12   \n",
       "Monthly_Inhand_Salary                                           1824.843333   \n",
       "Num_Bank_Accounts                                                         3   \n",
       "Num_Credit_Card                                                           4   \n",
       "Interest_Rate                                                             3   \n",
       "Num_of_Loan                                                               4   \n",
       "Type_of_Loan              Auto Loan, Credit-Builder Loan, Personal Loan,...   \n",
       "Delay_from_due_date                                                       3   \n",
       "Num_of_Delayed_Payment                                                    7   \n",
       "Changed_Credit_Limit                                                  11.27   \n",
       "Num_Credit_Inquiries                                                    4.0   \n",
       "Credit_Mix                                                                _   \n",
       "Outstanding_Debt                                                     809.98   \n",
       "Credit_Utilization_Ratio                                           26.82262   \n",
       "Credit_History_Age                                    22 Years and 1 Months   \n",
       "Payment_of_Min_Amount                                                    No   \n",
       "Total_EMI_per_month                                               49.574949   \n",
       "Amount_invested_monthly                                   80.41529543900253   \n",
       "Payment_Behaviour                           High_spent_Small_value_payments   \n",
       "Monthly_Balance                                          312.49408867943663   \n",
       "Credit_Score                                                           Good   \n",
       "\n",
       "                                                                          1  \\\n",
       "ID                                                                   0x1603   \n",
       "Customer_ID                                                       CUS_0xd40   \n",
       "Month                                                              February   \n",
       "Name                                                          Aaron Maashoh   \n",
       "Age                                                                      23   \n",
       "SSN                                                             821-00-0265   \n",
       "Occupation                                                        Scientist   \n",
       "Annual_Income                                                      19114.12   \n",
       "Monthly_Inhand_Salary                                                   NaN   \n",
       "Num_Bank_Accounts                                                         3   \n",
       "Num_Credit_Card                                                           4   \n",
       "Interest_Rate                                                             3   \n",
       "Num_of_Loan                                                               4   \n",
       "Type_of_Loan              Auto Loan, Credit-Builder Loan, Personal Loan,...   \n",
       "Delay_from_due_date                                                      -1   \n",
       "Num_of_Delayed_Payment                                                  NaN   \n",
       "Changed_Credit_Limit                                                  11.27   \n",
       "Num_Credit_Inquiries                                                    4.0   \n",
       "Credit_Mix                                                             Good   \n",
       "Outstanding_Debt                                                     809.98   \n",
       "Credit_Utilization_Ratio                                           31.94496   \n",
       "Credit_History_Age                                                      NaN   \n",
       "Payment_of_Min_Amount                                                    No   \n",
       "Total_EMI_per_month                                               49.574949   \n",
       "Amount_invested_monthly                                  118.28022162236736   \n",
       "Payment_Behaviour                            Low_spent_Large_value_payments   \n",
       "Monthly_Balance                                          284.62916249607184   \n",
       "Credit_Score                                                           Good   \n",
       "\n",
       "                                                                          2  \\\n",
       "ID                                                                   0x1604   \n",
       "Customer_ID                                                       CUS_0xd40   \n",
       "Month                                                                 March   \n",
       "Name                                                          Aaron Maashoh   \n",
       "Age                                                                    -500   \n",
       "SSN                                                             821-00-0265   \n",
       "Occupation                                                        Scientist   \n",
       "Annual_Income                                                      19114.12   \n",
       "Monthly_Inhand_Salary                                                   NaN   \n",
       "Num_Bank_Accounts                                                         3   \n",
       "Num_Credit_Card                                                           4   \n",
       "Interest_Rate                                                             3   \n",
       "Num_of_Loan                                                               4   \n",
       "Type_of_Loan              Auto Loan, Credit-Builder Loan, Personal Loan,...   \n",
       "Delay_from_due_date                                                       3   \n",
       "Num_of_Delayed_Payment                                                    7   \n",
       "Changed_Credit_Limit                                                      _   \n",
       "Num_Credit_Inquiries                                                    4.0   \n",
       "Credit_Mix                                                             Good   \n",
       "Outstanding_Debt                                                     809.98   \n",
       "Credit_Utilization_Ratio                                          28.609352   \n",
       "Credit_History_Age                                    22 Years and 3 Months   \n",
       "Payment_of_Min_Amount                                                    No   \n",
       "Total_EMI_per_month                                               49.574949   \n",
       "Amount_invested_monthly                                     81.699521264648   \n",
       "Payment_Behaviour                           Low_spent_Medium_value_payments   \n",
       "Monthly_Balance                                           331.2098628537912   \n",
       "Credit_Score                                                           Good   \n",
       "\n",
       "                                                                          3  \\\n",
       "ID                                                                   0x1605   \n",
       "Customer_ID                                                       CUS_0xd40   \n",
       "Month                                                                 April   \n",
       "Name                                                          Aaron Maashoh   \n",
       "Age                                                                      23   \n",
       "SSN                                                             821-00-0265   \n",
       "Occupation                                                        Scientist   \n",
       "Annual_Income                                                      19114.12   \n",
       "Monthly_Inhand_Salary                                                   NaN   \n",
       "Num_Bank_Accounts                                                         3   \n",
       "Num_Credit_Card                                                           4   \n",
       "Interest_Rate                                                             3   \n",
       "Num_of_Loan                                                               4   \n",
       "Type_of_Loan              Auto Loan, Credit-Builder Loan, Personal Loan,...   \n",
       "Delay_from_due_date                                                       5   \n",
       "Num_of_Delayed_Payment                                                    4   \n",
       "Changed_Credit_Limit                                                   6.27   \n",
       "Num_Credit_Inquiries                                                    4.0   \n",
       "Credit_Mix                                                             Good   \n",
       "Outstanding_Debt                                                     809.98   \n",
       "Credit_Utilization_Ratio                                          31.377862   \n",
       "Credit_History_Age                                    22 Years and 4 Months   \n",
       "Payment_of_Min_Amount                                                    No   \n",
       "Total_EMI_per_month                                               49.574949   \n",
       "Amount_invested_monthly                                   199.4580743910713   \n",
       "Payment_Behaviour                            Low_spent_Small_value_payments   \n",
       "Monthly_Balance                                          223.45130972736786   \n",
       "Credit_Score                                                           Good   \n",
       "\n",
       "                                                                          4  \n",
       "ID                                                                   0x1606  \n",
       "Customer_ID                                                       CUS_0xd40  \n",
       "Month                                                                   May  \n",
       "Name                                                          Aaron Maashoh  \n",
       "Age                                                                      23  \n",
       "SSN                                                             821-00-0265  \n",
       "Occupation                                                        Scientist  \n",
       "Annual_Income                                                      19114.12  \n",
       "Monthly_Inhand_Salary                                           1824.843333  \n",
       "Num_Bank_Accounts                                                         3  \n",
       "Num_Credit_Card                                                           4  \n",
       "Interest_Rate                                                             3  \n",
       "Num_of_Loan                                                               4  \n",
       "Type_of_Loan              Auto Loan, Credit-Builder Loan, Personal Loan,...  \n",
       "Delay_from_due_date                                                       6  \n",
       "Num_of_Delayed_Payment                                                  NaN  \n",
       "Changed_Credit_Limit                                                  11.27  \n",
       "Num_Credit_Inquiries                                                    4.0  \n",
       "Credit_Mix                                                             Good  \n",
       "Outstanding_Debt                                                     809.98  \n",
       "Credit_Utilization_Ratio                                          24.797347  \n",
       "Credit_History_Age                                    22 Years and 5 Months  \n",
       "Payment_of_Min_Amount                                                    No  \n",
       "Total_EMI_per_month                                               49.574949  \n",
       "Amount_invested_monthly                                  41.420153086217326  \n",
       "Payment_Behaviour                          High_spent_Medium_value_payments  \n",
       "Monthly_Balance                                          341.48923103222177  \n",
       "Credit_Score                                                           Good  "
      ]
     },
     "execution_count": 55,
     "metadata": {},
     "output_type": "execute_result"
    }
   ],
   "source": [
    "df.head().T"
   ]
  },
  {
   "cell_type": "code",
   "execution_count": 56,
   "id": "6372486b-6c5b-4e3d-9dcc-31fce8fde194",
   "metadata": {},
   "outputs": [
    {
     "name": "stdout",
     "output_type": "stream",
     "text": [
      "<class 'pandas.core.frame.DataFrame'>\n",
      "RangeIndex: 100000 entries, 0 to 99999\n",
      "Data columns (total 28 columns):\n",
      " #   Column                    Non-Null Count   Dtype  \n",
      "---  ------                    --------------   -----  \n",
      " 0   ID                        100000 non-null  object \n",
      " 1   Customer_ID               100000 non-null  object \n",
      " 2   Month                     100000 non-null  object \n",
      " 3   Name                      90015 non-null   object \n",
      " 4   Age                       100000 non-null  object \n",
      " 5   SSN                       100000 non-null  object \n",
      " 6   Occupation                100000 non-null  object \n",
      " 7   Annual_Income             100000 non-null  object \n",
      " 8   Monthly_Inhand_Salary     84998 non-null   float64\n",
      " 9   Num_Bank_Accounts         100000 non-null  int64  \n",
      " 10  Num_Credit_Card           100000 non-null  int64  \n",
      " 11  Interest_Rate             100000 non-null  int64  \n",
      " 12  Num_of_Loan               100000 non-null  object \n",
      " 13  Type_of_Loan              88592 non-null   object \n",
      " 14  Delay_from_due_date       100000 non-null  int64  \n",
      " 15  Num_of_Delayed_Payment    92998 non-null   object \n",
      " 16  Changed_Credit_Limit      100000 non-null  object \n",
      " 17  Num_Credit_Inquiries      98035 non-null   float64\n",
      " 18  Credit_Mix                100000 non-null  object \n",
      " 19  Outstanding_Debt          100000 non-null  object \n",
      " 20  Credit_Utilization_Ratio  100000 non-null  float64\n",
      " 21  Credit_History_Age        90970 non-null   object \n",
      " 22  Payment_of_Min_Amount     100000 non-null  object \n",
      " 23  Total_EMI_per_month       100000 non-null  float64\n",
      " 24  Amount_invested_monthly   95521 non-null   object \n",
      " 25  Payment_Behaviour         100000 non-null  object \n",
      " 26  Monthly_Balance           98800 non-null   object \n",
      " 27  Credit_Score              100000 non-null  object \n",
      "dtypes: float64(4), int64(4), object(20)\n",
      "memory usage: 21.4+ MB\n"
     ]
    }
   ],
   "source": [
    "df.info()"
   ]
  },
  {
   "cell_type": "markdown",
   "id": "b8eba83f-ab9c-46a8-adf3-ad96e66cef36",
   "metadata": {},
   "source": [
    "## Missing Values Inspection"
   ]
  },
  {
   "cell_type": "code",
   "execution_count": 57,
   "id": "4a1972a0-b9bd-475a-b66c-4c9f044f2e1f",
   "metadata": {},
   "outputs": [
    {
     "data": {
      "text/plain": [
       "Name                        9985\n",
       "Monthly_Inhand_Salary      15002\n",
       "Type_of_Loan               11408\n",
       "Num_of_Delayed_Payment      7002\n",
       "Num_Credit_Inquiries        1965\n",
       "Credit_History_Age          9030\n",
       "Amount_invested_monthly     4479\n",
       "Monthly_Balance             1200\n",
       "dtype: int64"
      ]
     },
     "execution_count": 57,
     "metadata": {},
     "output_type": "execute_result"
    }
   ],
   "source": [
    "# print columns containing missing values\n",
    "df[df.columns[df.isna().any()]].isna().sum()"
   ]
  },
  {
   "cell_type": "markdown",
   "id": "92960c8a-93a9-4e69-b152-b0e542e1ac2b",
   "metadata": {},
   "source": [
    "## Columns Descriptions"
   ]
  },
  {
   "cell_type": "code",
   "execution_count": 58,
   "id": "b13f2d47-b763-4f9c-a1a6-80496b0434f1",
   "metadata": {},
   "outputs": [
    {
     "data": {
      "text/plain": [
       "Index(['ID', 'Customer_ID', 'Month', 'Name', 'Age', 'SSN', 'Occupation',\n",
       "       'Annual_Income', 'Monthly_Inhand_Salary', 'Num_Bank_Accounts',\n",
       "       'Num_Credit_Card', 'Interest_Rate', 'Num_of_Loan', 'Type_of_Loan',\n",
       "       'Delay_from_due_date', 'Num_of_Delayed_Payment', 'Changed_Credit_Limit',\n",
       "       'Num_Credit_Inquiries', 'Credit_Mix', 'Outstanding_Debt',\n",
       "       'Credit_Utilization_Ratio', 'Credit_History_Age',\n",
       "       'Payment_of_Min_Amount', 'Total_EMI_per_month',\n",
       "       'Amount_invested_monthly', 'Payment_Behaviour', 'Monthly_Balance',\n",
       "       'Credit_Score'],\n",
       "      dtype='object')"
      ]
     },
     "execution_count": 58,
     "metadata": {},
     "output_type": "execute_result"
    }
   ],
   "source": [
    "df.columns"
   ]
  },
  {
   "cell_type": "markdown",
   "id": "b8063a01-bf8e-46db-b5e3-e6fc27448df7",
   "metadata": {},
   "source": [
    "- ID: row id\n",
    "- Customer_ID: customer Id\n",
    "- month: month of the row recorded (nominal)\n",
    "- Name: name (nominal)\n",
    "- Age: age (nominal)\n",
    "- SSN: social security number (nominal)\n",
    "- Occupation: job occupation (nominal)\n",
    "- Annual_Income: annual income (USD) (float)\n",
    "- Monthly_Inhand_Salary: monthly base salary (float)\n",
    "- Num_Bank_Accounts: number of bank account (int)\n",
    "- Num_Credit_Card: number of credit card held (int)\n",
    "- Interest_Rate: interest rate (%) of the credit card \n",
    "\t- <p style=\"color: red\">needs to converted into decimal form (/100)</p>\n",
    "\t- <p style=\"color: red\">should be float</p>\n",
    "- Num_of_Loan: number of loans taken from the bank\n",
    "\t- <p style=\"color: red\">some data contains char, ex: 3_, -100</p>\n",
    "\t- <p style=\"color: red\">should be int</p>\n",
    "- Type_of_Loan: types of loan taken (nominal)\n",
    "\t-  <p style=\"color: red\">some data contains multiple category, ex: 'Credit-Builder Loan', 'Auto Loan, Auto Loan, and Not Specified'</p>\n",
    "- Delay_from_due_date: `average` number of days delayed from payment date (float)\n",
    "- Num_of_Delayed_Payment: avg number of payments delayed\n",
    "\t- <p style=\"color: red\">some data contains char, ex: 0_</p>\n",
    "\t- <p style=\"color: red\">should be float</p>\n",
    "- Changed_Credit_Limit: % change of credit card limit\n",
    "\t- <p style=\"color: red\">some data contains only char, ex: _</p>\n",
    "\t- <p style=\"color: red\">already in ratio decimal form</p>\n",
    "\t- <p style=\"color: red\">should be float</p>\n",
    "- Num_Credit_Inquiries: number of credit card inquiries (int)\n",
    "- Credit_Mix: credit mix classification\n",
    "- Outstanding_Debt: remaining debt to be paid (USD)\n",
    "\t- <p style=\"color: red\">some data contains only char, ex: 1283.37_</p>\n",
    "\t- <p style=\"color: red\">should be float</p>\n",
    "- Credit_Utillization_Ratio: utillization ratio of credit card (float)\n",
    "\t- <p style=\"color: red\">already in ratio decimal form</p>\n",
    "- Credit_History_Age: age of credit history\n",
    "\t- <p style=\"color: red\">the age represented by years and month, ex: 22 Years and 3 Months</p>\n",
    "\t- <p style=\"color: red\">can be converted into months</p>\n",
    "\t- <p style=\"color: red\">should be float</p>\n",
    "- Payment_of_Min_Amount: whether only the minimum amount was paid (binary nominal)\n",
    "\t- <p style=\"color: red\">there's another category: NM, could be miss-typed</p>\n",
    "- Total_EMI_per_month: monthly EMI payments (USD) (float)\n",
    "- Amount_invested_monthly: monthly amount invested (USD)\n",
    "\t- <p style=\"color: red\">some data contains number and _, ex: __10000__</p>\n",
    "\t- <p style=\"color: red\">10000 is also way too high number compared to others</p>\n",
    "\t- <p style=\"color: red\">should be float</p>\n",
    "- Payment_Behaviour: payment behaviour of the customer (ordinal)\n",
    "\t- `ordinal level (low to high):`\n",
    "\t\t1. Low_spent_Small_value_payments\n",
    "\t\t2. Low_spent_Medium_value_payments\n",
    "\t\t3. Low_spent_Large_value_payments\n",
    "\t\t4. High_spent_Small_value_payments\n",
    "\t\t5. High_spent_Medium_value_payments\n",
    "\t\t6. High_spent_Large_value_payments\n",
    "- Monthly_Balance: balance amount of the month (float)\n",
    "- Credit_Score: target variable (one vs all) (encoded)\n",
    "\t- 1: Good\n",
    "\t- 0: Standard & Poor"
   ]
  },
  {
   "cell_type": "markdown",
   "id": "82cc0078-13a2-4fdf-ada1-4b36750acda2",
   "metadata": {},
   "source": [
    "## Data Understanding & Data Type Adjustments"
   ]
  },
  {
   "cell_type": "markdown",
   "id": "4b071de4-c5af-4aa0-98a8-f25e5388b504",
   "metadata": {},
   "source": [
    "- As stated on columns descriptions section, some columns that supposed to contain numerical values are having char on the data, such as: _\n",
    "- Some columns also contain negative values, such as age, which not supposed to happen.\n",
    "- Thus in this section, I will try to analyze the data and identify why these values are present."
   ]
  },
  {
   "cell_type": "markdown",
   "id": "1edfb534-efa9-47eb-a771-b64c5ecc11d1",
   "metadata": {},
   "source": [
    "In this analysis, I will drop several columns, such as:\n",
    "- ID & customer ID: these columns just containing identifiers that are not important to analyze\n",
    "- name: it just contains customer's name that is also not important to analyze.\n",
    "- SSN: based on this [reference](https://www.ssa.gov/history/ssnmyth.html#:~:text=Footnote%3A%20It%20is%20true%20that,place%20of%20birth%2C%20or%20race), SSN also doesn't contain important information\n",
    "\n",
    "\t> It is true that the application form for an SSN asks for identfying information, such as date of birth, place of birth, parents' names, and (optionally) the applicant's race. `But none of this identifying information is encoded in the SSN itself--not the person's date of birth, place of birth, or race.`"
   ]
  },
  {
   "cell_type": "code",
   "execution_count": 59,
   "id": "512bf529-906f-4b7d-aa65-6568427404a1",
   "metadata": {},
   "outputs": [],
   "source": [
    "df_clean = df.copy()"
   ]
  },
  {
   "cell_type": "code",
   "execution_count": 60,
   "id": "2cca69a1-1ae4-4970-a051-8d40afa8a703",
   "metadata": {},
   "outputs": [],
   "source": [
    "# drop unused columns\n",
    "df_clean = df_clean.drop(columns=[\n",
    "    \"ID\",\n",
    "    \"Customer_ID\",\n",
    "    \"Name\",\n",
    "    \"SSN\"\n",
    "])"
   ]
  },
  {
   "cell_type": "code",
   "execution_count": 61,
   "id": "975f2b02-74f4-4963-85a2-e40360cbb53b",
   "metadata": {},
   "outputs": [],
   "source": [
    "def remove_specific_char_on_num_series(series: pd.Series, char_to_remove: str)->pd.Series:\n",
    "\t\"\"\"\n",
    "\tRemove specific char from data inside a series\n",
    "\n",
    "         params:\n",
    "             series (Series): data source\n",
    "             char_to_remove (str): char that needs to be removed from the series\n",
    "\t\n",
    "    \treturn:\n",
    "             cleaned series that doesn't contain any char\n",
    "\t\"\"\"\n",
    "\t\n",
    "\treturn series.apply(lambda clean_str: clean_str.replace(char_to_remove, \"\"))"
   ]
  },
  {
   "cell_type": "code",
   "execution_count": 62,
   "id": "027a1eed-4775-4bfc-85f5-cb9e8a69000b",
   "metadata": {},
   "outputs": [],
   "source": [
    "def get_rows_index_with_specific_char(series: pd.Series, char_to_find: str)->list:\n",
    "\t\"\"\"\n",
    "    Return index of rows that contains specific char inside a series\n",
    "    \n",
    "    \t------------------------\n",
    "    \tEx:\n",
    "    \tchar_to_find = \"_\"\n",
    "    \n",
    "    \tResults:\n",
    "    \t500_\n",
    "    \t400_\n",
    "    \t------------------------\n",
    "\n",
    "         params:\n",
    "             series (Series): data source\n",
    "             char_to_find (str): char to find in a series\n",
    "\n",
    "        return:\n",
    "            idx_contain_char (list): index of rows that contain any char\n",
    "\t\"\"\"\n",
    "\n",
    "\tidx_contain_char = []\n",
    "\n",
    "\tfor idx, val in series.items():\n",
    "\t\tif((not pd.isna(val)) and (val != None) and (val != np.nan)):\n",
    "\t\t\tif(str(val).find(char_to_find)!=-1):\n",
    "\t\t\t\tidx_contain_char.append(idx)\n",
    "\n",
    "\treturn idx_contain_char"
   ]
  },
  {
   "cell_type": "code",
   "execution_count": 63,
   "id": "f49171e4-acfd-462f-a508-6d1337b71a7d",
   "metadata": {},
   "outputs": [],
   "source": [
    "def get_unique_chars_on_numerical_series(series: pd.Series)->set:\n",
    "\t\"\"\"\n",
    "    Return unique set of chars that appear in a numerical series\n",
    "\n",
    "        param:\n",
    "            series (Series): data source\n",
    "\n",
    "        return:\n",
    "            char_set (set): list of unique chars in a numerical series\n",
    "\t\"\"\"\n",
    "\n",
    "\tchars_set = set()\n",
    "\t\n",
    "\t# loop through each item in series\n",
    "\tfor num in series:\n",
    "\t\tif((num != None) and (num != np.nan) and (not pd.isna(num))):\n",
    "\t\t\tfor s in str(num):\n",
    "\t\t\t\tif(not str(s).isdigit()):\n",
    "\t\t\t\t\tchars_set.add(s)\n",
    "\n",
    "\treturn chars_set"
   ]
  },
  {
   "cell_type": "code",
   "execution_count": 64,
   "id": "51ed6e03-1945-4d9e-96e3-496c5050a658",
   "metadata": {},
   "outputs": [],
   "source": [
    "def get_rows_index_with_chars(series: pd.Series)->list:\n",
    "\t\"\"\"\n",
    "\tGet index of rows that contain any character\n",
    "\n",
    "    \t------------\n",
    "    \tEx:\n",
    "    \t500_\n",
    "    \t-400\n",
    "    \t------------\n",
    "    \n",
    "    \tparam:\n",
    "            series (Series) -> data source\n",
    "\n",
    "        return:\n",
    "            row_index_with_char (list) -> list containing index of rows with any character\n",
    "\t\"\"\"\n",
    "\n",
    "\trow_index_with_char = []\n",
    "\n",
    "\tfor idx, val in series.items():\n",
    "\t\tif((val != None) and (val != np.nan) and (not pd.isna(val))):\n",
    "\t\t\tif(not str(val).isnumeric()):\n",
    "\t\t\t\trow_index_with_char.append(idx)\n",
    "\t\n",
    "\treturn row_index_with_char"
   ]
  },
  {
   "cell_type": "code",
   "execution_count": 65,
   "id": "265ed49a-4b73-4976-b948-2d8de777f76c",
   "metadata": {},
   "outputs": [],
   "source": [
    "def change_series_data_type(series: pd.Series, new_data_type: str)->pd.Series:\n",
    "\t\"\"\"\n",
    "    Return series with specified data type\n",
    "\t\n",
    "    \tparams:\n",
    "            series (Series)  -> series that need data type adjustment\n",
    "            new_data_type (str) -> specified data type\n",
    "\n",
    "        return:\n",
    "            series (Series) -> series with new data type\n",
    "\t\"\"\"\n",
    "\n",
    "\treturn series.astype(new_data_type)"
   ]
  },
  {
   "cell_type": "markdown",
   "id": "fa926be1-cb7b-4d3a-91e7-bc9f0b71744f",
   "metadata": {},
   "source": [
    "### Interest Rate"
   ]
  },
  {
   "cell_type": "code",
   "execution_count": 66,
   "id": "c7b5bac1-3c35-478b-82b5-9932671aa331",
   "metadata": {},
   "outputs": [
    {
     "data": {
      "text/plain": [
       "0"
      ]
     },
     "execution_count": 66,
     "metadata": {},
     "output_type": "execute_result"
    }
   ],
   "source": [
    "df_clean[\"Interest_Rate\"].isna().sum()"
   ]
  },
  {
   "cell_type": "code",
   "execution_count": 67,
   "id": "435d60d5-1604-4382-982d-66e76ddaed45",
   "metadata": {},
   "outputs": [
    {
     "data": {
      "text/plain": [
       "count    100000.00\n",
       "mean         72.47\n",
       "std         466.42\n",
       "min           1.00\n",
       "25%           8.00\n",
       "50%          13.00\n",
       "75%          20.00\n",
       "max        5797.00\n",
       "Name: Interest_Rate, dtype: float64"
      ]
     },
     "execution_count": 67,
     "metadata": {},
     "output_type": "execute_result"
    }
   ],
   "source": [
    "df_clean[\"Interest_Rate\"].describe().round(2)"
   ]
  },
  {
   "cell_type": "markdown",
   "id": "f6f74adb-5e0a-4ec5-9d10-596a0712585f",
   "metadata": {},
   "source": [
    "- Interest rate contains credit card's rate of interest (%)\n",
    "- Highest interest rate is 5797\n",
    "- I would assume that this interest rate hasn't been changed to decimal form\n",
    "- Thus, I will divide all interest rates with 100"
   ]
  },
  {
   "cell_type": "markdown",
   "id": "1e0ef0d9-79fd-4a99-a549-6be20756dd2d",
   "metadata": {},
   "source": [
    "#### Divide Interest Rate by 100"
   ]
  },
  {
   "cell_type": "code",
   "execution_count": 68,
   "id": "5b580aeb-017b-40a4-b069-2b4b4a44a025",
   "metadata": {},
   "outputs": [],
   "source": [
    "df_clean[\"Interest_Rate\"] = df_clean[\"Interest_Rate\"]/100"
   ]
  },
  {
   "cell_type": "code",
   "execution_count": 69,
   "id": "0e5a3264-6cd9-41cb-ba6d-f95c402ff952",
   "metadata": {},
   "outputs": [
    {
     "data": {
      "text/plain": [
       "count    100000.00\n",
       "mean          0.72\n",
       "std           4.66\n",
       "min           0.01\n",
       "25%           0.08\n",
       "50%           0.13\n",
       "75%           0.20\n",
       "max          57.97\n",
       "Name: Interest_Rate, dtype: float64"
      ]
     },
     "execution_count": 69,
     "metadata": {},
     "output_type": "execute_result"
    }
   ],
   "source": [
    "df_clean[\"Interest_Rate\"].describe().round(2)"
   ]
  },
  {
   "cell_type": "markdown",
   "id": "4d96c42d-33b6-468a-ab55-6a55a08544d7",
   "metadata": {},
   "source": [
    "#### Change Data Type into Float"
   ]
  },
  {
   "cell_type": "code",
   "execution_count": 70,
   "id": "6d0b4692-6af8-4c78-a0d0-0a518919aa2d",
   "metadata": {},
   "outputs": [],
   "source": [
    "df_clean[\"Interest_Rate\"] = change_series_data_type(df_clean[\"Interest_Rate\"], \"float\")"
   ]
  },
  {
   "cell_type": "markdown",
   "id": "03b71616-ea7a-4133-87e1-94477211e054",
   "metadata": {},
   "source": [
    "### Month"
   ]
  },
  {
   "cell_type": "code",
   "execution_count": 71,
   "id": "24df1b23-08d3-417e-9e0d-12209aec3315",
   "metadata": {},
   "outputs": [
    {
     "data": {
      "text/plain": [
       "array(['January', 'February', 'March', 'April', 'May', 'June', 'July',\n",
       "       'August'], dtype=object)"
      ]
     },
     "execution_count": 71,
     "metadata": {},
     "output_type": "execute_result"
    }
   ],
   "source": [
    "df_clean[\"Month\"].unique()"
   ]
  },
  {
   "cell_type": "markdown",
   "id": "5519a707-2825-4289-b22b-7d871ff210f1",
   "metadata": {},
   "source": [
    "> There's nothing wrong with month in dataframe"
   ]
  },
  {
   "cell_type": "markdown",
   "id": "12c9b697-65cf-4dbc-8344-8f3dd392c548",
   "metadata": {},
   "source": [
    "## Age"
   ]
  },
  {
   "cell_type": "code",
   "execution_count": 72,
   "id": "24a3cbd3-71ad-43c9-9178-ae972d623a2d",
   "metadata": {},
   "outputs": [],
   "source": [
    "# get age that contains char\n",
    "age_with_char_idx = get_rows_index_with_chars(df_clean[\"Age\"])\n",
    "age_with_char = df_clean.loc[age_with_char_idx][\"Age\"]"
   ]
  },
  {
   "cell_type": "code",
   "execution_count": 73,
   "id": "d2f838bc-efe8-4d82-a8c8-db3fd9ef8fd7",
   "metadata": {},
   "outputs": [
    {
     "data": {
      "text/plain": [
       "2        -500\n",
       "8         28_\n",
       "54        34_\n",
       "58        30_\n",
       "71        24_\n",
       "         ... \n",
       "99933     38_\n",
       "99937    -500\n",
       "99942     48_\n",
       "99963    -500\n",
       "99987     28_\n",
       "Name: Age, Length: 5825, dtype: object"
      ]
     },
     "execution_count": 73,
     "metadata": {},
     "output_type": "execute_result"
    }
   ],
   "source": [
    "age_with_char"
   ]
  },
  {
   "cell_type": "code",
   "execution_count": 74,
   "id": "a10498eb-2768-46e3-8a19-9519c843c648",
   "metadata": {},
   "outputs": [
    {
     "data": {
      "text/plain": [
       "{'-', '_'}"
      ]
     },
     "execution_count": 74,
     "metadata": {},
     "output_type": "execute_result"
    }
   ],
   "source": [
    "# get list of uniqe chars present in age\n",
    "get_unique_chars_on_numerical_series(age_with_char)"
   ]
  },
  {
   "cell_type": "code",
   "execution_count": 75,
   "id": "6e2db56c-c51f-484d-ac3f-77a699548a6b",
   "metadata": {},
   "outputs": [
    {
     "data": {
      "text/plain": [
       "array(['28_', '34_', '30_', '24_', '33_', '35_', '31_', '40_', '37_',\n",
       "       '54_', '21_', '20_', '43_', '38_', '18_', '2111_', '46_', '16_',\n",
       "       '19_', '47_', '53_', '25_', '27_', '55_', '42_', '48_', '49_',\n",
       "       '50_', '32_', '22_', '17_', '29_', '15_', '51_', '26_', '39_',\n",
       "       '14_', '36_', '44_', '7670_', '45_', '23_', '41_', '52_', '733_',\n",
       "       '5769_', '4383_', '56_', '2650_', '3307_', '6962_', '5589_',\n",
       "       '6556_', '1447_', '8153_', '3834_', '6744_', '6471_', '7723_',\n",
       "       '7640_', '6408_', '3502_', '7316_', '1102_', '8669_', '2463_',\n",
       "       '6666_', '3055_', '1248_', '2220_', '2159_', '4583_', '3988_',\n",
       "       '2155_', '6770_', '1843_', '1367_', '3742_', '2171_', '5109_',\n",
       "       '3984_', '2474_', '5046_', '7715_', '2329_', '707_', '844_',\n",
       "       '2756_', '2037_', '902_', '8523_', '3640_', '3998_', '3712_',\n",
       "       '2097_', '8348_', '5373_', '3291_', '2994_', '3339_', '2812_',\n",
       "       '3578_', '3564_', '1794_', '737_', '4301_', '2846_', '2373_',\n",
       "       '1188_', '8207_', '5909_', '6381_', '8616_', '6799_', '1591_',\n",
       "       '3775_', '6564_', '7122_', '4913_', '5697_', '3843_', '4445_',\n",
       "       '6921_', '780_', '1070_', '5798_', '4808_'], dtype=object)"
      ]
     },
     "execution_count": 75,
     "metadata": {},
     "output_type": "execute_result"
    }
   ],
   "source": [
    "# identify age with _\n",
    "age_with_char[age_with_char.str.contains(\"_\")].unique()"
   ]
  },
  {
   "cell_type": "code",
   "execution_count": 76,
   "id": "b36aced6-2132-4f30-893d-5ba2cb856874",
   "metadata": {},
   "outputs": [
    {
     "data": {
      "text/plain": [
       "array(['-500'], dtype=object)"
      ]
     },
     "execution_count": 76,
     "metadata": {},
     "output_type": "execute_result"
    }
   ],
   "source": [
    "# identify age with _\n",
    "age_with_char[age_with_char.str.contains(\"-\")].unique()"
   ]
  },
  {
   "cell_type": "code",
   "execution_count": 77,
   "id": "379c5d5c-22fa-4e39-820d-35df38f43040",
   "metadata": {},
   "outputs": [
    {
     "name": "stdout",
     "output_type": "stream",
     "text": [
      "proportion of age with char + negative age in dataset: 5.83%\n"
     ]
    }
   ],
   "source": [
    "print(\"proportion of age with char + negative age in dataset: {}%\".format(\n",
    "\tround(\n",
    "\t\t(age_with_char.shape[0]/df_clean.shape[0])*100, \n",
    "\t\t2\n",
    "\t)\n",
    "))"
   ]
  },
  {
   "cell_type": "markdown",
   "id": "cf74dd7c-1f13-4e9a-9353-6ef3baae8741",
   "metadata": {},
   "source": [
    "- Age column contains 2 char, such as: - and _\n",
    "\n",
    "- Customers' ages that contains - are all having value of -500\n",
    "- Customers' ages that contains _ are having arbitrary numbers\n",
    "\n",
    "- `The analysis shows that these values are present in a way that doesn't make sense`\n",
    "- Unfortunatelly, there's no documentation of how these values are present in the dataset and there's no answer from the data collector. Thus, it's dangerous to make assumption why these data are present.\n",
    "\n",
    "- Based on the analysis, I will assume that these values are present because of sytem error\n",
    "- `I will assign these rows as missing values`"
   ]
  },
  {
   "cell_type": "markdown",
   "id": "f8549d2d-fa7e-482c-bebb-869392fcb72e",
   "metadata": {},
   "source": [
    "#### Assign missing value to age with char (-, _)"
   ]
  },
  {
   "cell_type": "code",
   "execution_count": 78,
   "id": "4d154057-ada2-4266-a42f-e3dd4c1108ff",
   "metadata": {},
   "outputs": [],
   "source": [
    "# assign np.nan to age with char\n",
    "df_clean.loc[age_with_char_idx, \"Age\"] = np.nan"
   ]
  },
  {
   "cell_type": "code",
   "execution_count": 79,
   "id": "7d283ba7-8a66-470d-b439-556bf7998d2a",
   "metadata": {},
   "outputs": [],
   "source": [
    "# change data type age into int64\n",
    "df_clean[\"Age\"] = change_series_data_type(df_clean[\"Age\"], \"Int64\")"
   ]
  },
  {
   "cell_type": "markdown",
   "id": "92c576a3-a0c9-4284-8501-9b092dec6835",
   "metadata": {},
   "source": [
    "## Annual Income"
   ]
  },
  {
   "cell_type": "code",
   "execution_count": 80,
   "id": "f592e8e4-acdd-407c-801d-dba8f441e24b",
   "metadata": {},
   "outputs": [
    {
     "data": {
      "text/plain": [
       "array(['19114.12', '34847.84', '34847.84_', ..., '20002.88', '39628.99',\n",
       "       '39628.99_'], dtype=object)"
      ]
     },
     "execution_count": 80,
     "metadata": {},
     "output_type": "execute_result"
    }
   ],
   "source": [
    "df_clean[\"Annual_Income\"].unique()"
   ]
  },
  {
   "cell_type": "markdown",
   "id": "bed734d8-338d-4e80-b9e9-3c5725c3e229",
   "metadata": {},
   "source": [
    "> Some annual_income data contain _"
   ]
  },
  {
   "cell_type": "code",
   "execution_count": 81,
   "id": "2bb96009-3037-47b4-a768-53a8afffd8e9",
   "metadata": {},
   "outputs": [
    {
     "data": {
      "text/plain": [
       "100000"
      ]
     },
     "execution_count": 81,
     "metadata": {},
     "output_type": "execute_result"
    }
   ],
   "source": [
    "# get index of annual income with char\n",
    "annual_income_with_char_idx = get_rows_index_with_chars(df_clean[\"Annual_Income\"])\n",
    "len(annual_income_with_char_idx)"
   ]
  },
  {
   "cell_type": "code",
   "execution_count": 82,
   "id": "5df020c4-ad24-4db8-a887-30d9cab5a6d4",
   "metadata": {},
   "outputs": [],
   "source": [
    "annual_income_with_char = df_clean.loc[annual_income_with_char_idx]"
   ]
  },
  {
   "cell_type": "code",
   "execution_count": 83,
   "id": "a71949ce-73eb-4459-b53c-a3db92aa7e23",
   "metadata": {},
   "outputs": [
    {
     "data": {
      "text/plain": [
       "{'.', '_'}"
      ]
     },
     "execution_count": 83,
     "metadata": {},
     "output_type": "execute_result"
    }
   ],
   "source": [
    "get_unique_chars_on_numerical_series(annual_income_with_char[\"Annual_Income\"])"
   ]
  },
  {
   "cell_type": "markdown",
   "id": "23d5d93d-f866-4239-9650-a0ad48401f80",
   "metadata": {},
   "source": [
    "> Annual income contains 2 chars, such as: . and _\n",
    "\n",
    "- annual income with . indicating that it's a floating number\n",
    "- Thus, I will clean annual income with _ only"
   ]
  },
  {
   "cell_type": "code",
   "execution_count": 84,
   "id": "55de0fa9-76b8-489b-85e9-16e26665e572",
   "metadata": {},
   "outputs": [],
   "source": [
    "# update annual income with char idx\n",
    "annual_income_with_char_idx = get_rows_index_with_specific_char(\n",
    "\tdf_clean[\"Annual_Income\"], \"_\"\n",
    ")"
   ]
  },
  {
   "cell_type": "code",
   "execution_count": 85,
   "id": "6dcf3806-185d-4771-8dee-75cd39ff03d4",
   "metadata": {},
   "outputs": [],
   "source": [
    "# update annual income with char series\n",
    "annual_income_with_char = df_clean.loc[annual_income_with_char_idx][\"Annual_Income\"]"
   ]
  },
  {
   "cell_type": "code",
   "execution_count": 86,
   "id": "e62abd6b-8fa5-47a0-99d1-524330bdcf2a",
   "metadata": {},
   "outputs": [
    {
     "data": {
      "text/plain": [
       "10        34847.84_\n",
       "27        30689.89_\n",
       "32        35547.71_\n",
       "56        34081.38_\n",
       "66       114838.41_\n",
       "            ...    \n",
       "99959     38321.39_\n",
       "99974     16680.35_\n",
       "99981      37188.1_\n",
       "99993     39628.99_\n",
       "99999     39628.99_\n",
       "Name: Annual_Income, Length: 6980, dtype: object"
      ]
     },
     "execution_count": 86,
     "metadata": {},
     "output_type": "execute_result"
    }
   ],
   "source": [
    "annual_income_with_char"
   ]
  },
  {
   "cell_type": "code",
   "execution_count": 87,
   "id": "e0557f4b-f3bb-40ed-ba19-5ae044327880",
   "metadata": {},
   "outputs": [
    {
     "data": {
      "text/plain": [
       "0        19114.12\n",
       "1        19114.12\n",
       "2        19114.12\n",
       "3        19114.12\n",
       "4        19114.12\n",
       "           ...   \n",
       "99994    39628.99\n",
       "99995    39628.99\n",
       "99996    39628.99\n",
       "99997    39628.99\n",
       "99998    39628.99\n",
       "Name: Annual_Income, Length: 93020, dtype: object"
      ]
     },
     "execution_count": 87,
     "metadata": {},
     "output_type": "execute_result"
    }
   ],
   "source": [
    "annual_income_without_char = df_clean.drop(\n",
    "    index=annual_income_with_char_idx\n",
    ").loc[:, \"Annual_Income\"]\n",
    "\n",
    "annual_income_without_char"
   ]
  },
  {
   "cell_type": "code",
   "execution_count": 88,
   "id": "d9881cbb-cab9-4d4f-96b8-8e44b1871b88",
   "metadata": {},
   "outputs": [
    {
     "data": {
      "text/plain": [
       "<Axes: >"
      ]
     },
     "execution_count": 88,
     "metadata": {},
     "output_type": "execute_result"
    },
    {
     "data": {
      "image/png": "[encoded data removed]",
      "text/plain": [
       "<Figure size 640x480 with 1 Axes>"
      ]
     },
     "metadata": {},
     "output_type": "display_data"
    }
   ],
   "source": [
    "# show boxplot of annual income without char _\n",
    "change_series_data_type(annual_income_without_char, \"float\").plot(kind=\"box\")"
   ]
  },
  {
   "cell_type": "code",
   "execution_count": 89,
   "id": "12f3d454-d241-4a40-a111-9100196cf390",
   "metadata": {},
   "outputs": [
    {
     "data": {
      "text/plain": [
       "<Axes: >"
      ]
     },
     "execution_count": 89,
     "metadata": {},
     "output_type": "execute_result"
    },
    {
     "data": {
      "image/png": "[encoded data removed]",
      "text/plain": [
       "<Figure size 640x480 with 1 Axes>"
      ]
     },
     "metadata": {},
     "output_type": "display_data"
    }
   ],
   "source": [
    "# show boxplot of annual income with char _\n",
    "change_series_data_type(\n",
    "\tremove_specific_char_on_num_series(annual_income_with_char, \"_\"),\n",
    "\t\"float\"\n",
    ").plot(kind=\"box\")"
   ]
  },
  {
   "cell_type": "markdown",
   "id": "74bcc585-97e6-4f33-99d4-6022a006ac54",
   "metadata": {},
   "source": [
    "- The boxplot shown that annual incomes with _ are subset of clean annual income (without _), indicating these values are normal values in the dataset\n",
    "- I will assume _ appear because of misstype or system failure\n",
    "- Thus, in this case `it's safe to just remove the _ from annual income and use the data for analysis`"
   ]
  },
  {
   "cell_type": "markdown",
   "id": "e7072cc6-f6f5-4a1f-ada3-0ca7959ccbf7",
   "metadata": {},
   "source": [
    "#### Remove _ from annual income"
   ]
  },
  {
   "cell_type": "code",
   "execution_count": 90,
   "id": "24c6b6d8-331a-4bf8-8225-f760018a050a",
   "metadata": {},
   "outputs": [],
   "source": [
    "# remove _ from annual income\n",
    "df_clean[\"Annual_Income\"] =\\\n",
    "\tremove_specific_char_on_num_series(df_clean[\"Annual_Income\"], \"_\")"
   ]
  },
  {
   "cell_type": "markdown",
   "id": "c2d7504f-be75-4331-a6e6-e409ca909771",
   "metadata": {},
   "source": [
    "#### Change data type of annual income"
   ]
  },
  {
   "cell_type": "code",
   "execution_count": 91,
   "id": "cbb51bbc-0b4d-4c3e-b59b-17dd59ec9600",
   "metadata": {},
   "outputs": [],
   "source": [
    "df_clean[\"Annual_Income\"] = change_series_data_type(df_clean[\"Annual_Income\"], \"float\")"
   ]
  },
  {
   "cell_type": "markdown",
   "id": "333656f5-0ffc-4092-bf26-bef2f604df4a",
   "metadata": {},
   "source": [
    "### Occupation"
   ]
  },
  {
   "cell_type": "code",
   "execution_count": 92,
   "id": "fa42a8e0-7417-4044-9350-1827dab59c18",
   "metadata": {},
   "outputs": [
    {
     "data": {
      "text/plain": [
       "array(['Scientist', '_______', 'Teacher', 'Engineer', 'Entrepreneur',\n",
       "       'Developer', 'Lawyer', 'Media_Manager', 'Doctor', 'Journalist',\n",
       "       'Manager', 'Accountant', 'Musician', 'Mechanic', 'Writer',\n",
       "       'Architect'], dtype=object)"
      ]
     },
     "execution_count": 92,
     "metadata": {},
     "output_type": "execute_result"
    }
   ],
   "source": [
    "df_clean[\"Occupation\"].unique()"
   ]
  },
  {
   "cell_type": "markdown",
   "id": "e7b0743e-c17e-4438-93c8-76f25e241515",
   "metadata": {},
   "source": [
    "> There's a weird occupation _______ present in the dataframe"
   ]
  },
  {
   "cell_type": "markdown",
   "id": "52dd2ab7-1a2f-4a4d-80c1-a4f04ebd7f9d",
   "metadata": {},
   "source": [
    "I will analyze why there's an occupation __ in the dataframe by comparing annual_income with clean occupation.\n",
    "\n",
    "My assuption is customers with occupation __ are shy about their job and they don't want to reveal it. Thus, annual_income is the most appropriate variable to used for comparing"
   ]
  },
  {
   "cell_type": "code",
   "execution_count": 93,
   "id": "5509c167-63c8-49eb-9859-27bd85ed451b",
   "metadata": {},
   "outputs": [
    {
     "data": {
      "text/html": [
       "<div>\n",
       "<style scoped>\n",
       "    .dataframe tbody tr th:only-of-type {\n",
       "        vertical-align: middle;\n",
       "    }\n",
       "\n",
       "    .dataframe tbody tr th {\n",
       "        vertical-align: top;\n",
       "    }\n",
       "\n",
       "    .dataframe thead th {\n",
       "        text-align: right;\n",
       "    }\n",
       "</style>\n",
       "<table border=\"1\" class=\"dataframe\">\n",
       "  <thead>\n",
       "    <tr style=\"text-align: right;\">\n",
       "      <th></th>\n",
       "      <th>Month</th>\n",
       "      <th>Age</th>\n",
       "      <th>Occupation</th>\n",
       "      <th>Annual_Income</th>\n",
       "      <th>Monthly_Inhand_Salary</th>\n",
       "      <th>Num_Bank_Accounts</th>\n",
       "      <th>Num_Credit_Card</th>\n",
       "      <th>Interest_Rate</th>\n",
       "      <th>Num_of_Loan</th>\n",
       "      <th>Type_of_Loan</th>\n",
       "      <th>...</th>\n",
       "      <th>Credit_Mix</th>\n",
       "      <th>Outstanding_Debt</th>\n",
       "      <th>Credit_Utilization_Ratio</th>\n",
       "      <th>Credit_History_Age</th>\n",
       "      <th>Payment_of_Min_Amount</th>\n",
       "      <th>Total_EMI_per_month</th>\n",
       "      <th>Amount_invested_monthly</th>\n",
       "      <th>Payment_Behaviour</th>\n",
       "      <th>Monthly_Balance</th>\n",
       "      <th>Credit_Score</th>\n",
       "    </tr>\n",
       "  </thead>\n",
       "  <tbody>\n",
       "    <tr>\n",
       "      <th>8</th>\n",
       "      <td>January</td>\n",
       "      <td>&lt;NA&gt;</td>\n",
       "      <td>_______</td>\n",
       "      <td>34847.84</td>\n",
       "      <td>3037.986667</td>\n",
       "      <td>2</td>\n",
       "      <td>4</td>\n",
       "      <td>0.06</td>\n",
       "      <td>1</td>\n",
       "      <td>Credit-Builder Loan</td>\n",
       "      <td>...</td>\n",
       "      <td>Good</td>\n",
       "      <td>605.03</td>\n",
       "      <td>24.464031</td>\n",
       "      <td>26 Years and 7 Months</td>\n",
       "      <td>No</td>\n",
       "      <td>18.816215</td>\n",
       "      <td>104.291825168246</td>\n",
       "      <td>Low_spent_Small_value_payments</td>\n",
       "      <td>470.69062692529184</td>\n",
       "      <td>Standard</td>\n",
       "    </tr>\n",
       "    <tr>\n",
       "      <th>16</th>\n",
       "      <td>January</td>\n",
       "      <td>34</td>\n",
       "      <td>_______</td>\n",
       "      <td>143162.64</td>\n",
       "      <td>12187.220000</td>\n",
       "      <td>1</td>\n",
       "      <td>5</td>\n",
       "      <td>0.08</td>\n",
       "      <td>3</td>\n",
       "      <td>Auto Loan, Auto Loan, and Not Specified</td>\n",
       "      <td>...</td>\n",
       "      <td>Good</td>\n",
       "      <td>1303.01</td>\n",
       "      <td>28.616735</td>\n",
       "      <td>17 Years and 9 Months</td>\n",
       "      <td>No</td>\n",
       "      <td>246.992319</td>\n",
       "      <td>168.413702679309</td>\n",
       "      <td>!@9#%8</td>\n",
       "      <td>1043.3159778669492</td>\n",
       "      <td>Good</td>\n",
       "    </tr>\n",
       "    <tr>\n",
       "      <th>18</th>\n",
       "      <td>March</td>\n",
       "      <td>34</td>\n",
       "      <td>_______</td>\n",
       "      <td>143162.64</td>\n",
       "      <td>NaN</td>\n",
       "      <td>1</td>\n",
       "      <td>5</td>\n",
       "      <td>0.08</td>\n",
       "      <td>3</td>\n",
       "      <td>Auto Loan, Auto Loan, and Not Specified</td>\n",
       "      <td>...</td>\n",
       "      <td>Good</td>\n",
       "      <td>1303.01</td>\n",
       "      <td>26.519815</td>\n",
       "      <td>17 Years and 11 Months</td>\n",
       "      <td>No</td>\n",
       "      <td>246.992319</td>\n",
       "      <td>__10000__</td>\n",
       "      <td>High_spent_Small_value_payments</td>\n",
       "      <td>715.741367403555</td>\n",
       "      <td>Good</td>\n",
       "    </tr>\n",
       "    <tr>\n",
       "      <th>20</th>\n",
       "      <td>May</td>\n",
       "      <td>34</td>\n",
       "      <td>_______</td>\n",
       "      <td>143162.64</td>\n",
       "      <td>12187.220000</td>\n",
       "      <td>1</td>\n",
       "      <td>5</td>\n",
       "      <td>0.08</td>\n",
       "      <td>3</td>\n",
       "      <td>Auto Loan, Auto Loan, and Not Specified</td>\n",
       "      <td>...</td>\n",
       "      <td>Good</td>\n",
       "      <td>1303.01</td>\n",
       "      <td>31.376150</td>\n",
       "      <td>18 Years and 1 Months</td>\n",
       "      <td>No</td>\n",
       "      <td>246.992319</td>\n",
       "      <td>430.9475278803298</td>\n",
       "      <td>Low_spent_Large_value_payments</td>\n",
       "      <td>810.7821526659284</td>\n",
       "      <td>Good</td>\n",
       "    </tr>\n",
       "    <tr>\n",
       "      <th>29</th>\n",
       "      <td>June</td>\n",
       "      <td>55</td>\n",
       "      <td>_______</td>\n",
       "      <td>30689.89</td>\n",
       "      <td>2612.490833</td>\n",
       "      <td>2</td>\n",
       "      <td>5</td>\n",
       "      <td>0.04</td>\n",
       "      <td>1</td>\n",
       "      <td>Not Specified</td>\n",
       "      <td>...</td>\n",
       "      <td>_</td>\n",
       "      <td>632.46</td>\n",
       "      <td>27.445422</td>\n",
       "      <td>17 Years and 8 Months</td>\n",
       "      <td>No</td>\n",
       "      <td>16.415452</td>\n",
       "      <td>84.95284817115969</td>\n",
       "      <td>High_spent_Small_value_payments</td>\n",
       "      <td>419.8807835023488</td>\n",
       "      <td>Standard</td>\n",
       "    </tr>\n",
       "    <tr>\n",
       "      <th>...</th>\n",
       "      <td>...</td>\n",
       "      <td>...</td>\n",
       "      <td>...</td>\n",
       "      <td>...</td>\n",
       "      <td>...</td>\n",
       "      <td>...</td>\n",
       "      <td>...</td>\n",
       "      <td>...</td>\n",
       "      <td>...</td>\n",
       "      <td>...</td>\n",
       "      <td>...</td>\n",
       "      <td>...</td>\n",
       "      <td>...</td>\n",
       "      <td>...</td>\n",
       "      <td>...</td>\n",
       "      <td>...</td>\n",
       "      <td>...</td>\n",
       "      <td>...</td>\n",
       "      <td>...</td>\n",
       "      <td>...</td>\n",
       "      <td>...</td>\n",
       "    </tr>\n",
       "    <tr>\n",
       "      <th>99920</th>\n",
       "      <td>January</td>\n",
       "      <td>37</td>\n",
       "      <td>_______</td>\n",
       "      <td>139664.96</td>\n",
       "      <td>11777.746667</td>\n",
       "      <td>3</td>\n",
       "      <td>6</td>\n",
       "      <td>0.12</td>\n",
       "      <td>4</td>\n",
       "      <td>Credit-Builder Loan, Credit-Builder Loan, Stud...</td>\n",
       "      <td>...</td>\n",
       "      <td>_</td>\n",
       "      <td>365.66</td>\n",
       "      <td>31.043048</td>\n",
       "      <td>29 Years and 7 Months</td>\n",
       "      <td>Yes</td>\n",
       "      <td>423.731016</td>\n",
       "      <td>282.78234595777644</td>\n",
       "      <td>High_spent_Large_value_payments</td>\n",
       "      <td>711.2613048966028</td>\n",
       "      <td>Standard</td>\n",
       "    </tr>\n",
       "    <tr>\n",
       "      <th>99935</th>\n",
       "      <td>August</td>\n",
       "      <td>38</td>\n",
       "      <td>_______</td>\n",
       "      <td>15319.65</td>\n",
       "      <td>1460.637500</td>\n",
       "      <td>6</td>\n",
       "      <td>7</td>\n",
       "      <td>0.15</td>\n",
       "      <td>4</td>\n",
       "      <td>Home Equity Loan, Auto Loan, Auto Loan, and Au...</td>\n",
       "      <td>...</td>\n",
       "      <td>Bad</td>\n",
       "      <td>1453.61</td>\n",
       "      <td>34.557510</td>\n",
       "      <td>11 Years and 4 Months</td>\n",
       "      <td>Yes</td>\n",
       "      <td>28.182033</td>\n",
       "      <td>191.87777851803025</td>\n",
       "      <td>Low_spent_Small_value_payments</td>\n",
       "      <td>216.00393809551707</td>\n",
       "      <td>Poor</td>\n",
       "    </tr>\n",
       "    <tr>\n",
       "      <th>99937</th>\n",
       "      <td>February</td>\n",
       "      <td>&lt;NA&gt;</td>\n",
       "      <td>_______</td>\n",
       "      <td>22620.79</td>\n",
       "      <td>1722.065833</td>\n",
       "      <td>7</td>\n",
       "      <td>3</td>\n",
       "      <td>0.09</td>\n",
       "      <td>0_</td>\n",
       "      <td>NaN</td>\n",
       "      <td>...</td>\n",
       "      <td>Standard</td>\n",
       "      <td>642.46</td>\n",
       "      <td>31.841872</td>\n",
       "      <td>NaN</td>\n",
       "      <td>No</td>\n",
       "      <td>0.000000</td>\n",
       "      <td>105.07629339039072</td>\n",
       "      <td>Low_spent_Large_value_payments</td>\n",
       "      <td>337.1302899429426</td>\n",
       "      <td>Standard</td>\n",
       "    </tr>\n",
       "    <tr>\n",
       "      <th>99943</th>\n",
       "      <td>August</td>\n",
       "      <td>48</td>\n",
       "      <td>_______</td>\n",
       "      <td>22620.79</td>\n",
       "      <td>NaN</td>\n",
       "      <td>6</td>\n",
       "      <td>2</td>\n",
       "      <td>0.09</td>\n",
       "      <td>0</td>\n",
       "      <td>NaN</td>\n",
       "      <td>...</td>\n",
       "      <td>_</td>\n",
       "      <td>642.46</td>\n",
       "      <td>34.026427</td>\n",
       "      <td>29 Years and 10 Months</td>\n",
       "      <td>No</td>\n",
       "      <td>0.000000</td>\n",
       "      <td>205.21728040016708</td>\n",
       "      <td>Low_spent_Small_value_payments</td>\n",
       "      <td>256.98930293316624</td>\n",
       "      <td>Poor</td>\n",
       "    </tr>\n",
       "    <tr>\n",
       "      <th>99989</th>\n",
       "      <td>June</td>\n",
       "      <td>28</td>\n",
       "      <td>_______</td>\n",
       "      <td>20002.88</td>\n",
       "      <td>1929.906667</td>\n",
       "      <td>10</td>\n",
       "      <td>8</td>\n",
       "      <td>0.29</td>\n",
       "      <td>5</td>\n",
       "      <td>Personal Loan, Auto Loan, Mortgage Loan, Stude...</td>\n",
       "      <td>...</td>\n",
       "      <td>Bad</td>\n",
       "      <td>3571.7</td>\n",
       "      <td>33.359987</td>\n",
       "      <td>6 Years and 1 Months</td>\n",
       "      <td>Yes</td>\n",
       "      <td>60.964772</td>\n",
       "      <td>74.36660309585342</td>\n",
       "      <td>!@9#%8</td>\n",
       "      <td>307.65929119739087</td>\n",
       "      <td>Standard</td>\n",
       "    </tr>\n",
       "  </tbody>\n",
       "</table>\n",
       "<p>7062 rows × 24 columns</p>\n",
       "</div>"
      ],
      "text/plain": [
       "          Month   Age Occupation  Annual_Income  Monthly_Inhand_Salary  \\\n",
       "8       January  <NA>    _______       34847.84            3037.986667   \n",
       "16      January    34    _______      143162.64           12187.220000   \n",
       "18        March    34    _______      143162.64                    NaN   \n",
       "20          May    34    _______      143162.64           12187.220000   \n",
       "29         June    55    _______       30689.89            2612.490833   \n",
       "...         ...   ...        ...            ...                    ...   \n",
       "99920   January    37    _______      139664.96           11777.746667   \n",
       "99935    August    38    _______       15319.65            1460.637500   \n",
       "99937  February  <NA>    _______       22620.79            1722.065833   \n",
       "99943    August    48    _______       22620.79                    NaN   \n",
       "99989      June    28    _______       20002.88            1929.906667   \n",
       "\n",
       "       Num_Bank_Accounts  Num_Credit_Card  Interest_Rate Num_of_Loan  \\\n",
       "8                      2                4           0.06           1   \n",
       "16                     1                5           0.08           3   \n",
       "18                     1                5           0.08           3   \n",
       "20                     1                5           0.08           3   \n",
       "29                     2                5           0.04           1   \n",
       "...                  ...              ...            ...         ...   \n",
       "99920                  3                6           0.12           4   \n",
       "99935                  6                7           0.15           4   \n",
       "99937                  7                3           0.09          0_   \n",
       "99943                  6                2           0.09           0   \n",
       "99989                 10                8           0.29           5   \n",
       "\n",
       "                                            Type_of_Loan  ...  Credit_Mix  \\\n",
       "8                                    Credit-Builder Loan  ...        Good   \n",
       "16               Auto Loan, Auto Loan, and Not Specified  ...        Good   \n",
       "18               Auto Loan, Auto Loan, and Not Specified  ...        Good   \n",
       "20               Auto Loan, Auto Loan, and Not Specified  ...        Good   \n",
       "29                                         Not Specified  ...           _   \n",
       "...                                                  ...  ...         ...   \n",
       "99920  Credit-Builder Loan, Credit-Builder Loan, Stud...  ...           _   \n",
       "99935  Home Equity Loan, Auto Loan, Auto Loan, and Au...  ...         Bad   \n",
       "99937                                                NaN  ...    Standard   \n",
       "99943                                                NaN  ...           _   \n",
       "99989  Personal Loan, Auto Loan, Mortgage Loan, Stude...  ...         Bad   \n",
       "\n",
       "      Outstanding_Debt Credit_Utilization_Ratio      Credit_History_Age  \\\n",
       "8               605.03                24.464031   26 Years and 7 Months   \n",
       "16             1303.01                28.616735   17 Years and 9 Months   \n",
       "18             1303.01                26.519815  17 Years and 11 Months   \n",
       "20             1303.01                31.376150   18 Years and 1 Months   \n",
       "29              632.46                27.445422   17 Years and 8 Months   \n",
       "...                ...                      ...                     ...   \n",
       "99920           365.66                31.043048   29 Years and 7 Months   \n",
       "99935          1453.61                34.557510   11 Years and 4 Months   \n",
       "99937           642.46                31.841872                     NaN   \n",
       "99943           642.46                34.026427  29 Years and 10 Months   \n",
       "99989           3571.7                33.359987    6 Years and 1 Months   \n",
       "\n",
       "      Payment_of_Min_Amount Total_EMI_per_month  Amount_invested_monthly  \\\n",
       "8                        No           18.816215         104.291825168246   \n",
       "16                       No          246.992319         168.413702679309   \n",
       "18                       No          246.992319                __10000__   \n",
       "20                       No          246.992319        430.9475278803298   \n",
       "29                       No           16.415452        84.95284817115969   \n",
       "...                     ...                 ...                      ...   \n",
       "99920                   Yes          423.731016       282.78234595777644   \n",
       "99935                   Yes           28.182033       191.87777851803025   \n",
       "99937                    No            0.000000       105.07629339039072   \n",
       "99943                    No            0.000000       205.21728040016708   \n",
       "99989                   Yes           60.964772        74.36660309585342   \n",
       "\n",
       "                     Payment_Behaviour     Monthly_Balance  Credit_Score  \n",
       "8       Low_spent_Small_value_payments  470.69062692529184      Standard  \n",
       "16                              !@9#%8  1043.3159778669492          Good  \n",
       "18     High_spent_Small_value_payments    715.741367403555          Good  \n",
       "20      Low_spent_Large_value_payments   810.7821526659284          Good  \n",
       "29     High_spent_Small_value_payments   419.8807835023488      Standard  \n",
       "...                                ...                 ...           ...  \n",
       "99920  High_spent_Large_value_payments   711.2613048966028      Standard  \n",
       "99935   Low_spent_Small_value_payments  216.00393809551707          Poor  \n",
       "99937   Low_spent_Large_value_payments   337.1302899429426      Standard  \n",
       "99943   Low_spent_Small_value_payments  256.98930293316624          Poor  \n",
       "99989                           !@9#%8  307.65929119739087      Standard  \n",
       "\n",
       "[7062 rows x 24 columns]"
      ]
     },
     "execution_count": 93,
     "metadata": {},
     "output_type": "execute_result"
    }
   ],
   "source": [
    "# get series with occupation __\n",
    "occupation_with_underscore_idx = df_clean[df_clean[\"Occupation\"]==\"_______\"].index\n",
    "occupation_ = df_clean.iloc[occupation_with_underscore_idx]\n",
    "occupation_"
   ]
  },
  {
   "cell_type": "code",
   "execution_count": 94,
   "id": "bb0d9aae-e1d1-4c7a-a443-7dd9117d8dd4",
   "metadata": {},
   "outputs": [
    {
     "data": {
      "text/html": [
       "<div>\n",
       "<style scoped>\n",
       "    .dataframe tbody tr th:only-of-type {\n",
       "        vertical-align: middle;\n",
       "    }\n",
       "\n",
       "    .dataframe tbody tr th {\n",
       "        vertical-align: top;\n",
       "    }\n",
       "\n",
       "    .dataframe thead th {\n",
       "        text-align: right;\n",
       "    }\n",
       "</style>\n",
       "<table border=\"1\" class=\"dataframe\">\n",
       "  <thead>\n",
       "    <tr style=\"text-align: right;\">\n",
       "      <th></th>\n",
       "      <th>Month</th>\n",
       "      <th>Age</th>\n",
       "      <th>Occupation</th>\n",
       "      <th>Annual_Income</th>\n",
       "      <th>Monthly_Inhand_Salary</th>\n",
       "      <th>Num_Bank_Accounts</th>\n",
       "      <th>Num_Credit_Card</th>\n",
       "      <th>Interest_Rate</th>\n",
       "      <th>Num_of_Loan</th>\n",
       "      <th>Type_of_Loan</th>\n",
       "      <th>...</th>\n",
       "      <th>Credit_Mix</th>\n",
       "      <th>Outstanding_Debt</th>\n",
       "      <th>Credit_Utilization_Ratio</th>\n",
       "      <th>Credit_History_Age</th>\n",
       "      <th>Payment_of_Min_Amount</th>\n",
       "      <th>Total_EMI_per_month</th>\n",
       "      <th>Amount_invested_monthly</th>\n",
       "      <th>Payment_Behaviour</th>\n",
       "      <th>Monthly_Balance</th>\n",
       "      <th>Credit_Score</th>\n",
       "    </tr>\n",
       "  </thead>\n",
       "  <tbody>\n",
       "    <tr>\n",
       "      <th>0</th>\n",
       "      <td>January</td>\n",
       "      <td>23</td>\n",
       "      <td>Scientist</td>\n",
       "      <td>19114.12</td>\n",
       "      <td>1824.843333</td>\n",
       "      <td>3</td>\n",
       "      <td>4</td>\n",
       "      <td>0.03</td>\n",
       "      <td>4</td>\n",
       "      <td>Auto Loan, Credit-Builder Loan, Personal Loan,...</td>\n",
       "      <td>...</td>\n",
       "      <td>_</td>\n",
       "      <td>809.98</td>\n",
       "      <td>26.822620</td>\n",
       "      <td>22 Years and 1 Months</td>\n",
       "      <td>No</td>\n",
       "      <td>49.574949</td>\n",
       "      <td>80.41529543900253</td>\n",
       "      <td>High_spent_Small_value_payments</td>\n",
       "      <td>312.49408867943663</td>\n",
       "      <td>Good</td>\n",
       "    </tr>\n",
       "    <tr>\n",
       "      <th>1</th>\n",
       "      <td>February</td>\n",
       "      <td>23</td>\n",
       "      <td>Scientist</td>\n",
       "      <td>19114.12</td>\n",
       "      <td>NaN</td>\n",
       "      <td>3</td>\n",
       "      <td>4</td>\n",
       "      <td>0.03</td>\n",
       "      <td>4</td>\n",
       "      <td>Auto Loan, Credit-Builder Loan, Personal Loan,...</td>\n",
       "      <td>...</td>\n",
       "      <td>Good</td>\n",
       "      <td>809.98</td>\n",
       "      <td>31.944960</td>\n",
       "      <td>NaN</td>\n",
       "      <td>No</td>\n",
       "      <td>49.574949</td>\n",
       "      <td>118.28022162236736</td>\n",
       "      <td>Low_spent_Large_value_payments</td>\n",
       "      <td>284.62916249607184</td>\n",
       "      <td>Good</td>\n",
       "    </tr>\n",
       "    <tr>\n",
       "      <th>2</th>\n",
       "      <td>March</td>\n",
       "      <td>&lt;NA&gt;</td>\n",
       "      <td>Scientist</td>\n",
       "      <td>19114.12</td>\n",
       "      <td>NaN</td>\n",
       "      <td>3</td>\n",
       "      <td>4</td>\n",
       "      <td>0.03</td>\n",
       "      <td>4</td>\n",
       "      <td>Auto Loan, Credit-Builder Loan, Personal Loan,...</td>\n",
       "      <td>...</td>\n",
       "      <td>Good</td>\n",
       "      <td>809.98</td>\n",
       "      <td>28.609352</td>\n",
       "      <td>22 Years and 3 Months</td>\n",
       "      <td>No</td>\n",
       "      <td>49.574949</td>\n",
       "      <td>81.699521264648</td>\n",
       "      <td>Low_spent_Medium_value_payments</td>\n",
       "      <td>331.2098628537912</td>\n",
       "      <td>Good</td>\n",
       "    </tr>\n",
       "    <tr>\n",
       "      <th>3</th>\n",
       "      <td>April</td>\n",
       "      <td>23</td>\n",
       "      <td>Scientist</td>\n",
       "      <td>19114.12</td>\n",
       "      <td>NaN</td>\n",
       "      <td>3</td>\n",
       "      <td>4</td>\n",
       "      <td>0.03</td>\n",
       "      <td>4</td>\n",
       "      <td>Auto Loan, Credit-Builder Loan, Personal Loan,...</td>\n",
       "      <td>...</td>\n",
       "      <td>Good</td>\n",
       "      <td>809.98</td>\n",
       "      <td>31.377862</td>\n",
       "      <td>22 Years and 4 Months</td>\n",
       "      <td>No</td>\n",
       "      <td>49.574949</td>\n",
       "      <td>199.4580743910713</td>\n",
       "      <td>Low_spent_Small_value_payments</td>\n",
       "      <td>223.45130972736786</td>\n",
       "      <td>Good</td>\n",
       "    </tr>\n",
       "    <tr>\n",
       "      <th>4</th>\n",
       "      <td>May</td>\n",
       "      <td>23</td>\n",
       "      <td>Scientist</td>\n",
       "      <td>19114.12</td>\n",
       "      <td>1824.843333</td>\n",
       "      <td>3</td>\n",
       "      <td>4</td>\n",
       "      <td>0.03</td>\n",
       "      <td>4</td>\n",
       "      <td>Auto Loan, Credit-Builder Loan, Personal Loan,...</td>\n",
       "      <td>...</td>\n",
       "      <td>Good</td>\n",
       "      <td>809.98</td>\n",
       "      <td>24.797347</td>\n",
       "      <td>22 Years and 5 Months</td>\n",
       "      <td>No</td>\n",
       "      <td>49.574949</td>\n",
       "      <td>41.420153086217326</td>\n",
       "      <td>High_spent_Medium_value_payments</td>\n",
       "      <td>341.48923103222177</td>\n",
       "      <td>Good</td>\n",
       "    </tr>\n",
       "    <tr>\n",
       "      <th>...</th>\n",
       "      <td>...</td>\n",
       "      <td>...</td>\n",
       "      <td>...</td>\n",
       "      <td>...</td>\n",
       "      <td>...</td>\n",
       "      <td>...</td>\n",
       "      <td>...</td>\n",
       "      <td>...</td>\n",
       "      <td>...</td>\n",
       "      <td>...</td>\n",
       "      <td>...</td>\n",
       "      <td>...</td>\n",
       "      <td>...</td>\n",
       "      <td>...</td>\n",
       "      <td>...</td>\n",
       "      <td>...</td>\n",
       "      <td>...</td>\n",
       "      <td>...</td>\n",
       "      <td>...</td>\n",
       "      <td>...</td>\n",
       "      <td>...</td>\n",
       "    </tr>\n",
       "    <tr>\n",
       "      <th>99995</th>\n",
       "      <td>April</td>\n",
       "      <td>25</td>\n",
       "      <td>Mechanic</td>\n",
       "      <td>39628.99</td>\n",
       "      <td>3359.415833</td>\n",
       "      <td>4</td>\n",
       "      <td>6</td>\n",
       "      <td>0.07</td>\n",
       "      <td>2</td>\n",
       "      <td>Auto Loan, and Student Loan</td>\n",
       "      <td>...</td>\n",
       "      <td>_</td>\n",
       "      <td>502.38</td>\n",
       "      <td>34.663572</td>\n",
       "      <td>31 Years and 6 Months</td>\n",
       "      <td>No</td>\n",
       "      <td>35.104023</td>\n",
       "      <td>60.97133255718485</td>\n",
       "      <td>High_spent_Large_value_payments</td>\n",
       "      <td>479.86622816574095</td>\n",
       "      <td>Poor</td>\n",
       "    </tr>\n",
       "    <tr>\n",
       "      <th>99996</th>\n",
       "      <td>May</td>\n",
       "      <td>25</td>\n",
       "      <td>Mechanic</td>\n",
       "      <td>39628.99</td>\n",
       "      <td>3359.415833</td>\n",
       "      <td>4</td>\n",
       "      <td>6</td>\n",
       "      <td>0.07</td>\n",
       "      <td>2</td>\n",
       "      <td>Auto Loan, and Student Loan</td>\n",
       "      <td>...</td>\n",
       "      <td>_</td>\n",
       "      <td>502.38</td>\n",
       "      <td>40.565631</td>\n",
       "      <td>31 Years and 7 Months</td>\n",
       "      <td>No</td>\n",
       "      <td>35.104023</td>\n",
       "      <td>54.18595028760385</td>\n",
       "      <td>High_spent_Medium_value_payments</td>\n",
       "      <td>496.651610435322</td>\n",
       "      <td>Poor</td>\n",
       "    </tr>\n",
       "    <tr>\n",
       "      <th>99997</th>\n",
       "      <td>June</td>\n",
       "      <td>25</td>\n",
       "      <td>Mechanic</td>\n",
       "      <td>39628.99</td>\n",
       "      <td>3359.415833</td>\n",
       "      <td>4</td>\n",
       "      <td>6</td>\n",
       "      <td>57.29</td>\n",
       "      <td>2</td>\n",
       "      <td>Auto Loan, and Student Loan</td>\n",
       "      <td>...</td>\n",
       "      <td>Good</td>\n",
       "      <td>502.38</td>\n",
       "      <td>41.255522</td>\n",
       "      <td>31 Years and 8 Months</td>\n",
       "      <td>No</td>\n",
       "      <td>35.104023</td>\n",
       "      <td>24.02847744864441</td>\n",
       "      <td>High_spent_Large_value_payments</td>\n",
       "      <td>516.8090832742814</td>\n",
       "      <td>Poor</td>\n",
       "    </tr>\n",
       "    <tr>\n",
       "      <th>99998</th>\n",
       "      <td>July</td>\n",
       "      <td>25</td>\n",
       "      <td>Mechanic</td>\n",
       "      <td>39628.99</td>\n",
       "      <td>3359.415833</td>\n",
       "      <td>4</td>\n",
       "      <td>6</td>\n",
       "      <td>0.07</td>\n",
       "      <td>2</td>\n",
       "      <td>Auto Loan, and Student Loan</td>\n",
       "      <td>...</td>\n",
       "      <td>Good</td>\n",
       "      <td>502.38</td>\n",
       "      <td>33.638208</td>\n",
       "      <td>31 Years and 9 Months</td>\n",
       "      <td>No</td>\n",
       "      <td>35.104023</td>\n",
       "      <td>251.67258219721603</td>\n",
       "      <td>Low_spent_Large_value_payments</td>\n",
       "      <td>319.1649785257098</td>\n",
       "      <td>Standard</td>\n",
       "    </tr>\n",
       "    <tr>\n",
       "      <th>99999</th>\n",
       "      <td>August</td>\n",
       "      <td>25</td>\n",
       "      <td>Mechanic</td>\n",
       "      <td>39628.99</td>\n",
       "      <td>3359.415833</td>\n",
       "      <td>4</td>\n",
       "      <td>6</td>\n",
       "      <td>0.07</td>\n",
       "      <td>2</td>\n",
       "      <td>Auto Loan, and Student Loan</td>\n",
       "      <td>...</td>\n",
       "      <td>Good</td>\n",
       "      <td>502.38</td>\n",
       "      <td>34.192463</td>\n",
       "      <td>31 Years and 10 Months</td>\n",
       "      <td>No</td>\n",
       "      <td>35.104023</td>\n",
       "      <td>167.1638651610451</td>\n",
       "      <td>!@9#%8</td>\n",
       "      <td>393.6736955618808</td>\n",
       "      <td>Poor</td>\n",
       "    </tr>\n",
       "  </tbody>\n",
       "</table>\n",
       "<p>92938 rows × 24 columns</p>\n",
       "</div>"
      ],
      "text/plain": [
       "          Month   Age Occupation  Annual_Income  Monthly_Inhand_Salary  \\\n",
       "0       January    23  Scientist       19114.12            1824.843333   \n",
       "1      February    23  Scientist       19114.12                    NaN   \n",
       "2         March  <NA>  Scientist       19114.12                    NaN   \n",
       "3         April    23  Scientist       19114.12                    NaN   \n",
       "4           May    23  Scientist       19114.12            1824.843333   \n",
       "...         ...   ...        ...            ...                    ...   \n",
       "99995     April    25   Mechanic       39628.99            3359.415833   \n",
       "99996       May    25   Mechanic       39628.99            3359.415833   \n",
       "99997      June    25   Mechanic       39628.99            3359.415833   \n",
       "99998      July    25   Mechanic       39628.99            3359.415833   \n",
       "99999    August    25   Mechanic       39628.99            3359.415833   \n",
       "\n",
       "       Num_Bank_Accounts  Num_Credit_Card  Interest_Rate Num_of_Loan  \\\n",
       "0                      3                4           0.03           4   \n",
       "1                      3                4           0.03           4   \n",
       "2                      3                4           0.03           4   \n",
       "3                      3                4           0.03           4   \n",
       "4                      3                4           0.03           4   \n",
       "...                  ...              ...            ...         ...   \n",
       "99995                  4                6           0.07           2   \n",
       "99996                  4                6           0.07           2   \n",
       "99997                  4                6          57.29           2   \n",
       "99998                  4                6           0.07           2   \n",
       "99999                  4                6           0.07           2   \n",
       "\n",
       "                                            Type_of_Loan  ...  Credit_Mix  \\\n",
       "0      Auto Loan, Credit-Builder Loan, Personal Loan,...  ...           _   \n",
       "1      Auto Loan, Credit-Builder Loan, Personal Loan,...  ...        Good   \n",
       "2      Auto Loan, Credit-Builder Loan, Personal Loan,...  ...        Good   \n",
       "3      Auto Loan, Credit-Builder Loan, Personal Loan,...  ...        Good   \n",
       "4      Auto Loan, Credit-Builder Loan, Personal Loan,...  ...        Good   \n",
       "...                                                  ...  ...         ...   \n",
       "99995                        Auto Loan, and Student Loan  ...           _   \n",
       "99996                        Auto Loan, and Student Loan  ...           _   \n",
       "99997                        Auto Loan, and Student Loan  ...        Good   \n",
       "99998                        Auto Loan, and Student Loan  ...        Good   \n",
       "99999                        Auto Loan, and Student Loan  ...        Good   \n",
       "\n",
       "      Outstanding_Debt Credit_Utilization_Ratio      Credit_History_Age  \\\n",
       "0               809.98                26.822620   22 Years and 1 Months   \n",
       "1               809.98                31.944960                     NaN   \n",
       "2               809.98                28.609352   22 Years and 3 Months   \n",
       "3               809.98                31.377862   22 Years and 4 Months   \n",
       "4               809.98                24.797347   22 Years and 5 Months   \n",
       "...                ...                      ...                     ...   \n",
       "99995           502.38                34.663572   31 Years and 6 Months   \n",
       "99996           502.38                40.565631   31 Years and 7 Months   \n",
       "99997           502.38                41.255522   31 Years and 8 Months   \n",
       "99998           502.38                33.638208   31 Years and 9 Months   \n",
       "99999           502.38                34.192463  31 Years and 10 Months   \n",
       "\n",
       "      Payment_of_Min_Amount Total_EMI_per_month  Amount_invested_monthly  \\\n",
       "0                        No           49.574949        80.41529543900253   \n",
       "1                        No           49.574949       118.28022162236736   \n",
       "2                        No           49.574949          81.699521264648   \n",
       "3                        No           49.574949        199.4580743910713   \n",
       "4                        No           49.574949       41.420153086217326   \n",
       "...                     ...                 ...                      ...   \n",
       "99995                    No           35.104023        60.97133255718485   \n",
       "99996                    No           35.104023        54.18595028760385   \n",
       "99997                    No           35.104023        24.02847744864441   \n",
       "99998                    No           35.104023       251.67258219721603   \n",
       "99999                    No           35.104023        167.1638651610451   \n",
       "\n",
       "                      Payment_Behaviour     Monthly_Balance  Credit_Score  \n",
       "0       High_spent_Small_value_payments  312.49408867943663          Good  \n",
       "1        Low_spent_Large_value_payments  284.62916249607184          Good  \n",
       "2       Low_spent_Medium_value_payments   331.2098628537912          Good  \n",
       "3        Low_spent_Small_value_payments  223.45130972736786          Good  \n",
       "4      High_spent_Medium_value_payments  341.48923103222177          Good  \n",
       "...                                 ...                 ...           ...  \n",
       "99995   High_spent_Large_value_payments  479.86622816574095          Poor  \n",
       "99996  High_spent_Medium_value_payments    496.651610435322          Poor  \n",
       "99997   High_spent_Large_value_payments   516.8090832742814          Poor  \n",
       "99998    Low_spent_Large_value_payments   319.1649785257098      Standard  \n",
       "99999                            !@9#%8   393.6736955618808          Poor  \n",
       "\n",
       "[92938 rows x 24 columns]"
      ]
     },
     "execution_count": 94,
     "metadata": {},
     "output_type": "execute_result"
    }
   ],
   "source": [
    "# get series with clean occupation\n",
    "occupation_clean = df_clean.drop(index=occupation_with_underscore_idx)\n",
    "occupation_clean"
   ]
  },
  {
   "cell_type": "code",
   "execution_count": 95,
   "id": "6ee8781d-6f85-4237-8d4f-866e98e8e6d5",
   "metadata": {},
   "outputs": [
    {
     "data": {
      "text/plain": [
       "count       92938.00\n",
       "mean       176449.06\n",
       "std       1431056.03\n",
       "min          7005.93\n",
       "25%         19453.05\n",
       "50%         37580.34\n",
       "75%         72841.32\n",
       "max      24198062.00\n",
       "Name: Annual_Income, dtype: float64"
      ]
     },
     "execution_count": 95,
     "metadata": {},
     "output_type": "execute_result"
    }
   ],
   "source": [
    "occupation_clean[\"Annual_Income\"].describe().round(2)"
   ]
  },
  {
   "cell_type": "code",
   "execution_count": 96,
   "id": "aa0d2ebc-3ca4-4a38-bb8e-e0e765b42c32",
   "metadata": {},
   "outputs": [
    {
     "data": {
      "text/plain": [
       "count        7062.00\n",
       "mean       175976.70\n",
       "std       1410657.27\n",
       "min          7019.44\n",
       "25%         19541.26\n",
       "50%         37395.71\n",
       "75%         72145.32\n",
       "max      23467279.00\n",
       "Name: Annual_Income, dtype: float64"
      ]
     },
     "execution_count": 96,
     "metadata": {},
     "output_type": "execute_result"
    }
   ],
   "source": [
    "occupation_[\"Annual_Income\"].describe().round(2)"
   ]
  },
  {
   "cell_type": "markdown",
   "id": "c0db766c-b184-4fdc-b07c-f35a38be75ac",
   "metadata": {},
   "source": [
    "- Mean of annual income for occupation with and without _ are similar \\\\$175,976.70 vs \\\\$176,449.06\n",
    "- The std also similar \\\\$1,410,657.27 vs \\$1,431,056.03\n",
    "\n",
    "- This indicating that my assumption is wrong, thus occupation with _ are appear due to system failure or misstype"
   ]
  },
  {
   "cell_type": "markdown",
   "id": "cea9324a-2913-42c2-bd6e-09d5be342199",
   "metadata": {},
   "source": [
    "#### Assign unknown to occupation of ____"
   ]
  },
  {
   "cell_type": "code",
   "execution_count": 97,
   "id": "420c0e6d-1eef-42aa-8d5b-e196339f21b7",
   "metadata": {},
   "outputs": [],
   "source": [
    "# assign unknown to occupation of ____\n",
    "df_clean.loc[occupation_with_underscore_idx, \"Occupation\"] = \"Unknown\""
   ]
  },
  {
   "cell_type": "code",
   "execution_count": 98,
   "id": "ec99b46d-7878-4dfc-87b4-49f6832002ac",
   "metadata": {},
   "outputs": [
    {
     "data": {
      "text/plain": [
       "array(['Scientist', 'Unknown', 'Teacher', 'Engineer', 'Entrepreneur',\n",
       "       'Developer', 'Lawyer', 'Media_Manager', 'Doctor', 'Journalist',\n",
       "       'Manager', 'Accountant', 'Musician', 'Mechanic', 'Writer',\n",
       "       'Architect'], dtype=object)"
      ]
     },
     "execution_count": 98,
     "metadata": {},
     "output_type": "execute_result"
    }
   ],
   "source": [
    "df_clean[\"Occupation\"].unique()"
   ]
  },
  {
   "cell_type": "markdown",
   "id": "83db8ed1-0707-411e-baf9-5f99d0f8bfc1",
   "metadata": {},
   "source": [
    "### Monthly Inhand Salary"
   ]
  },
  {
   "cell_type": "code",
   "execution_count": 99,
   "id": "787f330a-b222-466b-bcbe-c8eb74be5f84",
   "metadata": {},
   "outputs": [
    {
     "data": {
      "text/plain": [
       "{'.'}"
      ]
     },
     "execution_count": 99,
     "metadata": {},
     "output_type": "execute_result"
    }
   ],
   "source": [
    "get_unique_chars_on_numerical_series(df_clean[\"Monthly_Inhand_Salary\"])"
   ]
  },
  {
   "cell_type": "markdown",
   "id": "4418d82f-b6d2-410c-bf08-4e4871380e4d",
   "metadata": {},
   "source": [
    "> This column only contain character ., indicating a floating number"
   ]
  },
  {
   "cell_type": "code",
   "execution_count": 100,
   "id": "31692a01-5a6f-4c44-bb03-8d14ed1917d9",
   "metadata": {},
   "outputs": [
    {
     "data": {
      "text/plain": [
       "dtype('float64')"
      ]
     },
     "execution_count": 100,
     "metadata": {},
     "output_type": "execute_result"
    }
   ],
   "source": [
    "df_clean[\"Monthly_Inhand_Salary\"].dtype"
   ]
  },
  {
   "cell_type": "markdown",
   "id": "e6800413-cd23-4368-9446-ae4715c97745",
   "metadata": {},
   "source": [
    "- Annual income contains missing values and the data type already float"
   ]
  },
  {
   "cell_type": "markdown",
   "id": "51c2c422-49d2-4772-b3d1-ada2d11efab4",
   "metadata": {},
   "source": [
    "### Num Bank Accounts"
   ]
  },
  {
   "cell_type": "code",
   "execution_count": 101,
   "id": "0d44dc0c-9b05-4721-afb7-1b1226035aa6",
   "metadata": {},
   "outputs": [
    {
     "data": {
      "text/plain": [
       "0"
      ]
     },
     "execution_count": 101,
     "metadata": {},
     "output_type": "execute_result"
    }
   ],
   "source": [
    "df_clean[\"Num_Bank_Accounts\"].isna().sum()"
   ]
  },
  {
   "cell_type": "code",
   "execution_count": 102,
   "id": "d6f7c0b7-d566-4ead-9834-ecc831a57437",
   "metadata": {},
   "outputs": [
    {
     "data": {
      "text/plain": [
       "{'-'}"
      ]
     },
     "execution_count": 102,
     "metadata": {},
     "output_type": "execute_result"
    }
   ],
   "source": [
    "get_unique_chars_on_numerical_series(df_clean[\"Num_Bank_Accounts\"])"
   ]
  },
  {
   "cell_type": "markdown",
   "id": "bbb1447a-7480-41e7-b1aa-f4f3b5cd566f",
   "metadata": {},
   "source": [
    "> Number of bank accounts souldn't contain negative number"
   ]
  },
  {
   "cell_type": "code",
   "execution_count": 103,
   "id": "430cd5be-6e69-4901-86e9-74f01df13eff",
   "metadata": {},
   "outputs": [
    {
     "data": {
      "text/html": [
       "<div>\n",
       "<style scoped>\n",
       "    .dataframe tbody tr th:only-of-type {\n",
       "        vertical-align: middle;\n",
       "    }\n",
       "\n",
       "    .dataframe tbody tr th {\n",
       "        vertical-align: top;\n",
       "    }\n",
       "\n",
       "    .dataframe thead th {\n",
       "        text-align: right;\n",
       "    }\n",
       "</style>\n",
       "<table border=\"1\" class=\"dataframe\">\n",
       "  <thead>\n",
       "    <tr style=\"text-align: right;\">\n",
       "      <th></th>\n",
       "      <th>Month</th>\n",
       "      <th>Age</th>\n",
       "      <th>Occupation</th>\n",
       "      <th>Annual_Income</th>\n",
       "      <th>Monthly_Inhand_Salary</th>\n",
       "      <th>Num_Bank_Accounts</th>\n",
       "      <th>Num_Credit_Card</th>\n",
       "      <th>Interest_Rate</th>\n",
       "      <th>Num_of_Loan</th>\n",
       "      <th>Type_of_Loan</th>\n",
       "      <th>...</th>\n",
       "      <th>Credit_Mix</th>\n",
       "      <th>Outstanding_Debt</th>\n",
       "      <th>Credit_Utilization_Ratio</th>\n",
       "      <th>Credit_History_Age</th>\n",
       "      <th>Payment_of_Min_Amount</th>\n",
       "      <th>Total_EMI_per_month</th>\n",
       "      <th>Amount_invested_monthly</th>\n",
       "      <th>Payment_Behaviour</th>\n",
       "      <th>Monthly_Balance</th>\n",
       "      <th>Credit_Score</th>\n",
       "    </tr>\n",
       "  </thead>\n",
       "  <tbody>\n",
       "    <tr>\n",
       "      <th>30330</th>\n",
       "      <td>March</td>\n",
       "      <td>39</td>\n",
       "      <td>Engineer</td>\n",
       "      <td>128305.76</td>\n",
       "      <td>10434.146667</td>\n",
       "      <td>-1</td>\n",
       "      <td>6</td>\n",
       "      <td>0.01</td>\n",
       "      <td>2_</td>\n",
       "      <td>Auto Loan, and Not Specified</td>\n",
       "      <td>...</td>\n",
       "      <td>Good</td>\n",
       "      <td>1151.7</td>\n",
       "      <td>40.586736</td>\n",
       "      <td>22 Years and 5 Months</td>\n",
       "      <td>No</td>\n",
       "      <td>196.587321</td>\n",
       "      <td>230.9223857499363</td>\n",
       "      <td>High_spent_Large_value_payments</td>\n",
       "      <td>855.9049597507532</td>\n",
       "      <td>Standard</td>\n",
       "    </tr>\n",
       "    <tr>\n",
       "      <th>30331</th>\n",
       "      <td>April</td>\n",
       "      <td>40</td>\n",
       "      <td>Engineer</td>\n",
       "      <td>128305.76</td>\n",
       "      <td>NaN</td>\n",
       "      <td>-1</td>\n",
       "      <td>6</td>\n",
       "      <td>0.01</td>\n",
       "      <td>2</td>\n",
       "      <td>Auto Loan, and Not Specified</td>\n",
       "      <td>...</td>\n",
       "      <td>Good</td>\n",
       "      <td>1151.7_</td>\n",
       "      <td>39.369401</td>\n",
       "      <td>22 Years and 6 Months</td>\n",
       "      <td>No</td>\n",
       "      <td>196.587321</td>\n",
       "      <td>524.3044177743545</td>\n",
       "      <td>Low_spent_Large_value_payments</td>\n",
       "      <td>592.522927726335</td>\n",
       "      <td>Good</td>\n",
       "    </tr>\n",
       "    <tr>\n",
       "      <th>30332</th>\n",
       "      <td>May</td>\n",
       "      <td>40</td>\n",
       "      <td>Engineer</td>\n",
       "      <td>128305.76</td>\n",
       "      <td>10434.146667</td>\n",
       "      <td>-1</td>\n",
       "      <td>6</td>\n",
       "      <td>0.01</td>\n",
       "      <td>2</td>\n",
       "      <td>Auto Loan, and Not Specified</td>\n",
       "      <td>...</td>\n",
       "      <td>Good</td>\n",
       "      <td>1151.7</td>\n",
       "      <td>28.702053</td>\n",
       "      <td>22 Years and 7 Months</td>\n",
       "      <td>No</td>\n",
       "      <td>196.587321</td>\n",
       "      <td>150.0966753535676</td>\n",
       "      <td>High_spent_Large_value_payments</td>\n",
       "      <td>936.7306701471217</td>\n",
       "      <td>Good</td>\n",
       "    </tr>\n",
       "    <tr>\n",
       "      <th>30333</th>\n",
       "      <td>June</td>\n",
       "      <td>40</td>\n",
       "      <td>Engineer</td>\n",
       "      <td>128305.76</td>\n",
       "      <td>10434.146667</td>\n",
       "      <td>-1</td>\n",
       "      <td>6</td>\n",
       "      <td>0.01</td>\n",
       "      <td>2</td>\n",
       "      <td>Auto Loan, and Not Specified</td>\n",
       "      <td>...</td>\n",
       "      <td>Good</td>\n",
       "      <td>1151.7</td>\n",
       "      <td>34.808390</td>\n",
       "      <td>22 Years and 8 Months</td>\n",
       "      <td>No</td>\n",
       "      <td>196.587321</td>\n",
       "      <td>1006.6980690205388</td>\n",
       "      <td>Low_spent_Medium_value_payments</td>\n",
       "      <td>120.12927648015079</td>\n",
       "      <td>Good</td>\n",
       "    </tr>\n",
       "    <tr>\n",
       "      <th>30334</th>\n",
       "      <td>July</td>\n",
       "      <td>40</td>\n",
       "      <td>Engineer</td>\n",
       "      <td>128305.76</td>\n",
       "      <td>10434.146667</td>\n",
       "      <td>-1</td>\n",
       "      <td>6</td>\n",
       "      <td>0.01</td>\n",
       "      <td>2</td>\n",
       "      <td>Auto Loan, and Not Specified</td>\n",
       "      <td>...</td>\n",
       "      <td>Good</td>\n",
       "      <td>1151.7</td>\n",
       "      <td>35.206427</td>\n",
       "      <td>NaN</td>\n",
       "      <td>No</td>\n",
       "      <td>42850.000000</td>\n",
       "      <td>172.99202124673786</td>\n",
       "      <td>High_spent_Large_value_payments</td>\n",
       "      <td>913.8353242539515</td>\n",
       "      <td>Good</td>\n",
       "    </tr>\n",
       "    <tr>\n",
       "      <th>30335</th>\n",
       "      <td>August</td>\n",
       "      <td>40</td>\n",
       "      <td>Engineer</td>\n",
       "      <td>22136920.00</td>\n",
       "      <td>NaN</td>\n",
       "      <td>-1</td>\n",
       "      <td>6</td>\n",
       "      <td>0.01</td>\n",
       "      <td>2</td>\n",
       "      <td>Auto Loan, and Not Specified</td>\n",
       "      <td>...</td>\n",
       "      <td>_</td>\n",
       "      <td>1151.7</td>\n",
       "      <td>38.278518</td>\n",
       "      <td>22 Years and 10 Months</td>\n",
       "      <td>No</td>\n",
       "      <td>196.587321</td>\n",
       "      <td>338.67230317776176</td>\n",
       "      <td>High_spent_Medium_value_payments</td>\n",
       "      <td>758.1550423229277</td>\n",
       "      <td>Good</td>\n",
       "    </tr>\n",
       "    <tr>\n",
       "      <th>43689</th>\n",
       "      <td>February</td>\n",
       "      <td>54</td>\n",
       "      <td>Engineer</td>\n",
       "      <td>117851.07</td>\n",
       "      <td>9870.922500</td>\n",
       "      <td>-1</td>\n",
       "      <td>6</td>\n",
       "      <td>0.07</td>\n",
       "      <td>0</td>\n",
       "      <td>NaN</td>\n",
       "      <td>...</td>\n",
       "      <td>Good</td>\n",
       "      <td>607.78</td>\n",
       "      <td>37.286105</td>\n",
       "      <td>20 Years and 6 Months</td>\n",
       "      <td>No</td>\n",
       "      <td>0.000000</td>\n",
       "      <td>668.1444536762707</td>\n",
       "      <td>!@9#%8</td>\n",
       "      <td>588.9477963237292</td>\n",
       "      <td>Poor</td>\n",
       "    </tr>\n",
       "    <tr>\n",
       "      <th>43690</th>\n",
       "      <td>March</td>\n",
       "      <td>54</td>\n",
       "      <td>Engineer</td>\n",
       "      <td>117851.07</td>\n",
       "      <td>9870.922500</td>\n",
       "      <td>-1</td>\n",
       "      <td>6</td>\n",
       "      <td>0.07</td>\n",
       "      <td>0</td>\n",
       "      <td>NaN</td>\n",
       "      <td>...</td>\n",
       "      <td>Good</td>\n",
       "      <td>607.78</td>\n",
       "      <td>41.915627</td>\n",
       "      <td>20 Years and 7 Months</td>\n",
       "      <td>No</td>\n",
       "      <td>0.000000</td>\n",
       "      <td>142.31978881674561</td>\n",
       "      <td>High_spent_Large_value_payments</td>\n",
       "      <td>1084.7724611832548</td>\n",
       "      <td>Poor</td>\n",
       "    </tr>\n",
       "    <tr>\n",
       "      <th>43691</th>\n",
       "      <td>April</td>\n",
       "      <td>54</td>\n",
       "      <td>Engineer</td>\n",
       "      <td>117851.07</td>\n",
       "      <td>9870.922500</td>\n",
       "      <td>-1</td>\n",
       "      <td>6</td>\n",
       "      <td>0.07</td>\n",
       "      <td>0</td>\n",
       "      <td>NaN</td>\n",
       "      <td>...</td>\n",
       "      <td>Good</td>\n",
       "      <td>607.78</td>\n",
       "      <td>41.799942</td>\n",
       "      <td>20 Years and 8 Months</td>\n",
       "      <td>No</td>\n",
       "      <td>0.000000</td>\n",
       "      <td>467.563922615828</td>\n",
       "      <td>High_spent_Small_value_payments</td>\n",
       "      <td>779.528327384172</td>\n",
       "      <td>Poor</td>\n",
       "    </tr>\n",
       "    <tr>\n",
       "      <th>43692</th>\n",
       "      <td>May</td>\n",
       "      <td>54</td>\n",
       "      <td>Engineer</td>\n",
       "      <td>117851.07</td>\n",
       "      <td>9870.922500</td>\n",
       "      <td>-1</td>\n",
       "      <td>6</td>\n",
       "      <td>0.07</td>\n",
       "      <td>0</td>\n",
       "      <td>NaN</td>\n",
       "      <td>...</td>\n",
       "      <td>Good</td>\n",
       "      <td>607.78</td>\n",
       "      <td>46.244581</td>\n",
       "      <td>20 Years and 9 Months</td>\n",
       "      <td>No</td>\n",
       "      <td>0.000000</td>\n",
       "      <td>NaN</td>\n",
       "      <td>High_spent_Large_value_payments</td>\n",
       "      <td>1037.5063384360787</td>\n",
       "      <td>Poor</td>\n",
       "    </tr>\n",
       "    <tr>\n",
       "      <th>43693</th>\n",
       "      <td>June</td>\n",
       "      <td>54</td>\n",
       "      <td>Engineer</td>\n",
       "      <td>117851.07</td>\n",
       "      <td>9870.922500</td>\n",
       "      <td>-1</td>\n",
       "      <td>6</td>\n",
       "      <td>0.07</td>\n",
       "      <td>0</td>\n",
       "      <td>NaN</td>\n",
       "      <td>...</td>\n",
       "      <td>Good</td>\n",
       "      <td>607.78</td>\n",
       "      <td>32.303737</td>\n",
       "      <td>20 Years and 10 Months</td>\n",
       "      <td>No</td>\n",
       "      <td>0.000000</td>\n",
       "      <td>218.00522319835895</td>\n",
       "      <td>High_spent_Medium_value_payments</td>\n",
       "      <td>1019.0870268016413</td>\n",
       "      <td>Poor</td>\n",
       "    </tr>\n",
       "    <tr>\n",
       "      <th>43694</th>\n",
       "      <td>July</td>\n",
       "      <td>54</td>\n",
       "      <td>Engineer</td>\n",
       "      <td>117851.07</td>\n",
       "      <td>9870.922500</td>\n",
       "      <td>-1</td>\n",
       "      <td>6</td>\n",
       "      <td>0.07</td>\n",
       "      <td>0</td>\n",
       "      <td>NaN</td>\n",
       "      <td>...</td>\n",
       "      <td>Good</td>\n",
       "      <td>607.78</td>\n",
       "      <td>30.709169</td>\n",
       "      <td>20 Years and 11 Months</td>\n",
       "      <td>No</td>\n",
       "      <td>0.000000</td>\n",
       "      <td>352.80115804899873</td>\n",
       "      <td>High_spent_Medium_value_payments</td>\n",
       "      <td>884.2910919510015</td>\n",
       "      <td>Poor</td>\n",
       "    </tr>\n",
       "    <tr>\n",
       "      <th>43695</th>\n",
       "      <td>August</td>\n",
       "      <td>54</td>\n",
       "      <td>Engineer</td>\n",
       "      <td>117851.07</td>\n",
       "      <td>9870.922500</td>\n",
       "      <td>-1</td>\n",
       "      <td>6</td>\n",
       "      <td>0.07</td>\n",
       "      <td>0</td>\n",
       "      <td>NaN</td>\n",
       "      <td>...</td>\n",
       "      <td>Good</td>\n",
       "      <td>607.78</td>\n",
       "      <td>34.041733</td>\n",
       "      <td>21 Years and 0 Months</td>\n",
       "      <td>No</td>\n",
       "      <td>0.000000</td>\n",
       "      <td>467.41582464616476</td>\n",
       "      <td>High_spent_Small_value_payments</td>\n",
       "      <td>779.6764253538355</td>\n",
       "      <td>Poor</td>\n",
       "    </tr>\n",
       "    <tr>\n",
       "      <th>47212</th>\n",
       "      <td>May</td>\n",
       "      <td>36</td>\n",
       "      <td>Lawyer</td>\n",
       "      <td>22312.07</td>\n",
       "      <td>2013.339167</td>\n",
       "      <td>-1</td>\n",
       "      <td>3</td>\n",
       "      <td>0.04</td>\n",
       "      <td>3</td>\n",
       "      <td>Home Equity Loan, Debt Consolidation Loan, and...</td>\n",
       "      <td>...</td>\n",
       "      <td>_</td>\n",
       "      <td>51.37</td>\n",
       "      <td>40.402442</td>\n",
       "      <td>23 Years and 7 Months</td>\n",
       "      <td>No</td>\n",
       "      <td>32.891186</td>\n",
       "      <td>__10000__</td>\n",
       "      <td>High_spent_Small_value_payments</td>\n",
       "      <td>341.0972605265373</td>\n",
       "      <td>Good</td>\n",
       "    </tr>\n",
       "    <tr>\n",
       "      <th>47213</th>\n",
       "      <td>June</td>\n",
       "      <td>36</td>\n",
       "      <td>Unknown</td>\n",
       "      <td>22312.07</td>\n",
       "      <td>2013.339167</td>\n",
       "      <td>-1</td>\n",
       "      <td>3</td>\n",
       "      <td>0.04</td>\n",
       "      <td>3</td>\n",
       "      <td>Home Equity Loan, Debt Consolidation Loan, and...</td>\n",
       "      <td>...</td>\n",
       "      <td>Good</td>\n",
       "      <td>51.37</td>\n",
       "      <td>34.824443</td>\n",
       "      <td>23 Years and 8 Months</td>\n",
       "      <td>No</td>\n",
       "      <td>32.891186</td>\n",
       "      <td>39.79680744547639</td>\n",
       "      <td>High_spent_Medium_value_payments</td>\n",
       "      <td>378.6459228513411</td>\n",
       "      <td>Good</td>\n",
       "    </tr>\n",
       "    <tr>\n",
       "      <th>47214</th>\n",
       "      <td>July</td>\n",
       "      <td>36</td>\n",
       "      <td>Lawyer</td>\n",
       "      <td>22312.07</td>\n",
       "      <td>2013.339167</td>\n",
       "      <td>-1</td>\n",
       "      <td>3</td>\n",
       "      <td>0.04</td>\n",
       "      <td>3</td>\n",
       "      <td>Home Equity Loan, Debt Consolidation Loan, and...</td>\n",
       "      <td>...</td>\n",
       "      <td>_</td>\n",
       "      <td>51.37</td>\n",
       "      <td>25.649329</td>\n",
       "      <td>23 Years and 9 Months</td>\n",
       "      <td>No</td>\n",
       "      <td>32.891186</td>\n",
       "      <td>148.93275150090662</td>\n",
       "      <td>Low_spent_Large_value_payments</td>\n",
       "      <td>289.5099787959108</td>\n",
       "      <td>Standard</td>\n",
       "    </tr>\n",
       "    <tr>\n",
       "      <th>47215</th>\n",
       "      <td>August</td>\n",
       "      <td>36</td>\n",
       "      <td>Lawyer</td>\n",
       "      <td>22312.07</td>\n",
       "      <td>2013.339167</td>\n",
       "      <td>-1</td>\n",
       "      <td>3</td>\n",
       "      <td>0.04</td>\n",
       "      <td>3</td>\n",
       "      <td>Home Equity Loan, Debt Consolidation Loan, and...</td>\n",
       "      <td>...</td>\n",
       "      <td>Good</td>\n",
       "      <td>51.37</td>\n",
       "      <td>30.059211</td>\n",
       "      <td>23 Years and 10 Months</td>\n",
       "      <td>No</td>\n",
       "      <td>32.891186</td>\n",
       "      <td>23.00309350191133</td>\n",
       "      <td>High_spent_Medium_value_payments</td>\n",
       "      <td>395.43963679490616</td>\n",
       "      <td>Good</td>\n",
       "    </tr>\n",
       "    <tr>\n",
       "      <th>55636</th>\n",
       "      <td>May</td>\n",
       "      <td>40</td>\n",
       "      <td>Developer</td>\n",
       "      <td>30352.11</td>\n",
       "      <td>2317.342500</td>\n",
       "      <td>-1</td>\n",
       "      <td>165</td>\n",
       "      <td>0.07</td>\n",
       "      <td>1</td>\n",
       "      <td>Student Loan</td>\n",
       "      <td>...</td>\n",
       "      <td>Good</td>\n",
       "      <td>644.57</td>\n",
       "      <td>25.532001</td>\n",
       "      <td>23 Years and 9 Months</td>\n",
       "      <td>NM</td>\n",
       "      <td>16.483566</td>\n",
       "      <td>126.66534532381421</td>\n",
       "      <td>Low_spent_Medium_value_payments</td>\n",
       "      <td>368.5853384529692</td>\n",
       "      <td>Standard</td>\n",
       "    </tr>\n",
       "    <tr>\n",
       "      <th>55637</th>\n",
       "      <td>June</td>\n",
       "      <td>40</td>\n",
       "      <td>Developer</td>\n",
       "      <td>30352.11</td>\n",
       "      <td>2317.342500</td>\n",
       "      <td>-1</td>\n",
       "      <td>4</td>\n",
       "      <td>0.07</td>\n",
       "      <td>-100</td>\n",
       "      <td>Student Loan</td>\n",
       "      <td>...</td>\n",
       "      <td>Good</td>\n",
       "      <td>644.57</td>\n",
       "      <td>31.813259</td>\n",
       "      <td>23 Years and 10 Months</td>\n",
       "      <td>No</td>\n",
       "      <td>16.483566</td>\n",
       "      <td>54.82132668337657</td>\n",
       "      <td>High_spent_Large_value_payments</td>\n",
       "      <td>400.42935709340685</td>\n",
       "      <td>Standard</td>\n",
       "    </tr>\n",
       "    <tr>\n",
       "      <th>55638</th>\n",
       "      <td>July</td>\n",
       "      <td>41</td>\n",
       "      <td>Developer</td>\n",
       "      <td>30352.11</td>\n",
       "      <td>2317.342500</td>\n",
       "      <td>-1</td>\n",
       "      <td>4</td>\n",
       "      <td>0.07</td>\n",
       "      <td>1</td>\n",
       "      <td>Student Loan</td>\n",
       "      <td>...</td>\n",
       "      <td>Good</td>\n",
       "      <td>644.57</td>\n",
       "      <td>26.574175</td>\n",
       "      <td>23 Years and 11 Months</td>\n",
       "      <td>No</td>\n",
       "      <td>16.483566</td>\n",
       "      <td>64.86083753440263</td>\n",
       "      <td>!@9#%8</td>\n",
       "      <td>400.38984624238066</td>\n",
       "      <td>Standard</td>\n",
       "    </tr>\n",
       "    <tr>\n",
       "      <th>55639</th>\n",
       "      <td>August</td>\n",
       "      <td>41</td>\n",
       "      <td>Developer</td>\n",
       "      <td>30352.11</td>\n",
       "      <td>2317.342500</td>\n",
       "      <td>-1</td>\n",
       "      <td>4</td>\n",
       "      <td>0.07</td>\n",
       "      <td>1</td>\n",
       "      <td>Student Loan</td>\n",
       "      <td>...</td>\n",
       "      <td>Good</td>\n",
       "      <td>644.57</td>\n",
       "      <td>32.937399</td>\n",
       "      <td>24 Years and 0 Months</td>\n",
       "      <td>No</td>\n",
       "      <td>16.483566</td>\n",
       "      <td>89.62296249058659</td>\n",
       "      <td>High_spent_Medium_value_payments</td>\n",
       "      <td>375.62772128619685</td>\n",
       "      <td>Standard</td>\n",
       "    </tr>\n",
       "  </tbody>\n",
       "</table>\n",
       "<p>21 rows × 24 columns</p>\n",
       "</div>"
      ],
      "text/plain": [
       "          Month  Age Occupation  Annual_Income  Monthly_Inhand_Salary  \\\n",
       "30330     March   39   Engineer      128305.76           10434.146667   \n",
       "30331     April   40   Engineer      128305.76                    NaN   \n",
       "30332       May   40   Engineer      128305.76           10434.146667   \n",
       "30333      June   40   Engineer      128305.76           10434.146667   \n",
       "30334      July   40   Engineer      128305.76           10434.146667   \n",
       "30335    August   40   Engineer    22136920.00                    NaN   \n",
       "43689  February   54   Engineer      117851.07            9870.922500   \n",
       "43690     March   54   Engineer      117851.07            9870.922500   \n",
       "43691     April   54   Engineer      117851.07            9870.922500   \n",
       "43692       May   54   Engineer      117851.07            9870.922500   \n",
       "43693      June   54   Engineer      117851.07            9870.922500   \n",
       "43694      July   54   Engineer      117851.07            9870.922500   \n",
       "43695    August   54   Engineer      117851.07            9870.922500   \n",
       "47212       May   36     Lawyer       22312.07            2013.339167   \n",
       "47213      June   36    Unknown       22312.07            2013.339167   \n",
       "47214      July   36     Lawyer       22312.07            2013.339167   \n",
       "47215    August   36     Lawyer       22312.07            2013.339167   \n",
       "55636       May   40  Developer       30352.11            2317.342500   \n",
       "55637      June   40  Developer       30352.11            2317.342500   \n",
       "55638      July   41  Developer       30352.11            2317.342500   \n",
       "55639    August   41  Developer       30352.11            2317.342500   \n",
       "\n",
       "       Num_Bank_Accounts  Num_Credit_Card  Interest_Rate Num_of_Loan  \\\n",
       "30330                 -1                6           0.01          2_   \n",
       "30331                 -1                6           0.01           2   \n",
       "30332                 -1                6           0.01           2   \n",
       "30333                 -1                6           0.01           2   \n",
       "30334                 -1                6           0.01           2   \n",
       "30335                 -1                6           0.01           2   \n",
       "43689                 -1                6           0.07           0   \n",
       "43690                 -1                6           0.07           0   \n",
       "43691                 -1                6           0.07           0   \n",
       "43692                 -1                6           0.07           0   \n",
       "43693                 -1                6           0.07           0   \n",
       "43694                 -1                6           0.07           0   \n",
       "43695                 -1                6           0.07           0   \n",
       "47212                 -1                3           0.04           3   \n",
       "47213                 -1                3           0.04           3   \n",
       "47214                 -1                3           0.04           3   \n",
       "47215                 -1                3           0.04           3   \n",
       "55636                 -1              165           0.07           1   \n",
       "55637                 -1                4           0.07        -100   \n",
       "55638                 -1                4           0.07           1   \n",
       "55639                 -1                4           0.07           1   \n",
       "\n",
       "                                            Type_of_Loan  ...  Credit_Mix  \\\n",
       "30330                       Auto Loan, and Not Specified  ...        Good   \n",
       "30331                       Auto Loan, and Not Specified  ...        Good   \n",
       "30332                       Auto Loan, and Not Specified  ...        Good   \n",
       "30333                       Auto Loan, and Not Specified  ...        Good   \n",
       "30334                       Auto Loan, and Not Specified  ...        Good   \n",
       "30335                       Auto Loan, and Not Specified  ...           _   \n",
       "43689                                                NaN  ...        Good   \n",
       "43690                                                NaN  ...        Good   \n",
       "43691                                                NaN  ...        Good   \n",
       "43692                                                NaN  ...        Good   \n",
       "43693                                                NaN  ...        Good   \n",
       "43694                                                NaN  ...        Good   \n",
       "43695                                                NaN  ...        Good   \n",
       "47212  Home Equity Loan, Debt Consolidation Loan, and...  ...           _   \n",
       "47213  Home Equity Loan, Debt Consolidation Loan, and...  ...        Good   \n",
       "47214  Home Equity Loan, Debt Consolidation Loan, and...  ...           _   \n",
       "47215  Home Equity Loan, Debt Consolidation Loan, and...  ...        Good   \n",
       "55636                                       Student Loan  ...        Good   \n",
       "55637                                       Student Loan  ...        Good   \n",
       "55638                                       Student Loan  ...        Good   \n",
       "55639                                       Student Loan  ...        Good   \n",
       "\n",
       "      Outstanding_Debt Credit_Utilization_Ratio      Credit_History_Age  \\\n",
       "30330           1151.7                40.586736   22 Years and 5 Months   \n",
       "30331          1151.7_                39.369401   22 Years and 6 Months   \n",
       "30332           1151.7                28.702053   22 Years and 7 Months   \n",
       "30333           1151.7                34.808390   22 Years and 8 Months   \n",
       "30334           1151.7                35.206427                     NaN   \n",
       "30335           1151.7                38.278518  22 Years and 10 Months   \n",
       "43689           607.78                37.286105   20 Years and 6 Months   \n",
       "43690           607.78                41.915627   20 Years and 7 Months   \n",
       "43691           607.78                41.799942   20 Years and 8 Months   \n",
       "43692           607.78                46.244581   20 Years and 9 Months   \n",
       "43693           607.78                32.303737  20 Years and 10 Months   \n",
       "43694           607.78                30.709169  20 Years and 11 Months   \n",
       "43695           607.78                34.041733   21 Years and 0 Months   \n",
       "47212            51.37                40.402442   23 Years and 7 Months   \n",
       "47213            51.37                34.824443   23 Years and 8 Months   \n",
       "47214            51.37                25.649329   23 Years and 9 Months   \n",
       "47215            51.37                30.059211  23 Years and 10 Months   \n",
       "55636           644.57                25.532001   23 Years and 9 Months   \n",
       "55637           644.57                31.813259  23 Years and 10 Months   \n",
       "55638           644.57                26.574175  23 Years and 11 Months   \n",
       "55639           644.57                32.937399   24 Years and 0 Months   \n",
       "\n",
       "      Payment_of_Min_Amount Total_EMI_per_month  Amount_invested_monthly  \\\n",
       "30330                    No          196.587321        230.9223857499363   \n",
       "30331                    No          196.587321        524.3044177743545   \n",
       "30332                    No          196.587321        150.0966753535676   \n",
       "30333                    No          196.587321       1006.6980690205388   \n",
       "30334                    No        42850.000000       172.99202124673786   \n",
       "30335                    No          196.587321       338.67230317776176   \n",
       "43689                    No            0.000000        668.1444536762707   \n",
       "43690                    No            0.000000       142.31978881674561   \n",
       "43691                    No            0.000000         467.563922615828   \n",
       "43692                    No            0.000000                      NaN   \n",
       "43693                    No            0.000000       218.00522319835895   \n",
       "43694                    No            0.000000       352.80115804899873   \n",
       "43695                    No            0.000000       467.41582464616476   \n",
       "47212                    No           32.891186                __10000__   \n",
       "47213                    No           32.891186        39.79680744547639   \n",
       "47214                    No           32.891186       148.93275150090662   \n",
       "47215                    No           32.891186        23.00309350191133   \n",
       "55636                    NM           16.483566       126.66534532381421   \n",
       "55637                    No           16.483566        54.82132668337657   \n",
       "55638                    No           16.483566        64.86083753440263   \n",
       "55639                    No           16.483566        89.62296249058659   \n",
       "\n",
       "                      Payment_Behaviour     Monthly_Balance  Credit_Score  \n",
       "30330   High_spent_Large_value_payments   855.9049597507532      Standard  \n",
       "30331    Low_spent_Large_value_payments    592.522927726335          Good  \n",
       "30332   High_spent_Large_value_payments   936.7306701471217          Good  \n",
       "30333   Low_spent_Medium_value_payments  120.12927648015079          Good  \n",
       "30334   High_spent_Large_value_payments   913.8353242539515          Good  \n",
       "30335  High_spent_Medium_value_payments   758.1550423229277          Good  \n",
       "43689                            !@9#%8   588.9477963237292          Poor  \n",
       "43690   High_spent_Large_value_payments  1084.7724611832548          Poor  \n",
       "43691   High_spent_Small_value_payments    779.528327384172          Poor  \n",
       "43692   High_spent_Large_value_payments  1037.5063384360787          Poor  \n",
       "43693  High_spent_Medium_value_payments  1019.0870268016413          Poor  \n",
       "43694  High_spent_Medium_value_payments   884.2910919510015          Poor  \n",
       "43695   High_spent_Small_value_payments   779.6764253538355          Poor  \n",
       "47212   High_spent_Small_value_payments   341.0972605265373          Good  \n",
       "47213  High_spent_Medium_value_payments   378.6459228513411          Good  \n",
       "47214    Low_spent_Large_value_payments   289.5099787959108      Standard  \n",
       "47215  High_spent_Medium_value_payments  395.43963679490616          Good  \n",
       "55636   Low_spent_Medium_value_payments   368.5853384529692      Standard  \n",
       "55637   High_spent_Large_value_payments  400.42935709340685      Standard  \n",
       "55638                            !@9#%8  400.38984624238066      Standard  \n",
       "55639  High_spent_Medium_value_payments  375.62772128619685      Standard  \n",
       "\n",
       "[21 rows x 24 columns]"
      ]
     },
     "execution_count": 103,
     "metadata": {},
     "output_type": "execute_result"
    }
   ],
   "source": [
    "negative_num_bank_accounts = df_clean[df_clean[\"Num_Bank_Accounts\"]<0]\n",
    "negative_num_bank_accounts"
   ]
  },
  {
   "cell_type": "markdown",
   "id": "ae312d12-67bd-443c-8270-48fd7d65f2cc",
   "metadata": {},
   "source": [
    "- Since there are only 21 observations contain negative value of number bank accounts, I will assign these values as missing"
   ]
  },
  {
   "cell_type": "markdown",
   "id": "41530431-4552-4eee-9a9d-85020780ff62",
   "metadata": {},
   "source": [
    "#### Assign Negative Num Bank Account as Missing Values"
   ]
  },
  {
   "cell_type": "code",
   "execution_count": 104,
   "id": "eabda875-0cbb-40dc-bfb6-41e490d4ed56",
   "metadata": {},
   "outputs": [],
   "source": [
    "df_clean.loc[negative_num_bank_accounts.index, \"Num_Bank_Account\"] = np.nan"
   ]
  },
  {
   "cell_type": "markdown",
   "id": "4c54d91f-a09d-452d-9240-5493d76161ea",
   "metadata": {},
   "source": [
    "### Num Credit Card"
   ]
  },
  {
   "cell_type": "code",
   "execution_count": 105,
   "id": "5b38bb5a-a443-4328-9b55-3dae375a90ca",
   "metadata": {},
   "outputs": [
    {
     "data": {
      "text/plain": [
       "dtype('int64')"
      ]
     },
     "execution_count": 105,
     "metadata": {},
     "output_type": "execute_result"
    }
   ],
   "source": [
    "df_clean[\"Num_Credit_Card\"].dtype"
   ]
  },
  {
   "cell_type": "code",
   "execution_count": 106,
   "id": "1c7034ac-ceb0-4c76-9c2c-91265326cf83",
   "metadata": {},
   "outputs": [
    {
     "data": {
      "text/plain": [
       "0"
      ]
     },
     "execution_count": 106,
     "metadata": {},
     "output_type": "execute_result"
    }
   ],
   "source": [
    "df_clean[\"Num_Credit_Card\"].isna().sum()"
   ]
  },
  {
   "cell_type": "markdown",
   "id": "271d2114-e727-400c-8662-a1f1ea2ba82e",
   "metadata": {},
   "source": [
    "- Num credit card doesn't contain missing values and the data type already int"
   ]
  },
  {
   "cell_type": "code",
   "execution_count": 107,
   "id": "f8d97cf8-6625-479a-96c2-90105cef1216",
   "metadata": {},
   "outputs": [
    {
     "data": {
      "text/plain": [
       "set()"
      ]
     },
     "execution_count": 107,
     "metadata": {},
     "output_type": "execute_result"
    }
   ],
   "source": [
    "get_unique_chars_on_numerical_series(df_clean[\"Num_Credit_Card\"])"
   ]
  },
  {
   "cell_type": "markdown",
   "id": "8420769b-0d86-4620-9fe6-5e965b39b9ea",
   "metadata": {},
   "source": [
    "### Interest Rate"
   ]
  },
  {
   "cell_type": "code",
   "execution_count": 108,
   "id": "de05f11b-3909-4f17-9068-b80f1b0e148d",
   "metadata": {},
   "outputs": [
    {
     "data": {
      "text/plain": [
       "0"
      ]
     },
     "execution_count": 108,
     "metadata": {},
     "output_type": "execute_result"
    }
   ],
   "source": [
    "df_clean[\"Interest_Rate\"].isna().sum()"
   ]
  },
  {
   "cell_type": "markdown",
   "id": "bd98ae34-2141-45b1-9611-4b4d8d8a294c",
   "metadata": {},
   "source": [
    "- Interest rate doesn't contain missing values and the data type already int"
   ]
  },
  {
   "cell_type": "code",
   "execution_count": 109,
   "id": "01515499-9390-4aaa-aa6e-afb5854d6ad3",
   "metadata": {},
   "outputs": [
    {
     "data": {
      "text/plain": [
       "{'.'}"
      ]
     },
     "execution_count": 109,
     "metadata": {},
     "output_type": "execute_result"
    }
   ],
   "source": [
    "get_unique_chars_on_numerical_series(df_clean[\"Interest_Rate\"])"
   ]
  },
  {
   "cell_type": "markdown",
   "id": "d94df3cd-6dec-4932-aad6-f1d181bb3a51",
   "metadata": {},
   "source": [
    "### Number of Loan"
   ]
  },
  {
   "cell_type": "code",
   "execution_count": 110,
   "id": "ea73bbfc-b836-4df6-99f2-f3d3c4cd9630",
   "metadata": {},
   "outputs": [
    {
     "data": {
      "text/plain": [
       "array(['4', '1', '3', '967', '-100', '0', '0_', '2', '3_', '2_', '7', '5',\n",
       "       '5_', '6', '8', '8_', '9', '9_', '4_', '7_', '1_', '1464', '6_',\n",
       "       '622', '352', '472', '1017', '945', '146', '563', '341', '444',\n",
       "       '720', '1485', '49', '737', '1106', '466', '728', '313', '843',\n",
       "       '597_', '617', '119', '663', '640', '92_', '1019', '501', '1302',\n",
       "       '39', '716', '848', '931', '1214', '186', '424', '1001', '1110',\n",
       "       '1152', '457', '1433', '1187', '52', '1480', '1047', '1035',\n",
       "       '1347_', '33', '193', '699', '329', '1451', '484', '132', '649',\n",
       "       '995', '545', '684', '1135', '1094', '1204', '654', '58', '348',\n",
       "       '614', '1363', '323', '1406', '1348', '430', '153', '1461', '905',\n",
       "       '1312', '1424', '1154', '95', '1353', '1228', '819', '1006', '795',\n",
       "       '359', '1209', '590', '696', '1185_', '1465', '911', '1181', '70',\n",
       "       '816', '1369', '143', '1416', '455', '55', '1096', '1474', '420',\n",
       "       '1131', '904', '89', '1259', '527', '1241', '449', '983', '418',\n",
       "       '319', '23', '238', '638', '138', '235_', '280', '1070', '1484',\n",
       "       '274', '494', '1459_', '404', '1354', '1495', '1391', '601',\n",
       "       '1313', '1319', '898', '231', '752', '174', '961', '1046', '834',\n",
       "       '284', '438', '288', '1463', '1151', '719', '198', '1015', '855',\n",
       "       '841', '392', '1444', '103', '1320_', '745', '172', '252', '630_',\n",
       "       '241', '31', '405', '1217', '1030', '1257', '137', '157', '164',\n",
       "       '1088', '1236', '777', '1048', '613', '330', '1439', '321', '661',\n",
       "       '952', '939', '562', '1202', '302', '943', '394', '955', '1318',\n",
       "       '936', '781', '100', '1329', '1365', '860', '217', '191', '32',\n",
       "       '282', '351', '1387', '757', '416', '833', '359_', '292', '1225_',\n",
       "       '1227', '639', '859', '243', '267', '510', '332', '996', '597',\n",
       "       '311', '492', '820', '336', '123', '540', '131_', '1311_', '1441',\n",
       "       '895', '891', '50', '940', '935', '596', '29', '1182', '1129_',\n",
       "       '1014', '251', '365', '291', '1447', '742', '1085', '148', '462',\n",
       "       '832', '881', '1225', '1412', '785_', '1127', '910', '538', '999',\n",
       "       '733', '101', '237', '87', '659', '633', '387', '447', '629',\n",
       "       '831', '1384', '773', '621', '1419', '289', '143_', '285', '1393',\n",
       "       '1131_', '27_', '1359', '1482', '1189', '1294', '201', '579',\n",
       "       '814', '141', '1320', '581', '1171_', '295', '290', '433', '679',\n",
       "       '1040', '1054', '1430', '1023', '1077', '1457', '1150', '701',\n",
       "       '1382', '889', '437', '372', '1222', '126', '1159', '868', '19',\n",
       "       '1297', '227_', '190', '809', '1216', '1074', '571', '520', '1274',\n",
       "       '1340', '991', '316', '697', '926', '873', '1002', '378_', '65',\n",
       "       '875', '867', '548', '652', '1372', '606', '1036', '1300', '17',\n",
       "       '1178', '802', '1219_', '1271', '1137', '1496', '439', '196',\n",
       "       '636', '192', '228', '1053', '229', '753', '1296', '1371', '254',\n",
       "       '863', '464', '515', '838', '1160', '1289', '1298', '799', '182',\n",
       "       '574', '527_', '242', '415', '869', '958', '54', '1265', '656',\n",
       "       '275', '778', '208', '147', '350', '507', '463', '497', '1129',\n",
       "       '927', '653', '662', '529', '635', '1027_', '897', '1039', '227',\n",
       "       '1345', '924', '696_', '1279', '546', '1112', '1210', '526', '300',\n",
       "       '1103', '504', '136', '1400', '78', '686', '1091', '344', '215',\n",
       "       '84', '628', '1470', '968', '1478', '83', '1196', '1307', '1132_',\n",
       "       '1008', '917', '657', '56', '18', '41', '801', '978', '216', '349',\n",
       "       '966'], dtype=object)"
      ]
     },
     "execution_count": 110,
     "metadata": {},
     "output_type": "execute_result"
    }
   ],
   "source": [
    "df_clean[\"Num_of_Loan\"].unique()"
   ]
  },
  {
   "cell_type": "markdown",
   "id": "be6384ff-e5bc-4944-a000-3ca3f19cd3b5",
   "metadata": {},
   "source": [
    "> some data points in number of loan column contain char, such as: _"
   ]
  },
  {
   "cell_type": "code",
   "execution_count": 111,
   "id": "198532f9-bdaa-42b1-870b-a685968e32cc",
   "metadata": {},
   "outputs": [
    {
     "data": {
      "text/plain": [
       "8661"
      ]
     },
     "execution_count": 111,
     "metadata": {},
     "output_type": "execute_result"
    }
   ],
   "source": [
    "num_of_loan_with_char_idx = get_rows_index_with_chars(df_clean[\"Num_of_Loan\"])\n",
    "len(num_of_loan_with_char_idx)"
   ]
  },
  {
   "cell_type": "code",
   "execution_count": 112,
   "id": "e61244f6-d9b3-48e2-a52d-8a381545be0f",
   "metadata": {},
   "outputs": [],
   "source": [
    "num_of_loan_with_char = df_clean.loc[num_of_loan_with_char_idx]"
   ]
  },
  {
   "cell_type": "code",
   "execution_count": 113,
   "id": "7fbc3de2-6964-4bd6-87cb-dad2dacc487d",
   "metadata": {},
   "outputs": [
    {
     "data": {
      "text/plain": [
       "31       -100\n",
       "34       -100\n",
       "37         0_\n",
       "39       -100\n",
       "53       -100\n",
       "         ... \n",
       "99940      0_\n",
       "99958      4_\n",
       "99969    -100\n",
       "99984      5_\n",
       "99987    -100\n",
       "Name: Num_of_Loan, Length: 8661, dtype: object"
      ]
     },
     "execution_count": 113,
     "metadata": {},
     "output_type": "execute_result"
    }
   ],
   "source": [
    "num_of_loan_with_char[\"Num_of_Loan\"]"
   ]
  },
  {
   "cell_type": "code",
   "execution_count": 114,
   "id": "51877710-1469-4111-9ef2-7cb660dd22b2",
   "metadata": {},
   "outputs": [
    {
     "data": {
      "text/plain": [
       "{'-', '_'}"
      ]
     },
     "execution_count": 114,
     "metadata": {},
     "output_type": "execute_result"
    }
   ],
   "source": [
    "get_unique_chars_on_numerical_series(num_of_loan_with_char[\"Num_of_Loan\"])"
   ]
  },
  {
   "cell_type": "markdown",
   "id": "c62b0a47-e5cb-45d8-945f-22704177e53b",
   "metadata": {},
   "source": [
    "- There are two types of char inside number of loan, such as: - and _"
   ]
  },
  {
   "cell_type": "code",
   "execution_count": 115,
   "id": "561f1c58-a144-46e7-938f-2bedd0596902",
   "metadata": {},
   "outputs": [
    {
     "data": {
      "text/plain": [
       "array(['-100'], dtype=object)"
      ]
     },
     "execution_count": 115,
     "metadata": {},
     "output_type": "execute_result"
    }
   ],
   "source": [
    "# get unique value of negative number of loan\n",
    "num_of_loan_with_char.loc[\n",
    "\tnum_of_loan_with_char[\"Num_of_Loan\"].str.contains(\"-\"), \n",
    "\t\"Num_of_Loan\"\n",
    "].unique()"
   ]
  },
  {
   "cell_type": "code",
   "execution_count": 116,
   "id": "6d8b86da-0e42-4a9d-a02a-137e01884ba7",
   "metadata": {},
   "outputs": [
    {
     "data": {
      "text/plain": [
       "array(['0_', '3_', '2_', '5_', '8_', '9_', '4_', '7_', '1_', '6_', '597_',\n",
       "       '92_', '1347_', '1185_', '235_', '1459_', '1320_', '630_', '359_',\n",
       "       '1225_', '131_', '1311_', '1129_', '785_', '143_', '1131_', '27_',\n",
       "       '1171_', '227_', '378_', '1219_', '527_', '1027_', '696_', '1132_'],\n",
       "      dtype=object)"
      ]
     },
     "execution_count": 116,
     "metadata": {},
     "output_type": "execute_result"
    }
   ],
   "source": [
    "# get unique value of number of loan with _\n",
    "num_of_loan_with_char.loc[\n",
    "\tnum_of_loan_with_char[\"Num_of_Loan\"].str.contains(\"_\"), \n",
    "\t\"Num_of_Loan\"\n",
    "].unique()"
   ]
  },
  {
   "cell_type": "code",
   "execution_count": 117,
   "id": "c9a9bef9-efbf-4e9a-b2c6-d08ec0a0c1df",
   "metadata": {},
   "outputs": [
    {
     "name": "stdout",
     "output_type": "stream",
     "text": [
      "number of loan contain char proportion: 9.0%\n"
     ]
    }
   ],
   "source": [
    "print(\"number of loan contain char proportion: {}%\".format(\n",
    "\tround(\n",
    "\t\tnum_of_loan_with_char.shape[0]/df_clean.shape[0],\n",
    "\t\t2\n",
    "\t)*100\n",
    "))"
   ]
  },
  {
   "cell_type": "markdown",
   "id": "198805f2-15fc-4308-879a-ed048123488c",
   "metadata": {},
   "source": [
    "- all negative number of loan are -100\n",
    "- number of loan that containing _ are having arbitrary numbers\n",
    "- `The analysis shows that these values are present in a way that doesn't make sense`\n",
    "- Unfortunatelly, there's no documentation of how these values are present in the dataset and there's no answer from the data collector. Thus, it's dangerous to make assumption why these data are present.\n",
    "- Based on the analysis, I will assume that these values are present because of sytem error\n",
    "- `I will assign these rows as missing values`"
   ]
  },
  {
   "cell_type": "markdown",
   "id": "1e00f774-0e86-4c9a-8aa9-efb468671066",
   "metadata": {},
   "source": [
    "#### Assign missing values to num of loan with char (-, _)"
   ]
  },
  {
   "cell_type": "code",
   "execution_count": 118,
   "id": "519c571d-4929-47e6-bf0e-be95ea17d8d4",
   "metadata": {},
   "outputs": [],
   "source": [
    "# assign np.nan to age with char\n",
    "df_clean.loc[\n",
    "\tnum_of_loan_with_char_idx, \n",
    "\t\"Num_of_Loan\"\n",
    "] = np.nan"
   ]
  },
  {
   "cell_type": "markdown",
   "id": "fe831f9e-c6a7-41b7-826a-a7e437f20ec2",
   "metadata": {},
   "source": [
    "#### change data type of num of loan"
   ]
  },
  {
   "cell_type": "code",
   "execution_count": 119,
   "id": "79de0480-0d66-4766-8d92-78487da5db28",
   "metadata": {},
   "outputs": [],
   "source": [
    "# change data type age into int64\n",
    "df_clean[\"Num_of_Loan\"] = change_series_data_type(df_clean[\"Num_of_Loan\"], \"Int64\")"
   ]
  },
  {
   "cell_type": "markdown",
   "id": "ea620c52-9035-4506-b3c1-a235a6182dac",
   "metadata": {},
   "source": [
    "### Type of Loan"
   ]
  },
  {
   "cell_type": "code",
   "execution_count": 120,
   "id": "65282222-aac6-4327-b020-eae30d5e5685",
   "metadata": {},
   "outputs": [
    {
     "data": {
      "text/plain": [
       "6260"
      ]
     },
     "execution_count": 120,
     "metadata": {},
     "output_type": "execute_result"
    }
   ],
   "source": [
    "df_clean[\"Type_of_Loan\"].nunique()"
   ]
  },
  {
   "cell_type": "code",
   "execution_count": 121,
   "id": "551fcaff-ddfb-4af7-8f98-6fbe31b07ec8",
   "metadata": {},
   "outputs": [
    {
     "data": {
      "text/plain": [
       "11408"
      ]
     },
     "execution_count": 121,
     "metadata": {},
     "output_type": "execute_result"
    }
   ],
   "source": [
    "df_clean[\"Type_of_Loan\"].isna().sum()"
   ]
  },
  {
   "cell_type": "markdown",
   "id": "c83bf4bd-11e7-4288-9e7e-e9b7680eaf43",
   "metadata": {},
   "source": [
    "- Type of loan is a category column, containing high cardinality with repetitive values\n",
    "- Each row seems contain arbitrary values, thus I will drop these columns"
   ]
  },
  {
   "cell_type": "markdown",
   "id": "87704610-fcb1-4f48-9769-04d95d11e394",
   "metadata": {},
   "source": [
    "#### Drop Type of Loan Column"
   ]
  },
  {
   "cell_type": "code",
   "execution_count": 122,
   "id": "c7ecf080-cddb-4096-ba48-65b0eb29bdc2",
   "metadata": {},
   "outputs": [],
   "source": [
    "df_clean = df_clean.drop(columns=[\"Type_of_Loan\"])"
   ]
  },
  {
   "cell_type": "markdown",
   "id": "59df4528-8c34-42b8-9b7f-fa56e2e84756",
   "metadata": {},
   "source": [
    "### Delay from due date"
   ]
  },
  {
   "cell_type": "code",
   "execution_count": 123,
   "id": "bfd02018-e2c1-424c-ae60-3d246857255c",
   "metadata": {},
   "outputs": [
    {
     "data": {
      "text/plain": [
       "0"
      ]
     },
     "execution_count": 123,
     "metadata": {},
     "output_type": "execute_result"
    }
   ],
   "source": [
    "df_clean[\"Delay_from_due_date\"].isna().sum()"
   ]
  },
  {
   "cell_type": "code",
   "execution_count": 124,
   "id": "2e984223-c2b2-45cf-b660-b50b788e63d6",
   "metadata": {},
   "outputs": [
    {
     "data": {
      "text/plain": [
       "0         3\n",
       "1        -1\n",
       "2         3\n",
       "3         5\n",
       "4         6\n",
       "         ..\n",
       "99995    23\n",
       "99996    18\n",
       "99997    27\n",
       "99998    20\n",
       "99999    18\n",
       "Name: Delay_from_due_date, Length: 100000, dtype: int64"
      ]
     },
     "execution_count": 124,
     "metadata": {},
     "output_type": "execute_result"
    }
   ],
   "source": [
    "df_clean[\"Delay_from_due_date\"]"
   ]
  },
  {
   "cell_type": "markdown",
   "id": "6173bb5e-5f02-4268-af90-cc33bbf16314",
   "metadata": {},
   "source": [
    "- Delay from due date is average number of days delayed from payment date\n",
    "- Some values in this column are negative, which are not supposed to be in this column\n",
    "\n",
    "- I will analyze negative value on this column with credit score, because this [reference](https://www.nerdwallet.com/article/finance/late-bill-payment-reported) says that number of delayed payment affect credit score."
   ]
  },
  {
   "cell_type": "code",
   "execution_count": 125,
   "id": "9a4d21e1-5583-4b65-a046-d378233df56e",
   "metadata": {},
   "outputs": [
    {
     "data": {
      "text/plain": [
       "Credit_Score\n",
       "Good        0.556684\n",
       "Standard    0.360406\n",
       "Poor        0.082910\n",
       "Name: proportion, dtype: float64"
      ]
     },
     "execution_count": 125,
     "metadata": {},
     "output_type": "execute_result"
    }
   ],
   "source": [
    "df_clean.loc[\n",
    "\tdf_clean[\"Delay_from_due_date\"]<0, \n",
    "\t\"Credit_Score\"\n",
    "].value_counts(normalize=True)"
   ]
  },
  {
   "cell_type": "markdown",
   "id": "44fb815c-ff23-4709-8493-67f2944f9a8b",
   "metadata": {},
   "source": [
    "- The proportion shows that 90% of the negative delays from the due date are present in good and standard credit scores. Therefore, I will assume that the negative values in this column should be 0"
   ]
  },
  {
   "cell_type": "markdown",
   "id": "887a1882-c114-4e07-bf74-8778bbd4f3b0",
   "metadata": {},
   "source": [
    "#### Replace negative delay from due date with 0"
   ]
  },
  {
   "cell_type": "code",
   "execution_count": 126,
   "id": "2fdb532e-29e4-4893-8e40-0cecbbc4f02c",
   "metadata": {},
   "outputs": [],
   "source": [
    "# replace negative delay with 0\n",
    "df_clean.loc[\n",
    "\tdf_clean[\"Delay_from_due_date\"]<0,\n",
    "\t\"Delay_from_due_date\"\n",
    "] = 0"
   ]
  },
  {
   "cell_type": "markdown",
   "id": "fc6214e5-3fd0-4c66-9a03-0c5b5a971093",
   "metadata": {},
   "source": [
    "### Credit Score"
   ]
  },
  {
   "cell_type": "code",
   "execution_count": 127,
   "id": "acd5b023-e986-49c4-802c-7c91e6e90f0f",
   "metadata": {},
   "outputs": [
    {
     "data": {
      "text/plain": [
       "array(['Good', 'Standard', 'Poor'], dtype=object)"
      ]
     },
     "execution_count": 127,
     "metadata": {},
     "output_type": "execute_result"
    }
   ],
   "source": [
    "df_clean[\"Credit_Score\"].unique()"
   ]
  },
  {
   "cell_type": "code",
   "execution_count": 128,
   "id": "38e8fb49-583a-4f4d-9af0-2016f2a7d707",
   "metadata": {},
   "outputs": [
    {
     "data": {
      "text/plain": [
       "0"
      ]
     },
     "execution_count": 128,
     "metadata": {},
     "output_type": "execute_result"
    }
   ],
   "source": [
    "df_clean[\"Credit_Score\"].isna().sum()"
   ]
  },
  {
   "cell_type": "markdown",
   "id": "6731499e-9452-4875-b11c-3efb67657dc7",
   "metadata": {},
   "source": [
    "- Credit score contains 3 clear category good, standard, and poor\n",
    "- It also doesn't contain missing values\n",
    "- Thus, this column is ready to be used for further analysis"
   ]
  },
  {
   "cell_type": "markdown",
   "id": "2bb1228b-ce56-4b89-9a74-f8b1973206b3",
   "metadata": {},
   "source": [
    "### Num of Delayed Payment"
   ]
  },
  {
   "cell_type": "code",
   "execution_count": 129,
   "id": "0f9a1709-73a1-4f44-a5af-1927f99c90a1",
   "metadata": {},
   "outputs": [
    {
     "data": {
      "text/plain": [
       "array(['7', nan, '4', '8_', '6', '1', '-1', '3_', '0', '8', '5', '3', '9',\n",
       "       '12', '15', '17', '10', '2', '2_', '11', '14', '20', '22', '13',\n",
       "       '13_', '14_', '16', '12_', '18', '19', '23', '24', '21', '3318',\n",
       "       '3083', '22_', '1338', '4_', '26', '11_', '3104', '21_', '25',\n",
       "       '10_', '183_', '9_', '1106', '834', '19_', '24_', '17_', '23_',\n",
       "       '2672', '20_', '2008', '-3', '538', '6_', '1_', '16_', '27', '-2',\n",
       "       '3478', '2420', '15_', '707', '708', '26_', '18_', '3815', '28',\n",
       "       '5_', '1867', '2250', '1463', '25_', '7_', '4126', '2882', '1941',\n",
       "       '2655', '2628', '132', '3069', '306', '0_', '3539', '3684', '1823',\n",
       "       '4128', '1946', '827', '2297', '2566', '904', '182', '929', '3568',\n",
       "       '2503', '1552', '2812', '1697', '3764', '851', '3905', '923', '88',\n",
       "       '1668', '3253', '808', '2689', '3858', '642', '3457', '1402',\n",
       "       '1732', '3154', '847', '3037', '2204', '3103', '1063', '2056',\n",
       "       '1282', '1841', '2569_', '211', '793', '3484', '411', '3491',\n",
       "       '2072', '3050', '1049', '2162', '3402', '2753', '27_', '1718',\n",
       "       '1014', '3260', '3855', '84', '2311', '3251', '1832', '4069',\n",
       "       '3010', '733', '4241', '166', '2461', '1749', '3200', '663_',\n",
       "       '2185', '4161', '3009', '359', '2015', '1523', '594', '1079',\n",
       "       '1199', '186', '1015', '1989', '281', '559', '2165', '1509',\n",
       "       '3545', '779', '192', '4311', '-2_', '2323', '1471', '1538',\n",
       "       '3529', '439', '3456', '3040', '2697', '3179', '1332', '3175',\n",
       "       '3112', '829', '4022', '3870', '4023', '531', '1511', '3092',\n",
       "       '3191', '2400', '3621', '3536', '544', '1864', '28_', '142',\n",
       "       '2300', '264', '72', '497', '398', '2222', '3960', '1473', '3043',\n",
       "       '4216', '2903', '2658', '-1_', '4042', '1323_', '2184', '921',\n",
       "       '1328', '3404', '2438', '809', '47', '1996', '4164', '1370',\n",
       "       '1204', '2167', '4011', '2590', '2594', '2533', '1663', '1018',\n",
       "       '2919', '3458', '3316', '2589', '2801', '3355', '2529', '2488',\n",
       "       '4266', '1243', '739', '845', '4107', '1884', '337', '2660', '290',\n",
       "       '674', '2450', '3738', '1792', '2823', '2570', '775', '960', '482',\n",
       "       '1706', '2493', '3623', '3031', '2794_', '2219_', '758_', '1849',\n",
       "       '3559', '4096', '3726', '1953', '2657', '4043', '2938', '4384',\n",
       "       '1647', '2694', '3533', '519', '2677', '2413', '-3_', '4139',\n",
       "       '2609', '4326', '4211', '823', '3011', '1608', '2860', '4219',\n",
       "       '4047', '1531', '742', '52', '4024', '1673', '49', '2243', '1685',\n",
       "       '1869', '2587', '3489', '749', '1164', '2616', '848_', '4134',\n",
       "       '1530', '1502', '4075', '3845', '1060', '2573', '2128', '328',\n",
       "       '640', '2585', '2230', '1795', '1180', '1534', '3739', '3313',\n",
       "       '4191', '996', '372', '3340', '3177', '602', '787', '4135', '3878',\n",
       "       '4059', '1218', '4051', '1766', '1359', '3107', '585', '1263',\n",
       "       '2511', '709', '3632', '4077', '2943', '2793', '3245', '2317',\n",
       "       '1640', '2237_', '3819', '252', '3978', '1498', '1833', '2737',\n",
       "       '1192', '1481', '700', '271', '2286', '273', '1215', '3944',\n",
       "       '2070', '1478', '3749', '871', '2508', '2959', '130', '294',\n",
       "       '3097_', '3511', '415', '2196', '2138', '2149', '1874', '1553',\n",
       "       '3847', '3222', '1222', '2907', '3051', '98', '1598', '416',\n",
       "       '2314', '2955', '1691', '1450', '2021', '1636', '80', '3708',\n",
       "       '195', '320', '2945', '1911', '3416', '3796', '4159', '2255',\n",
       "       '938', '4397', '3776', '2148', '1994', '853', '1178', '1633',\n",
       "       '196', '3864', '714', '1687', '1034', '468', '1337', '2044',\n",
       "       '1541', '3661', '1211', '2645', '2007', '102', '1891', '3162',\n",
       "       '3142', '2566_', '2766', '3881', '2728', '2671', '1952', '3580',\n",
       "       '2705', '4251', '3840_', '972', '3119', '3502', '4185', '2954',\n",
       "       '683', '1614', '1572', '4302', '3447', '1852', '2131', '1900',\n",
       "       '1699', '133', '2018', '2127', '508', '210', '577', '1664', '2604',\n",
       "       '1411', '2351', '867', '1371', '2352', '1191', '905', '4053',\n",
       "       '3869', '933', '3660', '3300', '3629', '3208', '2142', '2521',\n",
       "       '450', '583', '876', '121', '3919', '2560', '2578', '2060', '813',\n",
       "       '1236', '1489', '4360', '1154', '2544', '4172', '2924', '426',\n",
       "       '4270', '2768', '3909', '3951', '2712', '2498', '3171', '1750',\n",
       "       '197', '2569', '265', '4293', '887', '2707', '2397', '4337',\n",
       "       '4249', '2751', '2950', '1859', '107', '2348', '2506', '2810',\n",
       "       '2873', '1301', '2262', '1890', '3078', '3865', '3268', '2777',\n",
       "       '3105', '1278', '3793', '2276', '2879', '4298', '2141', '223',\n",
       "       '2239', '846', '1862', '2756', '1181', '1184', '2617', '3972',\n",
       "       '2334', '3900', '2759', '4169', '2280', '2492', '2729', '3750',\n",
       "       '1825', '309', '2431', '3099', '2080', '2279', '2666', '3722',\n",
       "       '1976', '529', '1985', '3060', '4278', '3212', '46', '3148',\n",
       "       '3467', '4231', '3790', '473', '1536', '3955', '2324', '2381',\n",
       "       '1177', '371', '2896', '3880', '2991', '4319', '1061', '662',\n",
       "       '4144', '693', '2006', '3115', '2278_', '3751', '1861', '4262',\n",
       "       '2913', '2615', '3492', '800', '3766', '384', '3407', '1087',\n",
       "       '3329', '1086', '2216', '1087_', '2457', '3522', '3274', '3488',\n",
       "       '2854', '238', '351', '3706', '4280', '4095', '2926', '1329',\n",
       "       '3370', '283', '1392', '1743', '2429', '974', '3156', '1133',\n",
       "       '4388', '3243', '4282', '2523', '4281', '3415', '2001', '441',\n",
       "       '94', '3499', '969', '3368', '106', '1004', '2638', '3946', '2956',\n",
       "       '4324', '85', '4113', '819', '615', '1172', '2553', '1765', '3495',\n",
       "       '2820', '4239', '4340', '1295_', '2636', '4295', '1653', '1325',\n",
       "       '1879', '1096', '1735', '3584', '1073', '1975', '3827', '2552',\n",
       "       '3754', '2378', '532', '926', '2376', '3636', '3763', '778',\n",
       "       '2621', '804', '754', '2418', '4019', '3926', '3861_', '3574',\n",
       "       '175', '162', '2834', '3765', '2354', '523', '2274', '1606',\n",
       "       '1443', '1354', '2142_', '1422', '2278', '1045', '4106', '3155',\n",
       "       '666', '659', '3229', '1216', '2076', '1473_', '2384', '1954',\n",
       "       '719', '2534', '4002', '541', '2875', '4344', '2081', '3894',\n",
       "       '1256', '676', '4178', '399', '86', '1571', '4037', '1967', '4005',\n",
       "       '3216', '1150', '2591', '1801', '3721', '1775', '2260', '3707',\n",
       "       '4292', '1820', '145', '1480', '1850', '430', '217', '3920_',\n",
       "       '1389', '1579', '3391', '2385', '3336', '3392', '3688', '221',\n",
       "       '2047'], dtype=object)"
      ]
     },
     "execution_count": 129,
     "metadata": {},
     "output_type": "execute_result"
    }
   ],
   "source": [
    "# inspect unique values in num of delayed payment column\n",
    "df_clean[\"Num_of_Delayed_Payment\"].unique()"
   ]
  },
  {
   "cell_type": "code",
   "execution_count": 130,
   "id": "83076d9f-38ca-4aac-8052-faf4832cbda6",
   "metadata": {},
   "outputs": [],
   "source": [
    "num_of_delayed_payment_with_char_idx = get_rows_index_with_chars(df_clean[\"Num_of_Delayed_Payment\"])"
   ]
  },
  {
   "cell_type": "code",
   "execution_count": 131,
   "id": "d35f9880-c8d7-46d1-8863-ae8216cf433d",
   "metadata": {},
   "outputs": [
    {
     "data": {
      "text/plain": [
       "3366"
      ]
     },
     "execution_count": 131,
     "metadata": {},
     "output_type": "execute_result"
    }
   ],
   "source": [
    "len(num_of_delayed_payment_with_char_idx)"
   ]
  },
  {
   "cell_type": "code",
   "execution_count": 132,
   "id": "4a844b31-4d69-4331-af65-724521a4f31d",
   "metadata": {},
   "outputs": [
    {
     "data": {
      "text/html": [
       "<div>\n",
       "<style scoped>\n",
       "    .dataframe tbody tr th:only-of-type {\n",
       "        vertical-align: middle;\n",
       "    }\n",
       "\n",
       "    .dataframe tbody tr th {\n",
       "        vertical-align: top;\n",
       "    }\n",
       "\n",
       "    .dataframe thead th {\n",
       "        text-align: right;\n",
       "    }\n",
       "</style>\n",
       "<table border=\"1\" class=\"dataframe\">\n",
       "  <thead>\n",
       "    <tr style=\"text-align: right;\">\n",
       "      <th></th>\n",
       "      <th>Month</th>\n",
       "      <th>Age</th>\n",
       "      <th>Occupation</th>\n",
       "      <th>Annual_Income</th>\n",
       "      <th>Monthly_Inhand_Salary</th>\n",
       "      <th>Num_Bank_Accounts</th>\n",
       "      <th>Num_Credit_Card</th>\n",
       "      <th>Interest_Rate</th>\n",
       "      <th>Num_of_Loan</th>\n",
       "      <th>Delay_from_due_date</th>\n",
       "      <th>...</th>\n",
       "      <th>Outstanding_Debt</th>\n",
       "      <th>Credit_Utilization_Ratio</th>\n",
       "      <th>Credit_History_Age</th>\n",
       "      <th>Payment_of_Min_Amount</th>\n",
       "      <th>Total_EMI_per_month</th>\n",
       "      <th>Amount_invested_monthly</th>\n",
       "      <th>Payment_Behaviour</th>\n",
       "      <th>Monthly_Balance</th>\n",
       "      <th>Credit_Score</th>\n",
       "      <th>Num_Bank_Account</th>\n",
       "    </tr>\n",
       "  </thead>\n",
       "  <tbody>\n",
       "    <tr>\n",
       "      <th>13</th>\n",
       "      <td>June</td>\n",
       "      <td>28</td>\n",
       "      <td>Teacher</td>\n",
       "      <td>34847.84</td>\n",
       "      <td>3037.986667</td>\n",
       "      <td>2</td>\n",
       "      <td>4</td>\n",
       "      <td>0.06</td>\n",
       "      <td>1</td>\n",
       "      <td>3</td>\n",
       "      <td>...</td>\n",
       "      <td>605.03</td>\n",
       "      <td>33.381010</td>\n",
       "      <td>27 Years and 0 Months</td>\n",
       "      <td>No</td>\n",
       "      <td>18.816215</td>\n",
       "      <td>43.477190144355745</td>\n",
       "      <td>High_spent_Large_value_payments</td>\n",
       "      <td>481.505261949182</td>\n",
       "      <td>Good</td>\n",
       "      <td>NaN</td>\n",
       "    </tr>\n",
       "    <tr>\n",
       "      <th>72</th>\n",
       "      <td>January</td>\n",
       "      <td>44</td>\n",
       "      <td>Journalist</td>\n",
       "      <td>31370.80</td>\n",
       "      <td>2825.233333</td>\n",
       "      <td>0</td>\n",
       "      <td>5</td>\n",
       "      <td>0.12</td>\n",
       "      <td>2</td>\n",
       "      <td>4</td>\n",
       "      <td>...</td>\n",
       "      <td>421.43</td>\n",
       "      <td>29.519353</td>\n",
       "      <td>NaN</td>\n",
       "      <td>NM</td>\n",
       "      <td>46.616129</td>\n",
       "      <td>154.352781097101</td>\n",
       "      <td>High_spent_Small_value_payments</td>\n",
       "      <td>341.55442316289026</td>\n",
       "      <td>Good</td>\n",
       "      <td>NaN</td>\n",
       "    </tr>\n",
       "    <tr>\n",
       "      <th>73</th>\n",
       "      <td>February</td>\n",
       "      <td>44</td>\n",
       "      <td>Journalist</td>\n",
       "      <td>31370.80</td>\n",
       "      <td>2825.233333</td>\n",
       "      <td>1</td>\n",
       "      <td>6</td>\n",
       "      <td>0.12</td>\n",
       "      <td>2</td>\n",
       "      <td>2</td>\n",
       "      <td>...</td>\n",
       "      <td>421.43</td>\n",
       "      <td>28.220481</td>\n",
       "      <td>26 Years and 6 Months</td>\n",
       "      <td>No</td>\n",
       "      <td>46.616129</td>\n",
       "      <td>298.7444693112266</td>\n",
       "      <td>Low_spent_Small_value_payments</td>\n",
       "      <td>227.1627349487646</td>\n",
       "      <td>Good</td>\n",
       "      <td>NaN</td>\n",
       "    </tr>\n",
       "    <tr>\n",
       "      <th>74</th>\n",
       "      <td>March</td>\n",
       "      <td>44</td>\n",
       "      <td>Journalist</td>\n",
       "      <td>31370.80</td>\n",
       "      <td>2825.233333</td>\n",
       "      <td>1</td>\n",
       "      <td>6</td>\n",
       "      <td>0.12</td>\n",
       "      <td>2</td>\n",
       "      <td>0</td>\n",
       "      <td>...</td>\n",
       "      <td>421.43</td>\n",
       "      <td>31.046418</td>\n",
       "      <td>26 Years and 7 Months</td>\n",
       "      <td>No</td>\n",
       "      <td>46.616129</td>\n",
       "      <td>140.8206959818371</td>\n",
       "      <td>Low_spent_Medium_value_payments</td>\n",
       "      <td>375.0865082781542</td>\n",
       "      <td>Good</td>\n",
       "      <td>NaN</td>\n",
       "    </tr>\n",
       "    <tr>\n",
       "      <th>75</th>\n",
       "      <td>April</td>\n",
       "      <td>44</td>\n",
       "      <td>Journalist</td>\n",
       "      <td>31370.80</td>\n",
       "      <td>2825.233333</td>\n",
       "      <td>1</td>\n",
       "      <td>6</td>\n",
       "      <td>0.12</td>\n",
       "      <td>2</td>\n",
       "      <td>1</td>\n",
       "      <td>...</td>\n",
       "      <td>421.43</td>\n",
       "      <td>30.168030</td>\n",
       "      <td>26 Years and 8 Months</td>\n",
       "      <td>No</td>\n",
       "      <td>46.616129</td>\n",
       "      <td>233.6055264233428</td>\n",
       "      <td>Low_spent_Small_value_payments</td>\n",
       "      <td>292.3016778366485</td>\n",
       "      <td>Good</td>\n",
       "      <td>NaN</td>\n",
       "    </tr>\n",
       "    <tr>\n",
       "      <th>...</th>\n",
       "      <td>...</td>\n",
       "      <td>...</td>\n",
       "      <td>...</td>\n",
       "      <td>...</td>\n",
       "      <td>...</td>\n",
       "      <td>...</td>\n",
       "      <td>...</td>\n",
       "      <td>...</td>\n",
       "      <td>...</td>\n",
       "      <td>...</td>\n",
       "      <td>...</td>\n",
       "      <td>...</td>\n",
       "      <td>...</td>\n",
       "      <td>...</td>\n",
       "      <td>...</td>\n",
       "      <td>...</td>\n",
       "      <td>...</td>\n",
       "      <td>...</td>\n",
       "      <td>...</td>\n",
       "      <td>...</td>\n",
       "      <td>...</td>\n",
       "    </tr>\n",
       "    <tr>\n",
       "      <th>99968</th>\n",
       "      <td>January</td>\n",
       "      <td>44</td>\n",
       "      <td>Media_Manager</td>\n",
       "      <td>16680.35</td>\n",
       "      <td>1528.029167</td>\n",
       "      <td>1</td>\n",
       "      <td>1</td>\n",
       "      <td>0.05</td>\n",
       "      <td>4</td>\n",
       "      <td>4</td>\n",
       "      <td>...</td>\n",
       "      <td>897.16</td>\n",
       "      <td>39.868572</td>\n",
       "      <td>NaN</td>\n",
       "      <td>NM</td>\n",
       "      <td>41.113561</td>\n",
       "      <td>52.95197781627658</td>\n",
       "      <td>High_spent_Small_value_payments</td>\n",
       "      <td>318.73737826046414</td>\n",
       "      <td>Good</td>\n",
       "      <td>NaN</td>\n",
       "    </tr>\n",
       "    <tr>\n",
       "      <th>99969</th>\n",
       "      <td>February</td>\n",
       "      <td>45</td>\n",
       "      <td>Media_Manager</td>\n",
       "      <td>16680.35</td>\n",
       "      <td>1528.029167</td>\n",
       "      <td>1</td>\n",
       "      <td>1</td>\n",
       "      <td>0.05</td>\n",
       "      <td>&lt;NA&gt;</td>\n",
       "      <td>3</td>\n",
       "      <td>...</td>\n",
       "      <td>897.16</td>\n",
       "      <td>34.085971</td>\n",
       "      <td>21 Years and 2 Months</td>\n",
       "      <td>No</td>\n",
       "      <td>41.113561</td>\n",
       "      <td>104.64623687765652</td>\n",
       "      <td>High_spent_Small_value_payments</td>\n",
       "      <td>267.04311919908423</td>\n",
       "      <td>Good</td>\n",
       "      <td>NaN</td>\n",
       "    </tr>\n",
       "    <tr>\n",
       "      <th>99970</th>\n",
       "      <td>March</td>\n",
       "      <td>45</td>\n",
       "      <td>Media_Manager</td>\n",
       "      <td>16680.35</td>\n",
       "      <td>1528.029167</td>\n",
       "      <td>1</td>\n",
       "      <td>1</td>\n",
       "      <td>0.05</td>\n",
       "      <td>4</td>\n",
       "      <td>1</td>\n",
       "      <td>...</td>\n",
       "      <td>897.16</td>\n",
       "      <td>30.472041</td>\n",
       "      <td>21 Years and 3 Months</td>\n",
       "      <td>No</td>\n",
       "      <td>75011.000000</td>\n",
       "      <td>75.50497238307716</td>\n",
       "      <td>Low_spent_Medium_value_payments</td>\n",
       "      <td>316.1843836936636</td>\n",
       "      <td>Good</td>\n",
       "      <td>NaN</td>\n",
       "    </tr>\n",
       "    <tr>\n",
       "      <th>99972</th>\n",
       "      <td>May</td>\n",
       "      <td>1753</td>\n",
       "      <td>Media_Manager</td>\n",
       "      <td>16680.35</td>\n",
       "      <td>1528.029167</td>\n",
       "      <td>1</td>\n",
       "      <td>1</td>\n",
       "      <td>0.05</td>\n",
       "      <td>4</td>\n",
       "      <td>1</td>\n",
       "      <td>...</td>\n",
       "      <td>897.16</td>\n",
       "      <td>37.788217</td>\n",
       "      <td>21 Years and 5 Months</td>\n",
       "      <td>No</td>\n",
       "      <td>41.113561</td>\n",
       "      <td>64.54974829039807</td>\n",
       "      <td>Low_spent_Large_value_payments</td>\n",
       "      <td>317.1396077863426</td>\n",
       "      <td>Standard</td>\n",
       "      <td>NaN</td>\n",
       "    </tr>\n",
       "    <tr>\n",
       "      <th>99975</th>\n",
       "      <td>August</td>\n",
       "      <td>45</td>\n",
       "      <td>Media_Manager</td>\n",
       "      <td>16680.35</td>\n",
       "      <td>NaN</td>\n",
       "      <td>1</td>\n",
       "      <td>1</td>\n",
       "      <td>0.05</td>\n",
       "      <td>4</td>\n",
       "      <td>1</td>\n",
       "      <td>...</td>\n",
       "      <td>897.16</td>\n",
       "      <td>41.212367</td>\n",
       "      <td>NaN</td>\n",
       "      <td>No</td>\n",
       "      <td>41.113561</td>\n",
       "      <td>70.8055497847255</td>\n",
       "      <td>Low_spent_Large_value_payments</td>\n",
       "      <td>310.8838062920152</td>\n",
       "      <td>Good</td>\n",
       "      <td>NaN</td>\n",
       "    </tr>\n",
       "  </tbody>\n",
       "</table>\n",
       "<p>1568 rows × 24 columns</p>\n",
       "</div>"
      ],
      "text/plain": [
       "          Month   Age     Occupation  Annual_Income  Monthly_Inhand_Salary  \\\n",
       "13         June    28        Teacher       34847.84            3037.986667   \n",
       "72      January    44     Journalist       31370.80            2825.233333   \n",
       "73     February    44     Journalist       31370.80            2825.233333   \n",
       "74        March    44     Journalist       31370.80            2825.233333   \n",
       "75        April    44     Journalist       31370.80            2825.233333   \n",
       "...         ...   ...            ...            ...                    ...   \n",
       "99968   January    44  Media_Manager       16680.35            1528.029167   \n",
       "99969  February    45  Media_Manager       16680.35            1528.029167   \n",
       "99970     March    45  Media_Manager       16680.35            1528.029167   \n",
       "99972       May  1753  Media_Manager       16680.35            1528.029167   \n",
       "99975    August    45  Media_Manager       16680.35                    NaN   \n",
       "\n",
       "       Num_Bank_Accounts  Num_Credit_Card  Interest_Rate  Num_of_Loan  \\\n",
       "13                     2                4           0.06            1   \n",
       "72                     0                5           0.12            2   \n",
       "73                     1                6           0.12            2   \n",
       "74                     1                6           0.12            2   \n",
       "75                     1                6           0.12            2   \n",
       "...                  ...              ...            ...          ...   \n",
       "99968                  1                1           0.05            4   \n",
       "99969                  1                1           0.05         <NA>   \n",
       "99970                  1                1           0.05            4   \n",
       "99972                  1                1           0.05            4   \n",
       "99975                  1                1           0.05            4   \n",
       "\n",
       "       Delay_from_due_date  ... Outstanding_Debt Credit_Utilization_Ratio  \\\n",
       "13                       3  ...           605.03                33.381010   \n",
       "72                       4  ...           421.43                29.519353   \n",
       "73                       2  ...           421.43                28.220481   \n",
       "74                       0  ...           421.43                31.046418   \n",
       "75                       1  ...           421.43                30.168030   \n",
       "...                    ...  ...              ...                      ...   \n",
       "99968                    4  ...           897.16                39.868572   \n",
       "99969                    3  ...           897.16                34.085971   \n",
       "99970                    1  ...           897.16                30.472041   \n",
       "99972                    1  ...           897.16                37.788217   \n",
       "99975                    1  ...           897.16                41.212367   \n",
       "\n",
       "          Credit_History_Age Payment_of_Min_Amount Total_EMI_per_month  \\\n",
       "13     27 Years and 0 Months                    No           18.816215   \n",
       "72                       NaN                    NM           46.616129   \n",
       "73     26 Years and 6 Months                    No           46.616129   \n",
       "74     26 Years and 7 Months                    No           46.616129   \n",
       "75     26 Years and 8 Months                    No           46.616129   \n",
       "...                      ...                   ...                 ...   \n",
       "99968                    NaN                    NM           41.113561   \n",
       "99969  21 Years and 2 Months                    No           41.113561   \n",
       "99970  21 Years and 3 Months                    No        75011.000000   \n",
       "99972  21 Years and 5 Months                    No           41.113561   \n",
       "99975                    NaN                    No           41.113561   \n",
       "\n",
       "       Amount_invested_monthly                Payment_Behaviour  \\\n",
       "13          43.477190144355745  High_spent_Large_value_payments   \n",
       "72            154.352781097101  High_spent_Small_value_payments   \n",
       "73           298.7444693112266   Low_spent_Small_value_payments   \n",
       "74           140.8206959818371  Low_spent_Medium_value_payments   \n",
       "75           233.6055264233428   Low_spent_Small_value_payments   \n",
       "...                        ...                              ...   \n",
       "99968        52.95197781627658  High_spent_Small_value_payments   \n",
       "99969       104.64623687765652  High_spent_Small_value_payments   \n",
       "99970        75.50497238307716  Low_spent_Medium_value_payments   \n",
       "99972        64.54974829039807   Low_spent_Large_value_payments   \n",
       "99975         70.8055497847255   Low_spent_Large_value_payments   \n",
       "\n",
       "          Monthly_Balance  Credit_Score Num_Bank_Account  \n",
       "13       481.505261949182          Good              NaN  \n",
       "72     341.55442316289026          Good              NaN  \n",
       "73      227.1627349487646          Good              NaN  \n",
       "74      375.0865082781542          Good              NaN  \n",
       "75      292.3016778366485          Good              NaN  \n",
       "...                   ...           ...              ...  \n",
       "99968  318.73737826046414          Good              NaN  \n",
       "99969  267.04311919908423          Good              NaN  \n",
       "99970   316.1843836936636          Good              NaN  \n",
       "99972   317.1396077863426      Standard              NaN  \n",
       "99975   310.8838062920152          Good              NaN  \n",
       "\n",
       "[1568 rows x 24 columns]"
      ]
     },
     "execution_count": 132,
     "metadata": {},
     "output_type": "execute_result"
    }
   ],
   "source": [
    "df_clean[df_clean[\"Num_of_Delayed_Payment\"]==\"0\"]"
   ]
  },
  {
   "cell_type": "markdown",
   "id": "76b51928-b701-4a24-84f9-a368acfb3cf7",
   "metadata": {},
   "source": [
    "- This column is supposed to be numberical, but some data points contain char, such as: _\n",
    "- Some of the data also negative, instead of 0 (indicating there's no delayed payment)"
   ]
  },
  {
   "cell_type": "code",
   "execution_count": 133,
   "id": "b0d40083-f7ba-47b7-9acc-9d90907ef85a",
   "metadata": {},
   "outputs": [
    {
     "data": {
      "text/plain": [
       "{'-', '_'}"
      ]
     },
     "execution_count": 133,
     "metadata": {},
     "output_type": "execute_result"
    }
   ],
   "source": [
    "# get unique char present in the num of delayed payment column\n",
    "get_unique_chars_on_numerical_series(df_clean[\"Num_of_Delayed_Payment\"])"
   ]
  },
  {
   "cell_type": "code",
   "execution_count": 134,
   "id": "2ff87788-f486-412e-a6bd-694c2b0126a2",
   "metadata": {},
   "outputs": [],
   "source": [
    "# get index of negative num_of_delayed_payment\n",
    "num_of_delayed_payment_negative_index = get_rows_index_with_specific_char(\n",
    "\tdf_clean[\"Num_of_Delayed_Payment\"], \n",
    "    \"-\"\n",
    ")"
   ]
  },
  {
   "cell_type": "code",
   "execution_count": 135,
   "id": "e8e141ae-cb70-4a51-b023-9f540ef7817c",
   "metadata": {},
   "outputs": [],
   "source": [
    "num_of_delayed_payment_negative = df_clean.loc[\n",
    "\tnum_of_delayed_payment_negative_index\n",
    "]"
   ]
  },
  {
   "cell_type": "code",
   "execution_count": 136,
   "id": "ad04b300-50d9-439d-ab55-cdb4195b1f10",
   "metadata": {},
   "outputs": [
    {
     "data": {
      "text/plain": [
       "array(['-1', '-3', '-2', '-2_', '-1_', '-3_'], dtype=object)"
      ]
     },
     "execution_count": 136,
     "metadata": {},
     "output_type": "execute_result"
    }
   ],
   "source": [
    "num_of_delayed_payment_negative[\"Num_of_Delayed_Payment\"].unique()"
   ]
  },
  {
   "cell_type": "markdown",
   "id": "8c1b5605-1bf4-4b6c-8318-e5edde1d7caa",
   "metadata": {},
   "source": [
    "- It looks like there's a pattern, negative number of delayed payment are all in either 1, 2, or 3.\n",
    "- I will analyze this variable with credit score using my assumption that, high delayed payment will resulting poor credit score."
   ]
  },
  {
   "cell_type": "code",
   "execution_count": 137,
   "id": "047c1eeb-2d77-4fb8-a3fd-48482ae467b7",
   "metadata": {},
   "outputs": [
    {
     "data": {
      "text/plain": [
       "(644, 24)"
      ]
     },
     "execution_count": 137,
     "metadata": {},
     "output_type": "execute_result"
    }
   ],
   "source": [
    "num_of_delayed_payment_negative.shape"
   ]
  },
  {
   "cell_type": "code",
   "execution_count": 138,
   "id": "787dd5fe-7d4f-4f70-bf45-9085a199d30c",
   "metadata": {},
   "outputs": [
    {
     "data": {
      "text/plain": [
       "Credit_Score\n",
       "Good        0.49\n",
       "Standard    0.38\n",
       "Poor        0.13\n",
       "Name: proportion, dtype: float64"
      ]
     },
     "execution_count": 138,
     "metadata": {},
     "output_type": "execute_result"
    }
   ],
   "source": [
    "# get proportion of negative num of delayed payment data among credit score\n",
    "num_of_delayed_payment_negative[\"Credit_Score\"].value_counts(normalize=True).round(2)"
   ]
  },
  {
   "cell_type": "markdown",
   "id": "a27a5470-6df0-4177-957f-6b114d6076a2",
   "metadata": {},
   "source": [
    "- Proportions of credit score on negative delayed payment are decreasing from good to poor.\n",
    "- Since proportion of negative delayed payment are bigger in good than poor, `I would assume that negative delayed paymets are actually 0.`\n",
    "- This assumption came from another assumption that high number of delayed payments resulting to worse credit score"
   ]
  },
  {
   "cell_type": "code",
   "execution_count": 139,
   "id": "7a807ff4-9525-41ba-8401-d9f9a8222334",
   "metadata": {},
   "outputs": [
    {
     "data": {
      "text/plain": [
       "array(['8_', '-1', '3_', '2_', '13_', '14_', '12_', '22_', '4_', '11_',\n",
       "       '21_', '10_', '183_', '9_', '19_', '24_', '17_', '23_', '20_',\n",
       "       '-3', '6_', '1_', '16_', '-2', '15_', '26_', '18_', '5_', '25_',\n",
       "       '7_', '0_', '2569_', '27_', '663_', '-2_', '28_', '-1_', '1323_',\n",
       "       '2794_', '2219_', '758_', '-3_', '848_', '2237_', '3097_', '2566_',\n",
       "       '3840_', '2278_', '1087_', '1295_', '3861_', '2142_', '1473_',\n",
       "       '3920_'], dtype=object)"
      ]
     },
     "execution_count": 139,
     "metadata": {},
     "output_type": "execute_result"
    }
   ],
   "source": [
    "# get num of delayed payment that contains - and _\n",
    "df_clean.loc[\n",
    "\tnum_of_delayed_payment_with_char_idx,\n",
    "\t\"Num_of_Delayed_Payment\"\n",
    "].unique()"
   ]
  },
  {
   "cell_type": "markdown",
   "id": "68a40ff9-b220-4485-bfc5-68e5c36913d0",
   "metadata": {},
   "source": [
    "- number of loan that containing _ are having arbitrary numbers\n",
    "- `The analysis shows that these values are present in a way that doesn't make sense`\n",
    "- Based on the analysis, I will assume that these values are present because of sytem error\n",
    "- `I will assign these rows as missing values`"
   ]
  },
  {
   "cell_type": "markdown",
   "id": "b2c86c39-546e-4d9c-ae84-9c14150b6eb4",
   "metadata": {},
   "source": [
    "#### Replace negative number of delayed payment with 0"
   ]
  },
  {
   "cell_type": "code",
   "execution_count": 140,
   "id": "e39e9ffd-20bc-41f8-a748-d34c42c6cc8e",
   "metadata": {},
   "outputs": [],
   "source": [
    "# replace negative number of delayed payment with 0\n",
    "df_clean.loc[\n",
    "    num_of_delayed_payment_negative_index,\n",
    "\t\"Num_of_Delayed_Payment\"\n",
    "] = 0"
   ]
  },
  {
   "cell_type": "markdown",
   "id": "381986e1-e0cf-4190-8562-a1b974fcb1f4",
   "metadata": {},
   "source": [
    "#### Assign missing values to number of delayed payments that contain _"
   ]
  },
  {
   "cell_type": "code",
   "execution_count": 141,
   "id": "e14f20ac-85a8-4d94-9367-ca3073d1d1be",
   "metadata": {},
   "outputs": [],
   "source": [
    "# get index of num_of_delayed_payment that contain _\n",
    "num_of_delayed_payment_contain_underscore_index = get_rows_index_with_specific_char(\n",
    "\tdf_clean[\"Num_of_Delayed_Payment\"], \n",
    "    \"_\"\n",
    ")"
   ]
  },
  {
   "cell_type": "code",
   "execution_count": 142,
   "id": "4de20bf2-725d-4012-b988-779ffca52b11",
   "metadata": {},
   "outputs": [
    {
     "data": {
      "text/plain": [
       "6         8_\n",
       "11        3_\n",
       "53        3_\n",
       "54        2_\n",
       "119      13_\n",
       "        ... \n",
       "99897    10_\n",
       "99904     7_\n",
       "99939    19_\n",
       "99945     6_\n",
       "99953     7_\n",
       "Name: Num_of_Delayed_Payment, Length: 2722, dtype: object"
      ]
     },
     "execution_count": 142,
     "metadata": {},
     "output_type": "execute_result"
    }
   ],
   "source": [
    "df_clean.loc[\n",
    "\tnum_of_delayed_payment_contain_underscore_index,\n",
    "\t\"Num_of_Delayed_Payment\"\n",
    "]"
   ]
  },
  {
   "cell_type": "code",
   "execution_count": 143,
   "id": "d96c0599-be23-478f-a5ab-377dd1a91712",
   "metadata": {},
   "outputs": [],
   "source": [
    "df_clean.loc[\n",
    "\tnum_of_delayed_payment_contain_underscore_index,\n",
    "\t\"Num_of_Delayed_Payment\"\n",
    "]=np.nan"
   ]
  },
  {
   "cell_type": "markdown",
   "id": "1c27d6e5-1d8b-48bf-88fe-23fcccf46931",
   "metadata": {},
   "source": [
    "#### Change data type of num of delayed payment into float"
   ]
  },
  {
   "cell_type": "code",
   "execution_count": 144,
   "id": "46f6c73b-8128-4844-8657-a73dfdd891fc",
   "metadata": {},
   "outputs": [],
   "source": [
    "df_clean[\"Num_of_Delayed_Payment\"] =\\\n",
    "    df_clean[\"Num_of_Delayed_Payment\"].astype(\"Float64\")"
   ]
  },
  {
   "cell_type": "markdown",
   "id": "ce6c4fbf-53c4-4ebe-998d-21fc02abf9c2",
   "metadata": {},
   "source": [
    "### Changed Credit Limit"
   ]
  },
  {
   "cell_type": "code",
   "execution_count": 145,
   "id": "40d7a012-ed9d-463b-afae-b604099c610f",
   "metadata": {},
   "outputs": [
    {
     "data": {
      "text/plain": [
       "array(['11.27', '_', '6.27', ..., '17.509999999999998', '25.16', '21.17'],\n",
       "      dtype=object)"
      ]
     },
     "execution_count": 145,
     "metadata": {},
     "output_type": "execute_result"
    }
   ],
   "source": [
    "df_clean[\"Changed_Credit_Limit\"].unique()"
   ]
  },
  {
   "cell_type": "code",
   "execution_count": 146,
   "id": "2bc152e1-7df8-4b1a-822a-c171bf683965",
   "metadata": {},
   "outputs": [
    {
     "data": {
      "text/plain": [
       "{'-', '.', '_'}"
      ]
     },
     "execution_count": 146,
     "metadata": {},
     "output_type": "execute_result"
    }
   ],
   "source": [
    "get_unique_chars_on_numerical_series(df_clean[\"Changed_Credit_Limit\"])"
   ]
  },
  {
   "cell_type": "markdown",
   "id": "3f0879e4-f66e-4801-b32c-ea4b0e2e12d3",
   "metadata": {},
   "source": [
    "- There are some chars inside changed_credit_limit such as _, ., and -\n",
    "- This [reference](https://www.fool.com/the-ascent/credit-cards/how-downgrade-credit-card/#:~:text=Reach%20out%20to%20your%20card,the%20card%20issuer's%20phone%20number) conveys that we can decrease our credit card limit. I would assume that minus changed_credit_limit means that it's decreased\n",
    "- . char indicating that the rate is on floating point\n",
    "\n",
    "- `In conclusion, the problem of this column is there's an underscore and it's not supposed to be on the data point`"
   ]
  },
  {
   "cell_type": "code",
   "execution_count": 147,
   "id": "93b7b6a4-6f79-42e5-91c6-76157d8836c3",
   "metadata": {},
   "outputs": [],
   "source": [
    "# get rows' indexes of changed credit limit with underscore\n",
    "changed_credit_limit_contains_underscore_index = get_rows_index_with_specific_char(\n",
    "\tdf_clean[\"Changed_Credit_Limit\"],\n",
    "\t\"_\"\n",
    ")"
   ]
  },
  {
   "cell_type": "code",
   "execution_count": 148,
   "id": "3adce9fb-7013-4c85-b548-11f9431f0f72",
   "metadata": {},
   "outputs": [
    {
     "data": {
      "text/html": [
       "<div>\n",
       "<style scoped>\n",
       "    .dataframe tbody tr th:only-of-type {\n",
       "        vertical-align: middle;\n",
       "    }\n",
       "\n",
       "    .dataframe tbody tr th {\n",
       "        vertical-align: top;\n",
       "    }\n",
       "\n",
       "    .dataframe thead th {\n",
       "        text-align: right;\n",
       "    }\n",
       "</style>\n",
       "<table border=\"1\" class=\"dataframe\">\n",
       "  <thead>\n",
       "    <tr style=\"text-align: right;\">\n",
       "      <th></th>\n",
       "      <th>Month</th>\n",
       "      <th>Age</th>\n",
       "      <th>Occupation</th>\n",
       "      <th>Annual_Income</th>\n",
       "      <th>Monthly_Inhand_Salary</th>\n",
       "      <th>Num_Bank_Accounts</th>\n",
       "      <th>Num_Credit_Card</th>\n",
       "      <th>Interest_Rate</th>\n",
       "      <th>Num_of_Loan</th>\n",
       "      <th>Delay_from_due_date</th>\n",
       "      <th>...</th>\n",
       "      <th>Outstanding_Debt</th>\n",
       "      <th>Credit_Utilization_Ratio</th>\n",
       "      <th>Credit_History_Age</th>\n",
       "      <th>Payment_of_Min_Amount</th>\n",
       "      <th>Total_EMI_per_month</th>\n",
       "      <th>Amount_invested_monthly</th>\n",
       "      <th>Payment_Behaviour</th>\n",
       "      <th>Monthly_Balance</th>\n",
       "      <th>Credit_Score</th>\n",
       "      <th>Num_Bank_Account</th>\n",
       "    </tr>\n",
       "  </thead>\n",
       "  <tbody>\n",
       "    <tr>\n",
       "      <th>2</th>\n",
       "      <td>March</td>\n",
       "      <td>&lt;NA&gt;</td>\n",
       "      <td>Scientist</td>\n",
       "      <td>19114.120</td>\n",
       "      <td>NaN</td>\n",
       "      <td>3</td>\n",
       "      <td>4</td>\n",
       "      <td>0.03</td>\n",
       "      <td>4</td>\n",
       "      <td>3</td>\n",
       "      <td>...</td>\n",
       "      <td>809.98</td>\n",
       "      <td>28.609352</td>\n",
       "      <td>22 Years and 3 Months</td>\n",
       "      <td>No</td>\n",
       "      <td>49.574949</td>\n",
       "      <td>81.699521264648</td>\n",
       "      <td>Low_spent_Medium_value_payments</td>\n",
       "      <td>331.2098628537912</td>\n",
       "      <td>Good</td>\n",
       "      <td>NaN</td>\n",
       "    </tr>\n",
       "    <tr>\n",
       "      <th>65</th>\n",
       "      <td>February</td>\n",
       "      <td>23</td>\n",
       "      <td>Doctor</td>\n",
       "      <td>114838.410</td>\n",
       "      <td>9843.867500</td>\n",
       "      <td>2</td>\n",
       "      <td>5</td>\n",
       "      <td>0.07</td>\n",
       "      <td>3</td>\n",
       "      <td>14</td>\n",
       "      <td>...</td>\n",
       "      <td>1377.74</td>\n",
       "      <td>27.626325</td>\n",
       "      <td>21 Years and 5 Months</td>\n",
       "      <td>NM</td>\n",
       "      <td>226.892792</td>\n",
       "      <td>212.23560220847847</td>\n",
       "      <td>High_spent_Large_value_payments</td>\n",
       "      <td>785.2583558699787</td>\n",
       "      <td>Good</td>\n",
       "      <td>NaN</td>\n",
       "    </tr>\n",
       "    <tr>\n",
       "      <th>66</th>\n",
       "      <td>March</td>\n",
       "      <td>23</td>\n",
       "      <td>Doctor</td>\n",
       "      <td>114838.410</td>\n",
       "      <td>NaN</td>\n",
       "      <td>2</td>\n",
       "      <td>5</td>\n",
       "      <td>0.07</td>\n",
       "      <td>3</td>\n",
       "      <td>11</td>\n",
       "      <td>...</td>\n",
       "      <td>1377.74</td>\n",
       "      <td>35.141567</td>\n",
       "      <td>21 Years and 6 Months</td>\n",
       "      <td>NM</td>\n",
       "      <td>226.892792</td>\n",
       "      <td>470.3857956796373</td>\n",
       "      <td>High_spent_Small_value_payments</td>\n",
       "      <td>547.1081623988198</td>\n",
       "      <td>Good</td>\n",
       "      <td>NaN</td>\n",
       "    </tr>\n",
       "    <tr>\n",
       "      <th>109</th>\n",
       "      <td>June</td>\n",
       "      <td>39</td>\n",
       "      <td>Manager</td>\n",
       "      <td>8701.545</td>\n",
       "      <td>519.128750</td>\n",
       "      <td>6</td>\n",
       "      <td>5</td>\n",
       "      <td>0.32</td>\n",
       "      <td>7</td>\n",
       "      <td>23</td>\n",
       "      <td>...</td>\n",
       "      <td>2602.69</td>\n",
       "      <td>28.570031</td>\n",
       "      <td>9 Years and 4 Months</td>\n",
       "      <td>Yes</td>\n",
       "      <td>36.548197</td>\n",
       "      <td>52.931613407134115</td>\n",
       "      <td>Low_spent_Medium_value_payments</td>\n",
       "      <td>242.43306442147872</td>\n",
       "      <td>Poor</td>\n",
       "      <td>NaN</td>\n",
       "    </tr>\n",
       "    <tr>\n",
       "      <th>110</th>\n",
       "      <td>July</td>\n",
       "      <td>39</td>\n",
       "      <td>Manager</td>\n",
       "      <td>8701.545</td>\n",
       "      <td>NaN</td>\n",
       "      <td>6</td>\n",
       "      <td>5</td>\n",
       "      <td>0.32</td>\n",
       "      <td>7</td>\n",
       "      <td>21</td>\n",
       "      <td>...</td>\n",
       "      <td>2602.69</td>\n",
       "      <td>38.465415</td>\n",
       "      <td>NaN</td>\n",
       "      <td>Yes</td>\n",
       "      <td>36.548197</td>\n",
       "      <td>30.471806299271933</td>\n",
       "      <td>Low_spent_Medium_value_payments</td>\n",
       "      <td>264.8928715293409</td>\n",
       "      <td>Poor</td>\n",
       "      <td>NaN</td>\n",
       "    </tr>\n",
       "    <tr>\n",
       "      <th>...</th>\n",
       "      <td>...</td>\n",
       "      <td>...</td>\n",
       "      <td>...</td>\n",
       "      <td>...</td>\n",
       "      <td>...</td>\n",
       "      <td>...</td>\n",
       "      <td>...</td>\n",
       "      <td>...</td>\n",
       "      <td>...</td>\n",
       "      <td>...</td>\n",
       "      <td>...</td>\n",
       "      <td>...</td>\n",
       "      <td>...</td>\n",
       "      <td>...</td>\n",
       "      <td>...</td>\n",
       "      <td>...</td>\n",
       "      <td>...</td>\n",
       "      <td>...</td>\n",
       "      <td>...</td>\n",
       "      <td>...</td>\n",
       "      <td>...</td>\n",
       "    </tr>\n",
       "    <tr>\n",
       "      <th>99548</th>\n",
       "      <td>May</td>\n",
       "      <td>28</td>\n",
       "      <td>Writer</td>\n",
       "      <td>29090.500</td>\n",
       "      <td>2472.208333</td>\n",
       "      <td>5</td>\n",
       "      <td>7</td>\n",
       "      <td>0.20</td>\n",
       "      <td>4</td>\n",
       "      <td>11</td>\n",
       "      <td>...</td>\n",
       "      <td>1612.7</td>\n",
       "      <td>26.151395</td>\n",
       "      <td>16 Years and 2 Months</td>\n",
       "      <td>Yes</td>\n",
       "      <td>67.439731</td>\n",
       "      <td>35.401299066480114</td>\n",
       "      <td>High_spent_Medium_value_payments</td>\n",
       "      <td>394.3798029820068</td>\n",
       "      <td>Poor</td>\n",
       "      <td>NaN</td>\n",
       "    </tr>\n",
       "    <tr>\n",
       "      <th>99618</th>\n",
       "      <td>March</td>\n",
       "      <td>7490</td>\n",
       "      <td>Writer</td>\n",
       "      <td>142560.360</td>\n",
       "      <td>11773.030000</td>\n",
       "      <td>6</td>\n",
       "      <td>3</td>\n",
       "      <td>0.13</td>\n",
       "      <td>1</td>\n",
       "      <td>24</td>\n",
       "      <td>...</td>\n",
       "      <td>220.75</td>\n",
       "      <td>35.576245</td>\n",
       "      <td>17 Years and 5 Months</td>\n",
       "      <td>No</td>\n",
       "      <td>76.772094</td>\n",
       "      <td>194.7874766731884</td>\n",
       "      <td>High_spent_Large_value_payments</td>\n",
       "      <td>1145.7434294028362</td>\n",
       "      <td>Standard</td>\n",
       "      <td>NaN</td>\n",
       "    </tr>\n",
       "    <tr>\n",
       "      <th>99800</th>\n",
       "      <td>January</td>\n",
       "      <td>16</td>\n",
       "      <td>Developer</td>\n",
       "      <td>14937.490</td>\n",
       "      <td>NaN</td>\n",
       "      <td>8</td>\n",
       "      <td>8</td>\n",
       "      <td>0.22</td>\n",
       "      <td>7</td>\n",
       "      <td>44</td>\n",
       "      <td>...</td>\n",
       "      <td>3699.44</td>\n",
       "      <td>23.574545</td>\n",
       "      <td>13 Years and 2 Months</td>\n",
       "      <td>Yes</td>\n",
       "      <td>50.960878</td>\n",
       "      <td>97.58693258712627</td>\n",
       "      <td>Low_spent_Small_value_payments</td>\n",
       "      <td>255.73127246656225</td>\n",
       "      <td>Standard</td>\n",
       "      <td>NaN</td>\n",
       "    </tr>\n",
       "    <tr>\n",
       "      <th>99892</th>\n",
       "      <td>May</td>\n",
       "      <td>&lt;NA&gt;</td>\n",
       "      <td>Unknown</td>\n",
       "      <td>85744.120</td>\n",
       "      <td>NaN</td>\n",
       "      <td>6</td>\n",
       "      <td>7</td>\n",
       "      <td>0.11</td>\n",
       "      <td>2</td>\n",
       "      <td>30</td>\n",
       "      <td>...</td>\n",
       "      <td>717.79</td>\n",
       "      <td>29.513156</td>\n",
       "      <td>NaN</td>\n",
       "      <td>Yes</td>\n",
       "      <td>72.099176</td>\n",
       "      <td>88.01045806206517</td>\n",
       "      <td>High_spent_Large_value_payments</td>\n",
       "      <td>792.4246987800681</td>\n",
       "      <td>Standard</td>\n",
       "      <td>NaN</td>\n",
       "    </tr>\n",
       "    <tr>\n",
       "      <th>99931</th>\n",
       "      <td>April</td>\n",
       "      <td>38</td>\n",
       "      <td>Manager</td>\n",
       "      <td>15319.650</td>\n",
       "      <td>1460.637500</td>\n",
       "      <td>6</td>\n",
       "      <td>7</td>\n",
       "      <td>0.15</td>\n",
       "      <td>4</td>\n",
       "      <td>54</td>\n",
       "      <td>...</td>\n",
       "      <td>1453.61</td>\n",
       "      <td>34.243058</td>\n",
       "      <td>11 Years and 0 Months</td>\n",
       "      <td>Yes</td>\n",
       "      <td>28.182033</td>\n",
       "      <td>0.0</td>\n",
       "      <td>High_spent_Large_value_payments</td>\n",
       "      <td>348.08838343284464</td>\n",
       "      <td>Standard</td>\n",
       "      <td>NaN</td>\n",
       "    </tr>\n",
       "  </tbody>\n",
       "</table>\n",
       "<p>2091 rows × 24 columns</p>\n",
       "</div>"
      ],
      "text/plain": [
       "          Month   Age Occupation  Annual_Income  Monthly_Inhand_Salary  \\\n",
       "2         March  <NA>  Scientist      19114.120                    NaN   \n",
       "65     February    23     Doctor     114838.410            9843.867500   \n",
       "66        March    23     Doctor     114838.410                    NaN   \n",
       "109        June    39    Manager       8701.545             519.128750   \n",
       "110        July    39    Manager       8701.545                    NaN   \n",
       "...         ...   ...        ...            ...                    ...   \n",
       "99548       May    28     Writer      29090.500            2472.208333   \n",
       "99618     March  7490     Writer     142560.360           11773.030000   \n",
       "99800   January    16  Developer      14937.490                    NaN   \n",
       "99892       May  <NA>    Unknown      85744.120                    NaN   \n",
       "99931     April    38    Manager      15319.650            1460.637500   \n",
       "\n",
       "       Num_Bank_Accounts  Num_Credit_Card  Interest_Rate  Num_of_Loan  \\\n",
       "2                      3                4           0.03            4   \n",
       "65                     2                5           0.07            3   \n",
       "66                     2                5           0.07            3   \n",
       "109                    6                5           0.32            7   \n",
       "110                    6                5           0.32            7   \n",
       "...                  ...              ...            ...          ...   \n",
       "99548                  5                7           0.20            4   \n",
       "99618                  6                3           0.13            1   \n",
       "99800                  8                8           0.22            7   \n",
       "99892                  6                7           0.11            2   \n",
       "99931                  6                7           0.15            4   \n",
       "\n",
       "       Delay_from_due_date  ...  Outstanding_Debt Credit_Utilization_Ratio  \\\n",
       "2                        3  ...            809.98                28.609352   \n",
       "65                      14  ...           1377.74                27.626325   \n",
       "66                      11  ...           1377.74                35.141567   \n",
       "109                     23  ...           2602.69                28.570031   \n",
       "110                     21  ...           2602.69                38.465415   \n",
       "...                    ...  ...               ...                      ...   \n",
       "99548                   11  ...            1612.7                26.151395   \n",
       "99618                   24  ...            220.75                35.576245   \n",
       "99800                   44  ...           3699.44                23.574545   \n",
       "99892                   30  ...            717.79                29.513156   \n",
       "99931                   54  ...           1453.61                34.243058   \n",
       "\n",
       "          Credit_History_Age Payment_of_Min_Amount Total_EMI_per_month  \\\n",
       "2      22 Years and 3 Months                    No           49.574949   \n",
       "65     21 Years and 5 Months                    NM          226.892792   \n",
       "66     21 Years and 6 Months                    NM          226.892792   \n",
       "109     9 Years and 4 Months                   Yes           36.548197   \n",
       "110                      NaN                   Yes           36.548197   \n",
       "...                      ...                   ...                 ...   \n",
       "99548  16 Years and 2 Months                   Yes           67.439731   \n",
       "99618  17 Years and 5 Months                    No           76.772094   \n",
       "99800  13 Years and 2 Months                   Yes           50.960878   \n",
       "99892                    NaN                   Yes           72.099176   \n",
       "99931  11 Years and 0 Months                   Yes           28.182033   \n",
       "\n",
       "       Amount_invested_monthly                 Payment_Behaviour  \\\n",
       "2              81.699521264648   Low_spent_Medium_value_payments   \n",
       "65          212.23560220847847   High_spent_Large_value_payments   \n",
       "66           470.3857956796373   High_spent_Small_value_payments   \n",
       "109         52.931613407134115   Low_spent_Medium_value_payments   \n",
       "110         30.471806299271933   Low_spent_Medium_value_payments   \n",
       "...                        ...                               ...   \n",
       "99548       35.401299066480114  High_spent_Medium_value_payments   \n",
       "99618        194.7874766731884   High_spent_Large_value_payments   \n",
       "99800        97.58693258712627    Low_spent_Small_value_payments   \n",
       "99892        88.01045806206517   High_spent_Large_value_payments   \n",
       "99931                      0.0   High_spent_Large_value_payments   \n",
       "\n",
       "          Monthly_Balance  Credit_Score Num_Bank_Account  \n",
       "2       331.2098628537912          Good              NaN  \n",
       "65      785.2583558699787          Good              NaN  \n",
       "66      547.1081623988198          Good              NaN  \n",
       "109    242.43306442147872          Poor              NaN  \n",
       "110     264.8928715293409          Poor              NaN  \n",
       "...                   ...           ...              ...  \n",
       "99548   394.3798029820068          Poor              NaN  \n",
       "99618  1145.7434294028362      Standard              NaN  \n",
       "99800  255.73127246656225      Standard              NaN  \n",
       "99892   792.4246987800681      Standard              NaN  \n",
       "99931  348.08838343284464      Standard              NaN  \n",
       "\n",
       "[2091 rows x 24 columns]"
      ]
     },
     "execution_count": 148,
     "metadata": {},
     "output_type": "execute_result"
    }
   ],
   "source": [
    "# get df of credit limit with underscore\n",
    "changed_credit_limit_contains_underscore = df_clean.loc[\n",
    "\tchanged_credit_limit_contains_underscore_index\n",
    "]\n",
    "\n",
    "changed_credit_limit_contains_underscore"
   ]
  },
  {
   "cell_type": "markdown",
   "id": "753e7da1-acfa-47cb-8285-dda597027787",
   "metadata": {},
   "source": [
    "This [reference](https://www.capitalone.com/learn-grow/money-management/credit-limit-increase-affect-credit-score/) says that reducing credit limit will make the credit score to dip.\n",
    "\n",
    "- Thus, I will inspect changed credit limit with underscore using credit score"
   ]
  },
  {
   "cell_type": "code",
   "execution_count": 149,
   "id": "a9af4fa5-6cba-4a86-9706-c52e4d65260a",
   "metadata": {},
   "outputs": [
    {
     "data": {
      "text/plain": [
       "Credit_Score\n",
       "Standard    0.52\n",
       "Poor        0.30\n",
       "Good        0.17\n",
       "Name: proportion, dtype: float64"
      ]
     },
     "execution_count": 149,
     "metadata": {},
     "output_type": "execute_result"
    }
   ],
   "source": [
    "# get proportion of credit score on changed credit limit with underscore\n",
    "changed_credit_limit_contains_underscore[\"Credit_Score\"].\\\n",
    "\tvalue_counts(normalize=True).round(2)"
   ]
  },
  {
   "cell_type": "code",
   "execution_count": 150,
   "id": "f115ee88-fac8-46b5-a074-5de19661de19",
   "metadata": {},
   "outputs": [
    {
     "data": {
      "text/plain": [
       "Credit_Score\n",
       "Standard    0.53\n",
       "Poor        0.29\n",
       "Good        0.18\n",
       "Name: proportion, dtype: float64"
      ]
     },
     "execution_count": 150,
     "metadata": {},
     "output_type": "execute_result"
    }
   ],
   "source": [
    "# get proportion of credit score on changed credit limit without underscore\n",
    "df_clean.drop(\n",
    "\tindex=changed_credit_limit_contains_underscore_index\n",
    ")[\"Credit_Score\"].value_counts(normalize=True).round(2)"
   ]
  },
  {
   "cell_type": "markdown",
   "id": "ed636389-6924-4c1e-9f77-26f8183e63e7",
   "metadata": {},
   "source": [
    "- The proportion of credit scores on credit limit changed with and without underscore are similar.\n",
    "- Thus, this data appear in a \"normal way\"\n",
    "- In this step, `I will identify changed credit limit with underscore as missing values`"
   ]
  },
  {
   "cell_type": "markdown",
   "id": "618bc301-88cb-40c6-be12-61238a31dd30",
   "metadata": {},
   "source": [
    "#### Assign changed credit limit with _ with missing values"
   ]
  },
  {
   "cell_type": "code",
   "execution_count": 151,
   "id": "fac20a9f-4e7c-4131-882b-48d0d37b1051",
   "metadata": {},
   "outputs": [],
   "source": [
    "df_clean.loc[\n",
    "\tchanged_credit_limit_contains_underscore_index,\n",
    "\t\"Changed_Credit_Limit\"\n",
    "]=np.nan"
   ]
  },
  {
   "cell_type": "markdown",
   "id": "adea6067-6f42-4a63-84b3-d9a3b17b1c3f",
   "metadata": {},
   "source": [
    "#### Change data type of changed credit limit into float"
   ]
  },
  {
   "cell_type": "code",
   "execution_count": 152,
   "id": "b77feb31-f8e9-4f55-8a1e-dc4a42e0222a",
   "metadata": {},
   "outputs": [],
   "source": [
    "df_clean[\"Changed_Credit_Limit\"] = df_clean[\"Changed_Credit_Limit\"].astype(\"float64\")"
   ]
  },
  {
   "cell_type": "markdown",
   "id": "fff5d84d-d143-41a6-9234-15f81397a8c4",
   "metadata": {},
   "source": [
    "### Num Credit Inquiries"
   ]
  },
  {
   "cell_type": "code",
   "execution_count": 153,
   "id": "05f2c261-761a-4818-b9ce-e5f44d199595",
   "metadata": {},
   "outputs": [
    {
     "data": {
      "text/plain": [
       "dtype('float64')"
      ]
     },
     "execution_count": 153,
     "metadata": {},
     "output_type": "execute_result"
    }
   ],
   "source": [
    "df_clean[\"Num_Credit_Inquiries\"].dtype"
   ]
  },
  {
   "cell_type": "code",
   "execution_count": 154,
   "id": "7bddf2bc-b1ad-46a0-9686-b1ed2d089e84",
   "metadata": {},
   "outputs": [
    {
     "data": {
      "text/plain": [
       "1965"
      ]
     },
     "execution_count": 154,
     "metadata": {},
     "output_type": "execute_result"
    }
   ],
   "source": [
    "df_clean[\"Num_Credit_Inquiries\"].isna().sum()"
   ]
  },
  {
   "cell_type": "markdown",
   "id": "7b30fa1e-f382-448e-95f5-a855ffb1255a",
   "metadata": {},
   "source": [
    "- Num credit inquiries contain missing values and the data type already float"
   ]
  },
  {
   "cell_type": "markdown",
   "id": "55a02c64-aa69-4d65-8509-23b45c7c7e8b",
   "metadata": {},
   "source": [
    "### Credit Mix"
   ]
  },
  {
   "cell_type": "code",
   "execution_count": 155,
   "id": "dad165ed-85b1-4730-b386-8b0e7ab1d44d",
   "metadata": {},
   "outputs": [
    {
     "data": {
      "text/plain": [
       "array(['_', 'Good', 'Standard', 'Bad'], dtype=object)"
      ]
     },
     "execution_count": 155,
     "metadata": {},
     "output_type": "execute_result"
    }
   ],
   "source": [
    "df_clean[\"Credit_Mix\"].unique()"
   ]
  },
  {
   "cell_type": "markdown",
   "id": "499f5924-54f5-4fad-8de5-43768f7634d8",
   "metadata": {},
   "source": [
    "- This (reference)[https://www.equifax.com/personal/education/credit/score/articles/-/learn/what-is-a-credit-mix/#:~:text=Simply%20put%2C%20a%20credit%20mix,of%20calculating%20credit%20scores)%20used] conveys:\n",
    "\t> A credit mix refers to the different types of credit accounts you have: installment loans, revolving debt, mortgage accounts, open accounts\n",
    "\n",
    "- But, the column are having 4 values, such as: _, good, standard, and bad.\n",
    "- This column also has similar values as credit score, I would assume that this column appear because system failure.\n",
    "- Thus, I will drop this column"
   ]
  },
  {
   "cell_type": "markdown",
   "id": "3f850e11-ec8a-4b3a-82c0-5fb71122b374",
   "metadata": {},
   "source": [
    "#### Drop Credit Mix Columns"
   ]
  },
  {
   "cell_type": "code",
   "execution_count": 156,
   "id": "ace6e412-af3e-422d-aa73-824ad551bf43",
   "metadata": {},
   "outputs": [],
   "source": [
    "df_clean = df_clean.drop(columns=[\"Credit_Mix\"])"
   ]
  },
  {
   "cell_type": "markdown",
   "id": "4b923591-0eab-4823-bc28-1063a2bee818",
   "metadata": {},
   "source": [
    "### Outstanding Debt"
   ]
  },
  {
   "cell_type": "code",
   "execution_count": 157,
   "id": "eb83db93-d39d-42be-86d7-f9b2fb99b00f",
   "metadata": {},
   "outputs": [
    {
     "data": {
      "text/plain": [
       "{'.', '_'}"
      ]
     },
     "execution_count": 157,
     "metadata": {},
     "output_type": "execute_result"
    }
   ],
   "source": [
    "get_unique_chars_on_numerical_series(df_clean[\"Outstanding_Debt\"])"
   ]
  },
  {
   "cell_type": "markdown",
   "id": "18cf633e-35ed-4c5d-a3f1-82ac2d3b1afe",
   "metadata": {},
   "source": [
    "- Some values on this column contains underscore"
   ]
  },
  {
   "cell_type": "code",
   "execution_count": 158,
   "id": "f6813e9a-c743-4dbe-b0e5-a17d66e05515",
   "metadata": {},
   "outputs": [],
   "source": [
    "outstanding_debt_with_underscore_index = get_rows_index_with_specific_char(\n",
    "    df_clean[\"Outstanding_Debt\"],\n",
    "    \"_\"\n",
    ")"
   ]
  },
  {
   "cell_type": "code",
   "execution_count": 159,
   "id": "c31e300a-59fa-4c7f-9c11-3635af135d3a",
   "metadata": {},
   "outputs": [],
   "source": [
    "outstanding_debt_with_underscore = df_clean.loc[\n",
    "\toutstanding_debt_with_underscore_index\n",
    "]"
   ]
  },
  {
   "cell_type": "code",
   "execution_count": 160,
   "id": "fcd6fe90-8ee8-41bf-8a2e-da2d8af1244b",
   "metadata": {},
   "outputs": [
    {
     "data": {
      "text/plain": [
       "87       1328.93_\n",
       "142      1283.37_\n",
       "368      2797.17_\n",
       "632      3818.57_\n",
       "703       343.84_\n",
       "           ...   \n",
       "99842     1095.9_\n",
       "99862    1350.85_\n",
       "99930    1453.61_\n",
       "99984     3571.7_\n",
       "99985     3571.7_\n",
       "Name: Outstanding_Debt, Length: 1009, dtype: object"
      ]
     },
     "execution_count": 160,
     "metadata": {},
     "output_type": "execute_result"
    }
   ],
   "source": [
    "outstanding_debt_with_underscore[\"Outstanding_Debt\"]"
   ]
  },
  {
   "cell_type": "code",
   "execution_count": 161,
   "id": "81fe263c-c463-4bac-969e-6cad41af1336",
   "metadata": {},
   "outputs": [],
   "source": [
    "outstanding_debt_without_underscore = df_clean.drop(index=outstanding_debt_with_underscore_index)"
   ]
  },
  {
   "cell_type": "code",
   "execution_count": 162,
   "id": "389e58e5-f986-439d-95a0-322082ea42f1",
   "metadata": {},
   "outputs": [
    {
     "data": {
      "text/plain": [
       "0        809.98\n",
       "1        809.98\n",
       "2        809.98\n",
       "3        809.98\n",
       "4        809.98\n",
       "          ...  \n",
       "99995    502.38\n",
       "99996    502.38\n",
       "99997    502.38\n",
       "99998    502.38\n",
       "99999    502.38\n",
       "Name: Outstanding_Debt, Length: 98991, dtype: object"
      ]
     },
     "execution_count": 162,
     "metadata": {},
     "output_type": "execute_result"
    }
   ],
   "source": [
    "outstanding_debt_without_underscore[\"Outstanding_Debt\"]"
   ]
  },
  {
   "cell_type": "code",
   "execution_count": 163,
   "id": "1830304e-26dd-4da5-8fb5-105668c522db",
   "metadata": {},
   "outputs": [
    {
     "data": {
      "text/plain": [
       "<Axes: >"
      ]
     },
     "execution_count": 163,
     "metadata": {},
     "output_type": "execute_result"
    },
    {
     "data": {
      "image/png": "[encoded data removed]",
      "text/plain": [
       "<Figure size 640x480 with 1 Axes>"
      ]
     },
     "metadata": {},
     "output_type": "display_data"
    }
   ],
   "source": [
    "change_series_data_type(\n",
    "\tremove_specific_char_on_num_series(outstanding_debt_with_underscore[\"Outstanding_Debt\"], \"_\")\n",
    "\t, \"float64\"\n",
    ").plot(kind=\"box\")"
   ]
  },
  {
   "cell_type": "code",
   "execution_count": 164,
   "id": "f12dbe67-80f2-4197-b985-ad73012cbbd2",
   "metadata": {},
   "outputs": [
    {
     "data": {
      "text/plain": [
       "<Axes: >"
      ]
     },
     "execution_count": 164,
     "metadata": {},
     "output_type": "execute_result"
    },
    {
     "data": {
      "image/png": "[encoded data removed]",
      "text/plain": [
       "<Figure size 640x480 with 1 Axes>"
      ]
     },
     "metadata": {},
     "output_type": "display_data"
    }
   ],
   "source": [
    "outstanding_debt_without_underscore[\"Outstanding_Debt\"].astype(\"float64\").plot(kind=\"box\")"
   ]
  },
  {
   "cell_type": "markdown",
   "id": "237b0901-c274-45bc-a2e5-755698160b5d",
   "metadata": {},
   "source": [
    "- These boxlot shown that distribution of outstanding debt with and without underscore are similar. \n",
    "- Thus, I assume that underscore appear on the data because of system failure\n",
    "- In conclusion, I will remove the underscore symbol"
   ]
  },
  {
   "cell_type": "markdown",
   "id": "24101f5b-f079-4e24-a3cb-a385f3b3493e",
   "metadata": {},
   "source": [
    "#### Remove underscore from outstanding debt"
   ]
  },
  {
   "cell_type": "code",
   "execution_count": 165,
   "id": "cfd41a3b-d5ca-4d16-91c1-dcfb373eb6ce",
   "metadata": {},
   "outputs": [],
   "source": [
    "df_clean.loc[\n",
    "\toutstanding_debt_with_underscore_index,\n",
    "\t\"Outstanding_Debt\"\n",
    "] = remove_specific_char_on_num_series(\n",
    "\toutstanding_debt_with_underscore[\"Outstanding_Debt\"],\n",
    "\t\"_\"\n",
    ")"
   ]
  },
  {
   "cell_type": "code",
   "execution_count": 166,
   "id": "5ac88b32-e22c-43bd-81a8-d4007ba43cb7",
   "metadata": {},
   "outputs": [
    {
     "data": {
      "text/plain": [
       "87       1328.93\n",
       "142      1283.37\n",
       "368      2797.17\n",
       "632      3818.57\n",
       "703       343.84\n",
       "          ...   \n",
       "99842     1095.9\n",
       "99862    1350.85\n",
       "99930    1453.61\n",
       "99984     3571.7\n",
       "99985     3571.7\n",
       "Name: Outstanding_Debt, Length: 1009, dtype: object"
      ]
     },
     "execution_count": 166,
     "metadata": {},
     "output_type": "execute_result"
    }
   ],
   "source": [
    "df_clean.loc[\n",
    "\toutstanding_debt_with_underscore_index,\n",
    "\t\"Outstanding_Debt\"\n",
    "]"
   ]
  },
  {
   "cell_type": "markdown",
   "id": "0f945402-a8ab-48e1-a674-d36497ad3038",
   "metadata": {},
   "source": [
    "#### Change data type of outstanding debt into float"
   ]
  },
  {
   "cell_type": "code",
   "execution_count": 167,
   "id": "c425f235-1099-4f23-ace8-64986001c7c5",
   "metadata": {},
   "outputs": [],
   "source": [
    "df_clean[\"Outstanding_Debt\"] = change_series_data_type(df_clean[\"Outstanding_Debt\"], \"float64\")"
   ]
  },
  {
   "cell_type": "markdown",
   "id": "35835f7c-7aa2-4584-b80e-665121114436",
   "metadata": {},
   "source": [
    "### Credit Utilization Ratio"
   ]
  },
  {
   "cell_type": "code",
   "execution_count": 169,
   "id": "4e823dab-e5e9-49d8-9576-b8fd5fc557ca",
   "metadata": {},
   "outputs": [
    {
     "data": {
      "text/plain": [
       "dtype('float64')"
      ]
     },
     "execution_count": 169,
     "metadata": {},
     "output_type": "execute_result"
    }
   ],
   "source": [
    "df_clean[\"Credit_Utilization_Ratio\"].dtype"
   ]
  },
  {
   "cell_type": "code",
   "execution_count": 170,
   "id": "b9a5871e-2e96-4e91-97c1-80e50de7d650",
   "metadata": {},
   "outputs": [
    {
     "data": {
      "text/plain": [
       "0"
      ]
     },
     "execution_count": 170,
     "metadata": {},
     "output_type": "execute_result"
    }
   ],
   "source": [
    "df_clean[\"Credit_Utilization_Ratio\"].isna().sum()"
   ]
  },
  {
   "cell_type": "markdown",
   "id": "6916a133-fc57-4624-ab6c-9f55f7583b53",
   "metadata": {},
   "source": [
    "- Credit utilization ratio doesn't contain missing values and the data type already float"
   ]
  },
  {
   "cell_type": "code",
   "execution_count": 171,
   "id": "c0514f88-bb6d-4a78-82e9-287111929a26",
   "metadata": {},
   "outputs": [
    {
     "data": {
      "text/plain": [
       "{'.'}"
      ]
     },
     "execution_count": 171,
     "metadata": {},
     "output_type": "execute_result"
    }
   ],
   "source": [
    "get_unique_chars_on_numerical_series(df_clean[\"Credit_Utilization_Ratio\"])"
   ]
  },
  {
   "cell_type": "markdown",
   "id": "5dd59b90-50e1-4d60-8beb-8807caf60330",
   "metadata": {},
   "source": [
    "### Credit History Age"
   ]
  },
  {
   "cell_type": "code",
   "execution_count": 172,
   "id": "ddfd32c5-e007-4012-aa9f-bcac2c4b803d",
   "metadata": {},
   "outputs": [
    {
     "data": {
      "text/plain": [
       "0    22 Years and 1 Months\n",
       "1                      NaN\n",
       "2    22 Years and 3 Months\n",
       "3    22 Years and 4 Months\n",
       "4    22 Years and 5 Months\n",
       "Name: Credit_History_Age, dtype: object"
      ]
     },
     "execution_count": 172,
     "metadata": {},
     "output_type": "execute_result"
    }
   ],
   "source": [
    "df_clean[\"Credit_History_Age\"].head()"
   ]
  },
  {
   "cell_type": "code",
   "execution_count": 173,
   "id": "fc9913d0-f234-4e46-888d-5a878cf6b134",
   "metadata": {},
   "outputs": [],
   "source": [
    "def extract_total_months_from_year_month_str(year_month_str: str) -> int:\n",
    "\t\"\"\"\n",
    "\tExtract total months from :year_month_str\n",
    "\n",
    "        param:\n",
    "            year_month_str (str): data source\n",
    "\n",
    "    \treturn:\n",
    "             total months (int)\n",
    "\t\"\"\"\n",
    "\tif((year_month_str!=None) \n",
    "\t\tand (year_month_str!=np.nan) \n",
    "\t\tand (pd.notna(year_month_str))\n",
    "      ):\n",
    "\t\tyear_month_str = str(year_month_str).lower()\n",
    "\n",
    "\t\tyears = re.search(r'(\\d+)\\s*years', year_month_str)\n",
    "\t\tmonths = re.search(r'(\\d+)\\s*months', year_month_str)\n",
    "\n",
    "\t\tyears_value = int(years.group(1)) if years else 0\n",
    "\t\tmonths_value = int(months.group(1)) if months else 0\n",
    "\t\t\n",
    "\t\treturn (years_value*12)+months_value\n",
    "\telse:\n",
    "\t\t# return original values if it's null\n",
    "\t\treturn year_month_str    "
   ]
  },
  {
   "cell_type": "markdown",
   "id": "99fbc549-148a-4c31-920d-8bf0a7eebd38",
   "metadata": {},
   "source": [
    "#### Extract total months from credit history age"
   ]
  },
  {
   "cell_type": "code",
   "execution_count": 174,
   "id": "a350b84a-7d1f-48c1-8571-cdc175bdea70",
   "metadata": {},
   "outputs": [],
   "source": [
    "df_clean[\"Credit_History_Age\"] = df_clean[\"Credit_History_Age\"].\\\n",
    "\tapply(extract_total_months_from_year_month_str)"
   ]
  },
  {
   "cell_type": "code",
   "execution_count": 175,
   "id": "f54d26cd-c62f-411f-b754-dd4e73b56951",
   "metadata": {
    "scrolled": true
   },
   "outputs": [
    {
     "data": {
      "text/plain": [
       "0        265.0\n",
       "1          NaN\n",
       "2        267.0\n",
       "3        268.0\n",
       "4        269.0\n",
       "         ...  \n",
       "99995    378.0\n",
       "99996    379.0\n",
       "99997    380.0\n",
       "99998    381.0\n",
       "99999    382.0\n",
       "Name: Credit_History_Age, Length: 100000, dtype: float64"
      ]
     },
     "execution_count": 175,
     "metadata": {},
     "output_type": "execute_result"
    }
   ],
   "source": [
    "df_clean[\"Credit_History_Age\"]"
   ]
  },
  {
   "cell_type": "markdown",
   "id": "a939d13d-09c2-44f5-aeb6-6ed8eec9c0b3",
   "metadata": {},
   "source": [
    "### Payment of Min Amount"
   ]
  },
  {
   "cell_type": "code",
   "execution_count": 176,
   "id": "741b97d7-0a01-4f29-a9d0-2a943dda50b7",
   "metadata": {},
   "outputs": [
    {
     "data": {
      "text/plain": [
       "array(['No', 'NM', 'Yes'], dtype=object)"
      ]
     },
     "execution_count": 176,
     "metadata": {},
     "output_type": "execute_result"
    }
   ],
   "source": [
    "df_clean[\"Payment_of_Min_Amount\"].unique()"
   ]
  },
  {
   "cell_type": "markdown",
   "id": "8700788c-d339-4f63-8765-c3389126e288",
   "metadata": {},
   "source": [
    "- The column contains 3 unique values, no, nm, and yes.\n",
    "- This column should be contain only no and yes (indicating whether only minimum amount was paid)\n",
    "- Since there are many inappropriate values appearing in the dataset due to a system failure, nm might have appeared under similar circumstances\n",
    "- Thus, I will replace nm as missing values"
   ]
  },
  {
   "cell_type": "code",
   "execution_count": 177,
   "id": "a3c55141-c5e0-420f-a40e-370b20a219ec",
   "metadata": {
    "scrolled": true
   },
   "outputs": [
    {
     "data": {
      "text/html": [
       "<div>\n",
       "<style scoped>\n",
       "    .dataframe tbody tr th:only-of-type {\n",
       "        vertical-align: middle;\n",
       "    }\n",
       "\n",
       "    .dataframe tbody tr th {\n",
       "        vertical-align: top;\n",
       "    }\n",
       "\n",
       "    .dataframe thead th {\n",
       "        text-align: right;\n",
       "    }\n",
       "</style>\n",
       "<table border=\"1\" class=\"dataframe\">\n",
       "  <thead>\n",
       "    <tr style=\"text-align: right;\">\n",
       "      <th></th>\n",
       "      <th>Month</th>\n",
       "      <th>Age</th>\n",
       "      <th>Occupation</th>\n",
       "      <th>Annual_Income</th>\n",
       "      <th>Monthly_Inhand_Salary</th>\n",
       "      <th>Num_Bank_Accounts</th>\n",
       "      <th>Num_Credit_Card</th>\n",
       "      <th>Interest_Rate</th>\n",
       "      <th>Num_of_Loan</th>\n",
       "      <th>Delay_from_due_date</th>\n",
       "      <th>...</th>\n",
       "      <th>Outstanding_Debt</th>\n",
       "      <th>Credit_Utilization_Ratio</th>\n",
       "      <th>Credit_History_Age</th>\n",
       "      <th>Payment_of_Min_Amount</th>\n",
       "      <th>Total_EMI_per_month</th>\n",
       "      <th>Amount_invested_monthly</th>\n",
       "      <th>Payment_Behaviour</th>\n",
       "      <th>Monthly_Balance</th>\n",
       "      <th>Credit_Score</th>\n",
       "      <th>Num_Bank_Account</th>\n",
       "    </tr>\n",
       "  </thead>\n",
       "  <tbody>\n",
       "    <tr>\n",
       "      <th>14</th>\n",
       "      <td>July</td>\n",
       "      <td>28</td>\n",
       "      <td>Teacher</td>\n",
       "      <td>34847.84</td>\n",
       "      <td>NaN</td>\n",
       "      <td>2</td>\n",
       "      <td>4</td>\n",
       "      <td>0.06</td>\n",
       "      <td>1</td>\n",
       "      <td>3</td>\n",
       "      <td>...</td>\n",
       "      <td>605.03</td>\n",
       "      <td>31.131702</td>\n",
       "      <td>325.0</td>\n",
       "      <td>NM</td>\n",
       "      <td>18.816215</td>\n",
       "      <td>70.10177420755677</td>\n",
       "      <td>High_spent_Medium_value_payments</td>\n",
       "      <td>464.8806778859809</td>\n",
       "      <td>Good</td>\n",
       "      <td>NaN</td>\n",
       "    </tr>\n",
       "    <tr>\n",
       "      <th>26</th>\n",
       "      <td>March</td>\n",
       "      <td>55</td>\n",
       "      <td>Entrepreneur</td>\n",
       "      <td>30689.89</td>\n",
       "      <td>2612.490833</td>\n",
       "      <td>2</td>\n",
       "      <td>5</td>\n",
       "      <td>0.04</td>\n",
       "      <td>1</td>\n",
       "      <td>3</td>\n",
       "      <td>...</td>\n",
       "      <td>632.46</td>\n",
       "      <td>32.301163</td>\n",
       "      <td>209.0</td>\n",
       "      <td>NM</td>\n",
       "      <td>16.415452</td>\n",
       "      <td>83.40650880252501</td>\n",
       "      <td>High_spent_Medium_value_payments</td>\n",
       "      <td>411.42712287098345</td>\n",
       "      <td>Standard</td>\n",
       "      <td>NaN</td>\n",
       "    </tr>\n",
       "    <tr>\n",
       "      <th>33</th>\n",
       "      <td>February</td>\n",
       "      <td>21</td>\n",
       "      <td>Developer</td>\n",
       "      <td>35547.71</td>\n",
       "      <td>NaN</td>\n",
       "      <td>7</td>\n",
       "      <td>5</td>\n",
       "      <td>0.05</td>\n",
       "      <td>0</td>\n",
       "      <td>9</td>\n",
       "      <td>...</td>\n",
       "      <td>943.86</td>\n",
       "      <td>27.020360</td>\n",
       "      <td>369.0</td>\n",
       "      <td>NM</td>\n",
       "      <td>0.000000</td>\n",
       "      <td>74.44364104999623</td>\n",
       "      <td>High_spent_Medium_value_payments</td>\n",
       "      <td>460.88727561667037</td>\n",
       "      <td>Standard</td>\n",
       "      <td>NaN</td>\n",
       "    </tr>\n",
       "    <tr>\n",
       "      <th>41</th>\n",
       "      <td>February</td>\n",
       "      <td>31</td>\n",
       "      <td>Unknown</td>\n",
       "      <td>73928.46</td>\n",
       "      <td>5988.705000</td>\n",
       "      <td>4</td>\n",
       "      <td>5</td>\n",
       "      <td>0.08</td>\n",
       "      <td>0</td>\n",
       "      <td>8</td>\n",
       "      <td>...</td>\n",
       "      <td>548.20</td>\n",
       "      <td>42.769864</td>\n",
       "      <td>384.0</td>\n",
       "      <td>NM</td>\n",
       "      <td>0.000000</td>\n",
       "      <td>172.93921446875606</td>\n",
       "      <td>Low_spent_Medium_value_payments</td>\n",
       "      <td>705.931285531244</td>\n",
       "      <td>Good</td>\n",
       "      <td>NaN</td>\n",
       "    </tr>\n",
       "    <tr>\n",
       "      <th>48</th>\n",
       "      <td>January</td>\n",
       "      <td>33</td>\n",
       "      <td>Lawyer</td>\n",
       "      <td>131313.40</td>\n",
       "      <td>11242.783333</td>\n",
       "      <td>0</td>\n",
       "      <td>1</td>\n",
       "      <td>0.08</td>\n",
       "      <td>2</td>\n",
       "      <td>0</td>\n",
       "      <td>...</td>\n",
       "      <td>352.16</td>\n",
       "      <td>32.200509</td>\n",
       "      <td>367.0</td>\n",
       "      <td>NM</td>\n",
       "      <td>137.644605</td>\n",
       "      <td>378.1712535207537</td>\n",
       "      <td>High_spent_Medium_value_payments</td>\n",
       "      <td>858.462474411158</td>\n",
       "      <td>Good</td>\n",
       "      <td>NaN</td>\n",
       "    </tr>\n",
       "    <tr>\n",
       "      <th>...</th>\n",
       "      <td>...</td>\n",
       "      <td>...</td>\n",
       "      <td>...</td>\n",
       "      <td>...</td>\n",
       "      <td>...</td>\n",
       "      <td>...</td>\n",
       "      <td>...</td>\n",
       "      <td>...</td>\n",
       "      <td>...</td>\n",
       "      <td>...</td>\n",
       "      <td>...</td>\n",
       "      <td>...</td>\n",
       "      <td>...</td>\n",
       "      <td>...</td>\n",
       "      <td>...</td>\n",
       "      <td>...</td>\n",
       "      <td>...</td>\n",
       "      <td>...</td>\n",
       "      <td>...</td>\n",
       "      <td>...</td>\n",
       "      <td>...</td>\n",
       "    </tr>\n",
       "    <tr>\n",
       "      <th>99939</th>\n",
       "      <td>April</td>\n",
       "      <td>47</td>\n",
       "      <td>Developer</td>\n",
       "      <td>22620.79</td>\n",
       "      <td>1722.065833</td>\n",
       "      <td>7</td>\n",
       "      <td>3</td>\n",
       "      <td>0.09</td>\n",
       "      <td>0</td>\n",
       "      <td>27</td>\n",
       "      <td>...</td>\n",
       "      <td>642.46</td>\n",
       "      <td>26.730863</td>\n",
       "      <td>354.0</td>\n",
       "      <td>NM</td>\n",
       "      <td>0.000000</td>\n",
       "      <td>205.75607405146</td>\n",
       "      <td>Low_spent_Small_value_payments</td>\n",
       "      <td>256.45050928187334</td>\n",
       "      <td>Poor</td>\n",
       "      <td>NaN</td>\n",
       "    </tr>\n",
       "    <tr>\n",
       "      <th>99949</th>\n",
       "      <td>June</td>\n",
       "      <td>33</td>\n",
       "      <td>Media_Manager</td>\n",
       "      <td>59146.36</td>\n",
       "      <td>4908.863333</td>\n",
       "      <td>3</td>\n",
       "      <td>6</td>\n",
       "      <td>0.06</td>\n",
       "      <td>1</td>\n",
       "      <td>6</td>\n",
       "      <td>...</td>\n",
       "      <td>418.03</td>\n",
       "      <td>24.975531</td>\n",
       "      <td>246.0</td>\n",
       "      <td>NM</td>\n",
       "      <td>26.778419</td>\n",
       "      <td>91.32166373670609</td>\n",
       "      <td>High_spent_Medium_value_payments</td>\n",
       "      <td>622.7862503245857</td>\n",
       "      <td>Standard</td>\n",
       "      <td>NaN</td>\n",
       "    </tr>\n",
       "    <tr>\n",
       "      <th>99968</th>\n",
       "      <td>January</td>\n",
       "      <td>44</td>\n",
       "      <td>Media_Manager</td>\n",
       "      <td>16680.35</td>\n",
       "      <td>1528.029167</td>\n",
       "      <td>1</td>\n",
       "      <td>1</td>\n",
       "      <td>0.05</td>\n",
       "      <td>4</td>\n",
       "      <td>4</td>\n",
       "      <td>...</td>\n",
       "      <td>897.16</td>\n",
       "      <td>39.868572</td>\n",
       "      <td>NaN</td>\n",
       "      <td>NM</td>\n",
       "      <td>41.113561</td>\n",
       "      <td>52.95197781627658</td>\n",
       "      <td>High_spent_Small_value_payments</td>\n",
       "      <td>318.73737826046414</td>\n",
       "      <td>Good</td>\n",
       "      <td>NaN</td>\n",
       "    </tr>\n",
       "    <tr>\n",
       "      <th>99979</th>\n",
       "      <td>April</td>\n",
       "      <td>49</td>\n",
       "      <td>Writer</td>\n",
       "      <td>37188.10</td>\n",
       "      <td>3097.008333</td>\n",
       "      <td>1</td>\n",
       "      <td>4</td>\n",
       "      <td>0.05</td>\n",
       "      <td>3</td>\n",
       "      <td>3</td>\n",
       "      <td>...</td>\n",
       "      <td>620.64</td>\n",
       "      <td>36.979007</td>\n",
       "      <td>360.0</td>\n",
       "      <td>NM</td>\n",
       "      <td>84.205949</td>\n",
       "      <td>215.48638555294247</td>\n",
       "      <td>Low_spent_Small_value_payments</td>\n",
       "      <td>300.00849835554664</td>\n",
       "      <td>Good</td>\n",
       "      <td>NaN</td>\n",
       "    </tr>\n",
       "    <tr>\n",
       "      <th>99981</th>\n",
       "      <td>June</td>\n",
       "      <td>50</td>\n",
       "      <td>Writer</td>\n",
       "      <td>37188.10</td>\n",
       "      <td>3097.008333</td>\n",
       "      <td>1</td>\n",
       "      <td>4</td>\n",
       "      <td>0.05</td>\n",
       "      <td>3</td>\n",
       "      <td>5</td>\n",
       "      <td>...</td>\n",
       "      <td>620.64</td>\n",
       "      <td>37.753013</td>\n",
       "      <td>362.0</td>\n",
       "      <td>NM</td>\n",
       "      <td>84.205949</td>\n",
       "      <td>147.33990786653956</td>\n",
       "      <td>Low_spent_Small_value_payments</td>\n",
       "      <td>368.15497604194945</td>\n",
       "      <td>Good</td>\n",
       "      <td>NaN</td>\n",
       "    </tr>\n",
       "  </tbody>\n",
       "</table>\n",
       "<p>12007 rows × 23 columns</p>\n",
       "</div>"
      ],
      "text/plain": [
       "          Month  Age     Occupation  Annual_Income  Monthly_Inhand_Salary  \\\n",
       "14         July   28        Teacher       34847.84                    NaN   \n",
       "26        March   55   Entrepreneur       30689.89            2612.490833   \n",
       "33     February   21      Developer       35547.71                    NaN   \n",
       "41     February   31        Unknown       73928.46            5988.705000   \n",
       "48      January   33         Lawyer      131313.40           11242.783333   \n",
       "...         ...  ...            ...            ...                    ...   \n",
       "99939     April   47      Developer       22620.79            1722.065833   \n",
       "99949      June   33  Media_Manager       59146.36            4908.863333   \n",
       "99968   January   44  Media_Manager       16680.35            1528.029167   \n",
       "99979     April   49         Writer       37188.10            3097.008333   \n",
       "99981      June   50         Writer       37188.10            3097.008333   \n",
       "\n",
       "       Num_Bank_Accounts  Num_Credit_Card  Interest_Rate  Num_of_Loan  \\\n",
       "14                     2                4           0.06            1   \n",
       "26                     2                5           0.04            1   \n",
       "33                     7                5           0.05            0   \n",
       "41                     4                5           0.08            0   \n",
       "48                     0                1           0.08            2   \n",
       "...                  ...              ...            ...          ...   \n",
       "99939                  7                3           0.09            0   \n",
       "99949                  3                6           0.06            1   \n",
       "99968                  1                1           0.05            4   \n",
       "99979                  1                4           0.05            3   \n",
       "99981                  1                4           0.05            3   \n",
       "\n",
       "       Delay_from_due_date  ...  Outstanding_Debt  Credit_Utilization_Ratio  \\\n",
       "14                       3  ...            605.03                 31.131702   \n",
       "26                       3  ...            632.46                 32.301163   \n",
       "33                       9  ...            943.86                 27.020360   \n",
       "41                       8  ...            548.20                 42.769864   \n",
       "48                       0  ...            352.16                 32.200509   \n",
       "...                    ...  ...               ...                       ...   \n",
       "99939                   27  ...            642.46                 26.730863   \n",
       "99949                    6  ...            418.03                 24.975531   \n",
       "99968                    4  ...            897.16                 39.868572   \n",
       "99979                    3  ...            620.64                 36.979007   \n",
       "99981                    5  ...            620.64                 37.753013   \n",
       "\n",
       "       Credit_History_Age  Payment_of_Min_Amount  Total_EMI_per_month  \\\n",
       "14                  325.0                     NM            18.816215   \n",
       "26                  209.0                     NM            16.415452   \n",
       "33                  369.0                     NM             0.000000   \n",
       "41                  384.0                     NM             0.000000   \n",
       "48                  367.0                     NM           137.644605   \n",
       "...                   ...                    ...                  ...   \n",
       "99939               354.0                     NM             0.000000   \n",
       "99949               246.0                     NM            26.778419   \n",
       "99968                 NaN                     NM            41.113561   \n",
       "99979               360.0                     NM            84.205949   \n",
       "99981               362.0                     NM            84.205949   \n",
       "\n",
       "       Amount_invested_monthly                 Payment_Behaviour  \\\n",
       "14           70.10177420755677  High_spent_Medium_value_payments   \n",
       "26           83.40650880252501  High_spent_Medium_value_payments   \n",
       "33           74.44364104999623  High_spent_Medium_value_payments   \n",
       "41          172.93921446875606   Low_spent_Medium_value_payments   \n",
       "48           378.1712535207537  High_spent_Medium_value_payments   \n",
       "...                        ...                               ...   \n",
       "99939          205.75607405146    Low_spent_Small_value_payments   \n",
       "99949        91.32166373670609  High_spent_Medium_value_payments   \n",
       "99968        52.95197781627658   High_spent_Small_value_payments   \n",
       "99979       215.48638555294247    Low_spent_Small_value_payments   \n",
       "99981       147.33990786653956    Low_spent_Small_value_payments   \n",
       "\n",
       "          Monthly_Balance Credit_Score Num_Bank_Account  \n",
       "14      464.8806778859809         Good              NaN  \n",
       "26     411.42712287098345     Standard              NaN  \n",
       "33     460.88727561667037     Standard              NaN  \n",
       "41       705.931285531244         Good              NaN  \n",
       "48       858.462474411158         Good              NaN  \n",
       "...                   ...          ...              ...  \n",
       "99939  256.45050928187334         Poor              NaN  \n",
       "99949   622.7862503245857     Standard              NaN  \n",
       "99968  318.73737826046414         Good              NaN  \n",
       "99979  300.00849835554664         Good              NaN  \n",
       "99981  368.15497604194945         Good              NaN  \n",
       "\n",
       "[12007 rows x 23 columns]"
      ]
     },
     "execution_count": 177,
     "metadata": {},
     "output_type": "execute_result"
    }
   ],
   "source": [
    "df_clean[df_clean[\"Payment_of_Min_Amount\"]==\"NM\"]"
   ]
  },
  {
   "cell_type": "markdown",
   "id": "d1f27673-e72d-41a1-9eb6-a8c1868b72d6",
   "metadata": {},
   "source": [
    "#### Assign NM as missing values"
   ]
  },
  {
   "cell_type": "code",
   "execution_count": 178,
   "id": "765fd450-275d-4f59-bee4-5a7d5f4ea1d1",
   "metadata": {},
   "outputs": [],
   "source": [
    "df_clean.loc[\n",
    "    df_clean[\"Payment_of_Min_Amount\"]==\"NM\", \"Payment_of_Min_Amount\"\n",
    "] = np.nan"
   ]
  },
  {
   "cell_type": "code",
   "execution_count": 179,
   "id": "dbf7b2c2-e312-4417-8f47-55a42cfbf86f",
   "metadata": {},
   "outputs": [
    {
     "data": {
      "text/plain": [
       "array(['No', nan, 'Yes'], dtype=object)"
      ]
     },
     "execution_count": 179,
     "metadata": {},
     "output_type": "execute_result"
    }
   ],
   "source": [
    "df_clean[\"Payment_of_Min_Amount\"].unique()"
   ]
  },
  {
   "cell_type": "markdown",
   "id": "c7a025f4-803b-4c69-8375-4f2af9dae5d3",
   "metadata": {},
   "source": [
    "### Total EMI per month"
   ]
  },
  {
   "cell_type": "code",
   "execution_count": 180,
   "id": "6e048694-3204-47f0-bf49-1acaa3688f7f",
   "metadata": {},
   "outputs": [
    {
     "data": {
      "text/plain": [
       "dtype('float64')"
      ]
     },
     "execution_count": 180,
     "metadata": {},
     "output_type": "execute_result"
    }
   ],
   "source": [
    "df_clean[\"Total_EMI_per_month\"].dtype"
   ]
  },
  {
   "cell_type": "code",
   "execution_count": 181,
   "id": "90a99dea-e136-4751-a48c-4a4a9d003b1a",
   "metadata": {},
   "outputs": [
    {
     "data": {
      "text/plain": [
       "0"
      ]
     },
     "execution_count": 181,
     "metadata": {},
     "output_type": "execute_result"
    }
   ],
   "source": [
    "df_clean[\"Total_EMI_per_month\"].isna().sum()"
   ]
  },
  {
   "cell_type": "markdown",
   "id": "2f1dd911-44c2-47ae-b58f-216ffc71ea7d",
   "metadata": {},
   "source": [
    "- The column doesn't contain missing values and the data type is alreday float"
   ]
  },
  {
   "cell_type": "code",
   "execution_count": 182,
   "id": "e31c049d-ff9e-4e9b-abde-12d20a98f97c",
   "metadata": {},
   "outputs": [
    {
     "data": {
      "text/plain": [
       "{'.'}"
      ]
     },
     "execution_count": 182,
     "metadata": {},
     "output_type": "execute_result"
    }
   ],
   "source": [
    "get_unique_chars_on_numerical_series(df_clean[\"Total_EMI_per_month\"])"
   ]
  },
  {
   "cell_type": "markdown",
   "id": "76b51b24-4ecf-4119-a47c-f5d72f592eb3",
   "metadata": {},
   "source": [
    "### Amount invested monthly"
   ]
  },
  {
   "cell_type": "code",
   "execution_count": 183,
   "id": "87c11642-ca83-4e8c-9307-a99fd2aa745c",
   "metadata": {},
   "outputs": [
    {
     "data": {
      "text/plain": [
       "{'.', '_'}"
      ]
     },
     "execution_count": 183,
     "metadata": {},
     "output_type": "execute_result"
    }
   ],
   "source": [
    "get_unique_chars_on_numerical_series(df_clean[\"Amount_invested_monthly\"])"
   ]
  },
  {
   "cell_type": "code",
   "execution_count": 184,
   "id": "2d40f1d2-d7cb-4dd8-ade1-77d9c65eb496",
   "metadata": {},
   "outputs": [],
   "source": [
    "amount_invested_monthly_with_underscore_index =\\\n",
    "get_rows_index_with_specific_char(df_clean[\"Amount_invested_monthly\"], \"_\")"
   ]
  },
  {
   "cell_type": "code",
   "execution_count": 185,
   "id": "d8551407-fb16-4759-8b6e-49a8c219b3b2",
   "metadata": {},
   "outputs": [],
   "source": [
    "amount_invested_monthly_with_underscore = df_clean.loc[\n",
    "\tamount_invested_monthly_with_underscore_index\n",
    "]"
   ]
  },
  {
   "cell_type": "code",
   "execution_count": 186,
   "id": "08013b82-fb62-4921-9037-03c058de03b3",
   "metadata": {},
   "outputs": [
    {
     "data": {
      "text/plain": [
       "18       __10000__\n",
       "23       __10000__\n",
       "28       __10000__\n",
       "121      __10000__\n",
       "142      __10000__\n",
       "           ...    \n",
       "99879    __10000__\n",
       "99882    __10000__\n",
       "99919    __10000__\n",
       "99951    __10000__\n",
       "99973    __10000__\n",
       "Name: Amount_invested_monthly, Length: 4305, dtype: object"
      ]
     },
     "execution_count": 186,
     "metadata": {},
     "output_type": "execute_result"
    }
   ],
   "source": [
    "amount_invested_monthly_with_underscore[\"Amount_invested_monthly\"]"
   ]
  },
  {
   "cell_type": "markdown",
   "id": "9f6110df-83c5-40c3-9e2a-e55241ce8ef1",
   "metadata": {},
   "source": [
    "- \\_\\_10000\\_\\_ is a weird value to be appear in the data"
   ]
  },
  {
   "cell_type": "code",
   "execution_count": 187,
   "id": "4e00dca9-5d3d-4934-868c-4a2b27123d1f",
   "metadata": {},
   "outputs": [
    {
     "data": {
      "text/plain": [
       "count    91216.00\n",
       "mean       195.54\n",
       "std        199.56\n",
       "min          0.00\n",
       "25%         72.24\n",
       "50%        128.95\n",
       "75%        236.82\n",
       "max       1977.33\n",
       "Name: Amount_invested_monthly, dtype: float64"
      ]
     },
     "execution_count": 187,
     "metadata": {},
     "output_type": "execute_result"
    }
   ],
   "source": [
    "df_clean.drop(\n",
    "\tindex=amount_invested_monthly_with_underscore_index\n",
    ")[\"Amount_invested_monthly\"].astype(\"float64\").describe().round(2)"
   ]
  },
  {
   "cell_type": "markdown",
   "id": "351fc45e-3731-4385-a6b1-4abc5869ba1b",
   "metadata": {},
   "source": [
    "- Average amount invested monthly is 196 and the median is 128.\n",
    "- If I assume \\_\\_ are miss-typed and use 10,000 for true value. This doesn't make any sense due to maximum value of amount invested monthly is 1,977.\n",
    "\n",
    "- Thus, `I conclude that \\_\\_10000\\_\\_ occur because of system error and I will assign as missing values`"
   ]
  },
  {
   "cell_type": "markdown",
   "id": "40b3061f-0145-495c-9012-3c6b5f5915aa",
   "metadata": {},
   "source": [
    "#### Assign \\_\\_10000\\_\\_ as missing values"
   ]
  },
  {
   "cell_type": "code",
   "execution_count": 189,
   "id": "771bc1c7-de45-4170-a025-cc7e1cb7e35e",
   "metadata": {},
   "outputs": [],
   "source": [
    "df_clean.loc[\n",
    "\tamount_invested_monthly_with_underscore_index,\n",
    "\t\"Amount_invested_monthly\"\n",
    "] = np.nan"
   ]
  },
  {
   "cell_type": "markdown",
   "id": "031b2ae7-ed85-40ad-89e1-b92e4ed7d229",
   "metadata": {},
   "source": [
    "#### Change data type of amount invested monthly to float"
   ]
  },
  {
   "cell_type": "code",
   "execution_count": 191,
   "id": "ad8cf1d4-b478-45a3-8bb6-bfde17cd6285",
   "metadata": {},
   "outputs": [],
   "source": [
    "df_clean[\"Amount_invested_monthly\"] = df_clean[\"Amount_invested_monthly\"].astype(\"float64\")"
   ]
  },
  {
   "cell_type": "markdown",
   "id": "ef5d80c9-06fa-4303-9c12-bb05bfdf57e5",
   "metadata": {},
   "source": [
    "### Payment Behaviour"
   ]
  },
  {
   "cell_type": "code",
   "execution_count": 146,
   "id": "d8e3a052-3bc3-45cf-9061-859e92330230",
   "metadata": {},
   "outputs": [
    {
     "data": {
      "text/plain": [
       "array(['High_spent_Small_value_payments',\n",
       "       'Low_spent_Large_value_payments',\n",
       "       'Low_spent_Medium_value_payments',\n",
       "       'Low_spent_Small_value_payments',\n",
       "       'High_spent_Medium_value_payments', '!@9#%8',\n",
       "       'High_spent_Large_value_payments'], dtype=object)"
      ]
     },
     "execution_count": 146,
     "metadata": {},
     "output_type": "execute_result"
    }
   ],
   "source": [
    "df_eda[\"Payment_Behaviour\"].unique()"
   ]
  },
  {
   "cell_type": "markdown",
   "id": "fe2940e3-d09a-419d-8d5b-b9b82550280e",
   "metadata": {},
   "source": [
    "- There's a weird value \"!@9#%8\" appear on the column that doesn't have any meaning"
   ]
  },
  {
   "cell_type": "code",
   "execution_count": 193,
   "id": "4f8f3aae-e7db-4409-8bfa-a97a993a9173",
   "metadata": {},
   "outputs": [],
   "source": [
    "payment_behaviour_weird = df_clean[df_clean[\"Payment_Behaviour\"]==\"!@9#%8\"]"
   ]
  },
  {
   "cell_type": "code",
   "execution_count": 194,
   "id": "c919369b-0381-41d2-9f18-b5cd02ef9e35",
   "metadata": {},
   "outputs": [
    {
     "data": {
      "text/html": [
       "<div>\n",
       "<style scoped>\n",
       "    .dataframe tbody tr th:only-of-type {\n",
       "        vertical-align: middle;\n",
       "    }\n",
       "\n",
       "    .dataframe tbody tr th {\n",
       "        vertical-align: top;\n",
       "    }\n",
       "\n",
       "    .dataframe thead th {\n",
       "        text-align: right;\n",
       "    }\n",
       "</style>\n",
       "<table border=\"1\" class=\"dataframe\">\n",
       "  <thead>\n",
       "    <tr style=\"text-align: right;\">\n",
       "      <th></th>\n",
       "      <th>Month</th>\n",
       "      <th>Age</th>\n",
       "      <th>Occupation</th>\n",
       "      <th>Annual_Income</th>\n",
       "      <th>Monthly_Inhand_Salary</th>\n",
       "      <th>Num_Bank_Accounts</th>\n",
       "      <th>Num_Credit_Card</th>\n",
       "      <th>Interest_Rate</th>\n",
       "      <th>Num_of_Loan</th>\n",
       "      <th>Delay_from_due_date</th>\n",
       "      <th>...</th>\n",
       "      <th>Outstanding_Debt</th>\n",
       "      <th>Credit_Utilization_Ratio</th>\n",
       "      <th>Credit_History_Age</th>\n",
       "      <th>Payment_of_Min_Amount</th>\n",
       "      <th>Total_EMI_per_month</th>\n",
       "      <th>Amount_invested_monthly</th>\n",
       "      <th>Payment_Behaviour</th>\n",
       "      <th>Monthly_Balance</th>\n",
       "      <th>Credit_Score</th>\n",
       "      <th>Num_Bank_Account</th>\n",
       "    </tr>\n",
       "  </thead>\n",
       "  <tbody>\n",
       "    <tr>\n",
       "      <th>5</th>\n",
       "      <td>June</td>\n",
       "      <td>23</td>\n",
       "      <td>Scientist</td>\n",
       "      <td>19114.12</td>\n",
       "      <td>NaN</td>\n",
       "      <td>3</td>\n",
       "      <td>4</td>\n",
       "      <td>0.03</td>\n",
       "      <td>4</td>\n",
       "      <td>8</td>\n",
       "      <td>...</td>\n",
       "      <td>809.98</td>\n",
       "      <td>27.262259</td>\n",
       "      <td>270.0</td>\n",
       "      <td>No</td>\n",
       "      <td>49.574949</td>\n",
       "      <td>62.430172</td>\n",
       "      <td>!@9#%8</td>\n",
       "      <td>340.4792117872438</td>\n",
       "      <td>Good</td>\n",
       "      <td>NaN</td>\n",
       "    </tr>\n",
       "    <tr>\n",
       "      <th>16</th>\n",
       "      <td>January</td>\n",
       "      <td>34</td>\n",
       "      <td>Unknown</td>\n",
       "      <td>143162.64</td>\n",
       "      <td>12187.220000</td>\n",
       "      <td>1</td>\n",
       "      <td>5</td>\n",
       "      <td>0.08</td>\n",
       "      <td>3</td>\n",
       "      <td>5</td>\n",
       "      <td>...</td>\n",
       "      <td>1303.01</td>\n",
       "      <td>28.616735</td>\n",
       "      <td>213.0</td>\n",
       "      <td>No</td>\n",
       "      <td>246.992319</td>\n",
       "      <td>168.413703</td>\n",
       "      <td>!@9#%8</td>\n",
       "      <td>1043.3159778669492</td>\n",
       "      <td>Good</td>\n",
       "      <td>NaN</td>\n",
       "    </tr>\n",
       "    <tr>\n",
       "      <th>32</th>\n",
       "      <td>January</td>\n",
       "      <td>21</td>\n",
       "      <td>Developer</td>\n",
       "      <td>35547.71</td>\n",
       "      <td>2853.309167</td>\n",
       "      <td>7</td>\n",
       "      <td>5</td>\n",
       "      <td>0.05</td>\n",
       "      <td>0</td>\n",
       "      <td>5</td>\n",
       "      <td>...</td>\n",
       "      <td>943.86</td>\n",
       "      <td>39.797764</td>\n",
       "      <td>368.0</td>\n",
       "      <td>Yes</td>\n",
       "      <td>0.000000</td>\n",
       "      <td>276.725394</td>\n",
       "      <td>!@9#%8</td>\n",
       "      <td>288.60552234930395</td>\n",
       "      <td>Standard</td>\n",
       "      <td>NaN</td>\n",
       "    </tr>\n",
       "    <tr>\n",
       "      <th>47</th>\n",
       "      <td>August</td>\n",
       "      <td>31</td>\n",
       "      <td>Lawyer</td>\n",
       "      <td>73928.46</td>\n",
       "      <td>5988.705000</td>\n",
       "      <td>4</td>\n",
       "      <td>5</td>\n",
       "      <td>0.08</td>\n",
       "      <td>0</td>\n",
       "      <td>8</td>\n",
       "      <td>...</td>\n",
       "      <td>548.20</td>\n",
       "      <td>31.580990</td>\n",
       "      <td>390.0</td>\n",
       "      <td>No</td>\n",
       "      <td>0.000000</td>\n",
       "      <td>42.635590</td>\n",
       "      <td>!@9#%8</td>\n",
       "      <td>796.2349097481042</td>\n",
       "      <td>Good</td>\n",
       "      <td>NaN</td>\n",
       "    </tr>\n",
       "    <tr>\n",
       "      <th>54</th>\n",
       "      <td>July</td>\n",
       "      <td>&lt;NA&gt;</td>\n",
       "      <td>Lawyer</td>\n",
       "      <td>10909427.00</td>\n",
       "      <td>NaN</td>\n",
       "      <td>0</td>\n",
       "      <td>1</td>\n",
       "      <td>0.08</td>\n",
       "      <td>2</td>\n",
       "      <td>0</td>\n",
       "      <td>...</td>\n",
       "      <td>352.16</td>\n",
       "      <td>26.947565</td>\n",
       "      <td>373.0</td>\n",
       "      <td>No</td>\n",
       "      <td>911.220179</td>\n",
       "      <td>930.391898</td>\n",
       "      <td>!@9#%8</td>\n",
       "      <td>326.24183015224526</td>\n",
       "      <td>Good</td>\n",
       "      <td>NaN</td>\n",
       "    </tr>\n",
       "    <tr>\n",
       "      <th>...</th>\n",
       "      <td>...</td>\n",
       "      <td>...</td>\n",
       "      <td>...</td>\n",
       "      <td>...</td>\n",
       "      <td>...</td>\n",
       "      <td>...</td>\n",
       "      <td>...</td>\n",
       "      <td>...</td>\n",
       "      <td>...</td>\n",
       "      <td>...</td>\n",
       "      <td>...</td>\n",
       "      <td>...</td>\n",
       "      <td>...</td>\n",
       "      <td>...</td>\n",
       "      <td>...</td>\n",
       "      <td>...</td>\n",
       "      <td>...</td>\n",
       "      <td>...</td>\n",
       "      <td>...</td>\n",
       "      <td>...</td>\n",
       "      <td>...</td>\n",
       "    </tr>\n",
       "    <tr>\n",
       "      <th>99947</th>\n",
       "      <td>April</td>\n",
       "      <td>33</td>\n",
       "      <td>Media_Manager</td>\n",
       "      <td>59146.36</td>\n",
       "      <td>4908.863333</td>\n",
       "      <td>2</td>\n",
       "      <td>5</td>\n",
       "      <td>0.06</td>\n",
       "      <td>1</td>\n",
       "      <td>8</td>\n",
       "      <td>...</td>\n",
       "      <td>418.03</td>\n",
       "      <td>28.091458</td>\n",
       "      <td>244.0</td>\n",
       "      <td>No</td>\n",
       "      <td>26.778419</td>\n",
       "      <td>183.584149</td>\n",
       "      <td>!@9#%8</td>\n",
       "      <td>530.5237651921971</td>\n",
       "      <td>Standard</td>\n",
       "      <td>NaN</td>\n",
       "    </tr>\n",
       "    <tr>\n",
       "      <th>99980</th>\n",
       "      <td>May</td>\n",
       "      <td>49</td>\n",
       "      <td>Writer</td>\n",
       "      <td>37188.10</td>\n",
       "      <td>3097.008333</td>\n",
       "      <td>1</td>\n",
       "      <td>4</td>\n",
       "      <td>0.05</td>\n",
       "      <td>3</td>\n",
       "      <td>7</td>\n",
       "      <td>...</td>\n",
       "      <td>620.64</td>\n",
       "      <td>27.495263</td>\n",
       "      <td>361.0</td>\n",
       "      <td>No</td>\n",
       "      <td>84.205949</td>\n",
       "      <td>78.497727</td>\n",
       "      <td>!@9#%8</td>\n",
       "      <td>396.99715733756386</td>\n",
       "      <td>Standard</td>\n",
       "      <td>NaN</td>\n",
       "    </tr>\n",
       "    <tr>\n",
       "      <th>99982</th>\n",
       "      <td>July</td>\n",
       "      <td>50</td>\n",
       "      <td>Writer</td>\n",
       "      <td>37188.10</td>\n",
       "      <td>3097.008333</td>\n",
       "      <td>1</td>\n",
       "      <td>4</td>\n",
       "      <td>0.05</td>\n",
       "      <td>3</td>\n",
       "      <td>7</td>\n",
       "      <td>...</td>\n",
       "      <td>620.64</td>\n",
       "      <td>38.850680</td>\n",
       "      <td>363.0</td>\n",
       "      <td>No</td>\n",
       "      <td>84.205949</td>\n",
       "      <td>82.825572</td>\n",
       "      <td>!@9#%8</td>\n",
       "      <td>412.66931176433695</td>\n",
       "      <td>Good</td>\n",
       "      <td>NaN</td>\n",
       "    </tr>\n",
       "    <tr>\n",
       "      <th>99989</th>\n",
       "      <td>June</td>\n",
       "      <td>28</td>\n",
       "      <td>Unknown</td>\n",
       "      <td>20002.88</td>\n",
       "      <td>1929.906667</td>\n",
       "      <td>10</td>\n",
       "      <td>8</td>\n",
       "      <td>0.29</td>\n",
       "      <td>5</td>\n",
       "      <td>33</td>\n",
       "      <td>...</td>\n",
       "      <td>3571.70</td>\n",
       "      <td>33.359987</td>\n",
       "      <td>73.0</td>\n",
       "      <td>Yes</td>\n",
       "      <td>60.964772</td>\n",
       "      <td>74.366603</td>\n",
       "      <td>!@9#%8</td>\n",
       "      <td>307.65929119739087</td>\n",
       "      <td>Standard</td>\n",
       "      <td>NaN</td>\n",
       "    </tr>\n",
       "    <tr>\n",
       "      <th>99999</th>\n",
       "      <td>August</td>\n",
       "      <td>25</td>\n",
       "      <td>Mechanic</td>\n",
       "      <td>39628.99</td>\n",
       "      <td>3359.415833</td>\n",
       "      <td>4</td>\n",
       "      <td>6</td>\n",
       "      <td>0.07</td>\n",
       "      <td>2</td>\n",
       "      <td>18</td>\n",
       "      <td>...</td>\n",
       "      <td>502.38</td>\n",
       "      <td>34.192463</td>\n",
       "      <td>382.0</td>\n",
       "      <td>No</td>\n",
       "      <td>35.104023</td>\n",
       "      <td>167.163865</td>\n",
       "      <td>!@9#%8</td>\n",
       "      <td>393.6736955618808</td>\n",
       "      <td>Poor</td>\n",
       "      <td>NaN</td>\n",
       "    </tr>\n",
       "  </tbody>\n",
       "</table>\n",
       "<p>7600 rows × 23 columns</p>\n",
       "</div>"
      ],
      "text/plain": [
       "         Month   Age     Occupation  Annual_Income  Monthly_Inhand_Salary  \\\n",
       "5         June    23      Scientist       19114.12                    NaN   \n",
       "16     January    34        Unknown      143162.64           12187.220000   \n",
       "32     January    21      Developer       35547.71            2853.309167   \n",
       "47      August    31         Lawyer       73928.46            5988.705000   \n",
       "54        July  <NA>         Lawyer    10909427.00                    NaN   \n",
       "...        ...   ...            ...            ...                    ...   \n",
       "99947    April    33  Media_Manager       59146.36            4908.863333   \n",
       "99980      May    49         Writer       37188.10            3097.008333   \n",
       "99982     July    50         Writer       37188.10            3097.008333   \n",
       "99989     June    28        Unknown       20002.88            1929.906667   \n",
       "99999   August    25       Mechanic       39628.99            3359.415833   \n",
       "\n",
       "       Num_Bank_Accounts  Num_Credit_Card  Interest_Rate  Num_of_Loan  \\\n",
       "5                      3                4           0.03            4   \n",
       "16                     1                5           0.08            3   \n",
       "32                     7                5           0.05            0   \n",
       "47                     4                5           0.08            0   \n",
       "54                     0                1           0.08            2   \n",
       "...                  ...              ...            ...          ...   \n",
       "99947                  2                5           0.06            1   \n",
       "99980                  1                4           0.05            3   \n",
       "99982                  1                4           0.05            3   \n",
       "99989                 10                8           0.29            5   \n",
       "99999                  4                6           0.07            2   \n",
       "\n",
       "       Delay_from_due_date  ...  Outstanding_Debt  Credit_Utilization_Ratio  \\\n",
       "5                        8  ...            809.98                 27.262259   \n",
       "16                       5  ...           1303.01                 28.616735   \n",
       "32                       5  ...            943.86                 39.797764   \n",
       "47                       8  ...            548.20                 31.580990   \n",
       "54                       0  ...            352.16                 26.947565   \n",
       "...                    ...  ...               ...                       ...   \n",
       "99947                    8  ...            418.03                 28.091458   \n",
       "99980                    7  ...            620.64                 27.495263   \n",
       "99982                    7  ...            620.64                 38.850680   \n",
       "99989                   33  ...           3571.70                 33.359987   \n",
       "99999                   18  ...            502.38                 34.192463   \n",
       "\n",
       "       Credit_History_Age  Payment_of_Min_Amount  Total_EMI_per_month  \\\n",
       "5                   270.0                     No            49.574949   \n",
       "16                  213.0                     No           246.992319   \n",
       "32                  368.0                    Yes             0.000000   \n",
       "47                  390.0                     No             0.000000   \n",
       "54                  373.0                     No           911.220179   \n",
       "...                   ...                    ...                  ...   \n",
       "99947               244.0                     No            26.778419   \n",
       "99980               361.0                     No            84.205949   \n",
       "99982               363.0                     No            84.205949   \n",
       "99989                73.0                    Yes            60.964772   \n",
       "99999               382.0                     No            35.104023   \n",
       "\n",
       "       Amount_invested_monthly Payment_Behaviour     Monthly_Balance  \\\n",
       "5                    62.430172            !@9#%8   340.4792117872438   \n",
       "16                  168.413703            !@9#%8  1043.3159778669492   \n",
       "32                  276.725394            !@9#%8  288.60552234930395   \n",
       "47                   42.635590            !@9#%8   796.2349097481042   \n",
       "54                  930.391898            !@9#%8  326.24183015224526   \n",
       "...                        ...               ...                 ...   \n",
       "99947               183.584149            !@9#%8   530.5237651921971   \n",
       "99980                78.497727            !@9#%8  396.99715733756386   \n",
       "99982                82.825572            !@9#%8  412.66931176433695   \n",
       "99989                74.366603            !@9#%8  307.65929119739087   \n",
       "99999               167.163865            !@9#%8   393.6736955618808   \n",
       "\n",
       "       Credit_Score Num_Bank_Account  \n",
       "5              Good              NaN  \n",
       "16             Good              NaN  \n",
       "32         Standard              NaN  \n",
       "47             Good              NaN  \n",
       "54             Good              NaN  \n",
       "...             ...              ...  \n",
       "99947      Standard              NaN  \n",
       "99980      Standard              NaN  \n",
       "99982          Good              NaN  \n",
       "99989      Standard              NaN  \n",
       "99999          Poor              NaN  \n",
       "\n",
       "[7600 rows x 23 columns]"
      ]
     },
     "execution_count": 194,
     "metadata": {},
     "output_type": "execute_result"
    }
   ],
   "source": [
    "payment_behaviour_weird"
   ]
  },
  {
   "cell_type": "markdown",
   "id": "3464d88d-be1c-4cd3-b535-c62288f4a0ea",
   "metadata": {},
   "source": [
    "- This [reference](https://www.capitalone.com/learn-grow/money-management/payment-history/#:~:text=Credit%20scores%20help%20lenders%20make,paying%20your%20bills%20on%20time) shown that payment behaviour affecting credit score.\n",
    "\n",
    "- Thus, I will analyze payment behaviour using credit score"
   ]
  },
  {
   "cell_type": "code",
   "execution_count": 195,
   "id": "38aab4c2-c50f-467c-9019-b09f359e7aad",
   "metadata": {},
   "outputs": [
    {
     "data": {
      "text/plain": [
       "Credit_Score\n",
       "Standard    0.525263\n",
       "Poor        0.292763\n",
       "Good        0.181974\n",
       "Name: proportion, dtype: float64"
      ]
     },
     "execution_count": 195,
     "metadata": {},
     "output_type": "execute_result"
    }
   ],
   "source": [
    "payment_behaviour_weird[\"Credit_Score\"].value_counts(normalize=True)"
   ]
  },
  {
   "cell_type": "code",
   "execution_count": 196,
   "id": "7a7d8982-01da-4380-b094-bd247f8c520b",
   "metadata": {},
   "outputs": [
    {
     "data": {
      "text/plain": [
       "Credit_Score\n",
       "Standard    0.532273\n",
       "Poor        0.289751\n",
       "Good        0.177976\n",
       "Name: proportion, dtype: float64"
      ]
     },
     "execution_count": 196,
     "metadata": {},
     "output_type": "execute_result"
    }
   ],
   "source": [
    "df_clean.drop(\n",
    "\tindex=payment_behaviour_weird.index\n",
    ")[\"Credit_Score\"].value_counts(normalize=True)"
   ]
  },
  {
   "cell_type": "markdown",
   "id": "13105ed3-831d-422e-95f3-6ab0a19d73dd",
   "metadata": {},
   "source": [
    "- The proportion of credit scores on credit limit changed with and without underscore are similar.\n",
    "- Thus, this data appear in a \"normal way\"\n",
    "- In this step, I will identify changed credit limit with underscore as missing values"
   ]
  },
  {
   "cell_type": "markdown",
   "id": "6e93c414-56b6-4041-bb6d-4d8842dd7542",
   "metadata": {},
   "source": [
    "#### Assign weird payment behaviour with missing values"
   ]
  },
  {
   "cell_type": "code",
   "execution_count": 197,
   "id": "04fec548-8c64-48de-99c5-adb5ce74e019",
   "metadata": {},
   "outputs": [],
   "source": [
    "df_clean.loc[\n",
    "\tpayment_behaviour_weird.index,\n",
    "\t\"Payment_Behaviour\"\n",
    "] = np.nan"
   ]
  },
  {
   "cell_type": "markdown",
   "id": "69b839ab-7df0-4aeb-b848-1ae542e683b4",
   "metadata": {},
   "source": [
    "### Monthly Balance"
   ]
  },
  {
   "cell_type": "code",
   "execution_count": 203,
   "id": "efcf752a-98a6-4684-85ab-a9c4ce904fc3",
   "metadata": {},
   "outputs": [
    {
     "data": {
      "text/plain": [
       "{'-', '.', '_'}"
      ]
     },
     "execution_count": 203,
     "metadata": {},
     "output_type": "execute_result"
    }
   ],
   "source": [
    "get_unique_chars_on_numerical_series(df_clean[\"Monthly_Balance\"])"
   ]
  },
  {
   "cell_type": "markdown",
   "id": "e281fe97-ccc3-44af-a36a-b9c8b4d22242",
   "metadata": {},
   "source": [
    "- Some values in monthly balance contain 3 different types of char, such as: -, ., and _\n",
    "- This [reference](https://www.chase.com/personal/credit-cards/education/basics/negative-credit-card-balance#:~:text=A%20negative%20credit%20card%20balance%20is%20when%20your%20balance%20is,credit%20returned%20to%20your%20account) says that negative monthly balance means that credit card company owes customers with negative monthly balance\n",
    "- . in the data shows that the values are floating point\n",
    "- Thus, the only problem of this column has is that some values contain underscore"
   ]
  },
  {
   "cell_type": "code",
   "execution_count": 204,
   "id": "9dd1245b-55b2-47bf-b301-2af215d80fdb",
   "metadata": {},
   "outputs": [],
   "source": [
    "monthly_balance_with_underscore_index = get_rows_index_with_specific_char(\n",
    "\tdf_clean[\"Monthly_Balance\"], \n",
    "\t\"_\"\n",
    ")"
   ]
  },
  {
   "cell_type": "code",
   "execution_count": 207,
   "id": "884254a7-aca8-468e-8f46-18f0ad364dec",
   "metadata": {},
   "outputs": [],
   "source": [
    "monthly_balance_with_underscore = df_clean.loc[\n",
    "\tmonthly_balance_with_underscore_index\n",
    "]"
   ]
  },
  {
   "cell_type": "code",
   "execution_count": 208,
   "id": "99973331-634b-4a0d-ae76-56e67ac52df9",
   "metadata": {},
   "outputs": [
    {
     "data": {
      "text/plain": [
       "5545     __-333333333333333333333333333__\n",
       "26177    __-333333333333333333333333333__\n",
       "29158    __-333333333333333333333333333__\n",
       "35570    __-333333333333333333333333333__\n",
       "38622    __-333333333333333333333333333__\n",
       "60009    __-333333333333333333333333333__\n",
       "75251    __-333333333333333333333333333__\n",
       "82918    __-333333333333333333333333333__\n",
       "83255    __-333333333333333333333333333__\n",
       "Name: Monthly_Balance, dtype: object"
      ]
     },
     "execution_count": 208,
     "metadata": {},
     "output_type": "execute_result"
    }
   ],
   "source": [
    "monthly_balance_with_underscore[\"Monthly_Balance\"]"
   ]
  },
  {
   "cell_type": "markdown",
   "id": "8b7d90de-f743-4b0d-8582-bc4e6c04128b",
   "metadata": {},
   "source": [
    "- Findings above shown that there are some values appear in a way that not supposed to be.\n",
    "- There are only 9 rows with weird monthly balance value \n",
    "- Thus, it's hard to find any pattern to see why did these value appear in the dataframe.\n",
    "- In this, step I will assing missing value to these rows"
   ]
  },
  {
   "cell_type": "markdown",
   "id": "04f3f2a3-ac48-4e4c-9041-0ec4781613c1",
   "metadata": {},
   "source": [
    "#### Assign missing values to row with weird monthly balance"
   ]
  },
  {
   "cell_type": "code",
   "execution_count": 210,
   "id": "8a0ddccd-e664-4b48-8ed7-2038b88c37a8",
   "metadata": {},
   "outputs": [],
   "source": [
    "df_clean.loc[\n",
    "\tmonthly_balance_with_underscore_index,\n",
    "\t\"Monthly_Balance\"\n",
    "] = np.nan"
   ]
  },
  {
   "cell_type": "markdown",
   "id": "aab559fc-15b7-4f38-b75e-bb3f725d6431",
   "metadata": {},
   "source": [
    "#### change data type of monthly balance into float"
   ]
  },
  {
   "cell_type": "code",
   "execution_count": 212,
   "id": "fc5de6ed-34b0-4643-bde0-56366500adf0",
   "metadata": {},
   "outputs": [],
   "source": [
    "df_clean[\"Monthly_Balance\"] = change_series_data_type(df_clean[\"Monthly_Balance\"], \"float64\")"
   ]
  },
  {
   "cell_type": "markdown",
   "id": "a33a030b-7686-4b1c-8e3e-ce5b808c51fc",
   "metadata": {},
   "source": [
    "## Duplicated Rows Identification"
   ]
  },
  {
   "cell_type": "code",
   "execution_count": 214,
   "id": "e1c78296-fc76-4263-a6b7-db16e3353b0b",
   "metadata": {},
   "outputs": [
    {
     "data": {
      "text/plain": [
       "0"
      ]
     },
     "execution_count": 214,
     "metadata": {},
     "output_type": "execute_result"
    }
   ],
   "source": [
    "df_clean.duplicated().sum()"
   ]
  },
  {
   "cell_type": "code",
   "execution_count": 215,
   "id": "665fcc22-a6b0-40eb-8a4b-3629946a93f1",
   "metadata": {},
   "outputs": [
    {
     "data": {
      "text/plain": [
       "0"
      ]
     },
     "execution_count": 215,
     "metadata": {},
     "output_type": "execute_result"
    }
   ],
   "source": [
    "df_clean.duplicated().sum()"
   ]
  },
  {
   "cell_type": "markdown",
   "id": "334aee5d-50cd-4407-ab2e-80a73a10b49b",
   "metadata": {},
   "source": [
    "> There's no duplicated rows"
   ]
  },
  {
   "cell_type": "markdown",
   "id": "a946561b-06eb-44a5-bc25-ae28ea402142",
   "metadata": {},
   "source": [
    "## Missing Values Identification"
   ]
  },
  {
   "cell_type": "code",
   "execution_count": 216,
   "id": "ab4d437f-027c-40d1-b7dc-77da90e935ad",
   "metadata": {},
   "outputs": [
    {
     "data": {
      "text/plain": [
       "Month                            0\n",
       "Age                           5825\n",
       "Occupation                       0\n",
       "Annual_Income                    0\n",
       "Monthly_Inhand_Salary        15002\n",
       "Num_Bank_Accounts                0\n",
       "Num_Credit_Card                  0\n",
       "Interest_Rate                    0\n",
       "Num_of_Loan                   8661\n",
       "Delay_from_due_date              0\n",
       "Num_of_Delayed_Payment        9724\n",
       "Changed_Credit_Limit          2091\n",
       "Num_Credit_Inquiries          1965\n",
       "Outstanding_Debt                 0\n",
       "Credit_Utilization_Ratio         0\n",
       "Credit_History_Age            9030\n",
       "Payment_of_Min_Amount        12007\n",
       "Total_EMI_per_month              0\n",
       "Amount_invested_monthly       8784\n",
       "Payment_Behaviour             7600\n",
       "Monthly_Balance               1209\n",
       "Credit_Score                     0\n",
       "Num_Bank_Account            100000\n",
       "dtype: int64"
      ]
     },
     "execution_count": 216,
     "metadata": {},
     "output_type": "execute_result"
    }
   ],
   "source": [
    "df_clean.isna().sum()"
   ]
  },
  {
   "cell_type": "markdown",
   "id": "008500a4-8f5a-4983-9bab-e04d47e3be0b",
   "metadata": {},
   "source": [
    "- There are some missing values in Monthly_Inhand_Salary, Type_of_Loan, Num_of_Delayed_Payment, Num_Credit_Inquiries, Credit_History_Age, Amount_invested_monthly, Monthly_Balance\n",
    "\n",
    "- I will examine whether these miising values are MCAR, MAR, or MNAR"
   ]
  }
 ],
 "metadata": {
  "kernelspec": {
   "display_name": "main",
   "language": "python",
   "name": "main"
  },
  "language_info": {
   "codemirror_mode": {
    "name": "ipython",
    "version": 3
   },
   "file_extension": ".py",
   "mimetype": "text/x-python",
   "name": "python",
   "nbconvert_exporter": "python",
   "pygments_lexer": "ipython3",
   "version": "3.9.19"
  }
 },
 "nbformat": 4,
 "nbformat_minor": 5
}
